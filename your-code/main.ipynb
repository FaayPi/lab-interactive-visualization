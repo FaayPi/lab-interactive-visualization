{
 "cells": [
  {
   "cell_type": "markdown",
   "metadata": {},
   "source": [
    "# Interactive Visualization Lab\n",
    "\n",
    "Complete the following set of exercises to solidify your knowledge of interactive visualization using Plotly, Cufflinks, and IPyWidgets."
   ]
  },
  {
   "cell_type": "code",
   "execution_count": 4,
   "metadata": {},
   "outputs": [
    {
     "data": {
      "text/html": [
       "        <script type=\"text/javascript\">\n",
       "        window.PlotlyConfig = {MathJaxConfig: 'local'};\n",
       "        if (window.MathJax && window.MathJax.Hub && window.MathJax.Hub.Config) {window.MathJax.Hub.Config({SVG: {font: \"STIX-Web\"}});}\n",
       "        </script>\n",
       "        <script type=\"module\">import \"https://cdn.plot.ly/plotly-3.0.1.min\"</script>\n",
       "        "
      ]
     },
     "metadata": {},
     "output_type": "display_data"
    }
   ],
   "source": [
    "import pandas as pd\n",
    "import plotly as py\n",
    "import cufflinks as cf\n",
    "from ipywidgets import interact\n",
    "\n",
    "# Importing Plotly Express for high-level, easy-to-use interactive visualizations\n",
    "import plotly.express as px\n",
    "\n",
    "cf.go_offline()"
   ]
  },
  {
   "cell_type": "code",
   "execution_count": 5,
   "metadata": {},
   "outputs": [
    {
     "data": {
      "text/html": [
       "<div>\n",
       "<style scoped>\n",
       "    .dataframe tbody tr th:only-of-type {\n",
       "        vertical-align: middle;\n",
       "    }\n",
       "\n",
       "    .dataframe tbody tr th {\n",
       "        vertical-align: top;\n",
       "    }\n",
       "\n",
       "    .dataframe thead th {\n",
       "        text-align: right;\n",
       "    }\n",
       "</style>\n",
       "<table border=\"1\" class=\"dataframe\">\n",
       "  <thead>\n",
       "    <tr style=\"text-align: right;\">\n",
       "      <th></th>\n",
       "      <th>InvoiceNo</th>\n",
       "      <th>InvoiceDate</th>\n",
       "      <th>StockCode</th>\n",
       "      <th>Description</th>\n",
       "      <th>Quantity</th>\n",
       "      <th>UnitPrice</th>\n",
       "      <th>Revenue</th>\n",
       "      <th>CustomerID</th>\n",
       "      <th>Country</th>\n",
       "    </tr>\n",
       "  </thead>\n",
       "  <tbody>\n",
       "    <tr>\n",
       "      <th>0</th>\n",
       "      <td>536365</td>\n",
       "      <td>2010-12-01 08:26:00</td>\n",
       "      <td>85123A</td>\n",
       "      <td>CREAM HANGING HEART T-LIGHT HOLDER</td>\n",
       "      <td>6</td>\n",
       "      <td>2.55</td>\n",
       "      <td>15.3</td>\n",
       "      <td>17850</td>\n",
       "      <td>United Kingdom</td>\n",
       "    </tr>\n",
       "    <tr>\n",
       "      <th>1</th>\n",
       "      <td>536373</td>\n",
       "      <td>2010-12-01 09:02:00</td>\n",
       "      <td>85123A</td>\n",
       "      <td>CREAM HANGING HEART T-LIGHT HOLDER</td>\n",
       "      <td>6</td>\n",
       "      <td>2.55</td>\n",
       "      <td>15.3</td>\n",
       "      <td>17850</td>\n",
       "      <td>United Kingdom</td>\n",
       "    </tr>\n",
       "    <tr>\n",
       "      <th>2</th>\n",
       "      <td>536375</td>\n",
       "      <td>2010-12-01 09:32:00</td>\n",
       "      <td>85123A</td>\n",
       "      <td>CREAM HANGING HEART T-LIGHT HOLDER</td>\n",
       "      <td>6</td>\n",
       "      <td>2.55</td>\n",
       "      <td>15.3</td>\n",
       "      <td>17850</td>\n",
       "      <td>United Kingdom</td>\n",
       "    </tr>\n",
       "    <tr>\n",
       "      <th>3</th>\n",
       "      <td>536390</td>\n",
       "      <td>2010-12-01 10:19:00</td>\n",
       "      <td>85123A</td>\n",
       "      <td>CREAM HANGING HEART T-LIGHT HOLDER</td>\n",
       "      <td>64</td>\n",
       "      <td>2.55</td>\n",
       "      <td>163.2</td>\n",
       "      <td>17511</td>\n",
       "      <td>United Kingdom</td>\n",
       "    </tr>\n",
       "    <tr>\n",
       "      <th>4</th>\n",
       "      <td>536394</td>\n",
       "      <td>2010-12-01 10:39:00</td>\n",
       "      <td>85123A</td>\n",
       "      <td>CREAM HANGING HEART T-LIGHT HOLDER</td>\n",
       "      <td>32</td>\n",
       "      <td>2.55</td>\n",
       "      <td>81.6</td>\n",
       "      <td>13408</td>\n",
       "      <td>United Kingdom</td>\n",
       "    </tr>\n",
       "  </tbody>\n",
       "</table>\n",
       "</div>"
      ],
      "text/plain": [
       "   InvoiceNo         InvoiceDate StockCode  \\\n",
       "0     536365 2010-12-01 08:26:00    85123A   \n",
       "1     536373 2010-12-01 09:02:00    85123A   \n",
       "2     536375 2010-12-01 09:32:00    85123A   \n",
       "3     536390 2010-12-01 10:19:00    85123A   \n",
       "4     536394 2010-12-01 10:39:00    85123A   \n",
       "\n",
       "                          Description  Quantity  UnitPrice  Revenue  \\\n",
       "0  CREAM HANGING HEART T-LIGHT HOLDER         6       2.55     15.3   \n",
       "1  CREAM HANGING HEART T-LIGHT HOLDER         6       2.55     15.3   \n",
       "2  CREAM HANGING HEART T-LIGHT HOLDER         6       2.55     15.3   \n",
       "3  CREAM HANGING HEART T-LIGHT HOLDER        64       2.55    163.2   \n",
       "4  CREAM HANGING HEART T-LIGHT HOLDER        32       2.55     81.6   \n",
       "\n",
       "   CustomerID         Country  \n",
       "0       17850  United Kingdom  \n",
       "1       17850  United Kingdom  \n",
       "2       17850  United Kingdom  \n",
       "3       17511  United Kingdom  \n",
       "4       13408  United Kingdom  "
      ]
     },
     "execution_count": 5,
     "metadata": {},
     "output_type": "execute_result"
    }
   ],
   "source": [
    "data = pd.read_excel(\"C:/Users/fee10/OneDrive/Ironhack/Module2/labs/lab-interactive-visualization/data/Online Retail.xlsx\")\n",
    "\n",
    "data.head()\n"
   ]
  },
  {
   "cell_type": "markdown",
   "metadata": {},
   "source": [
    "## 1. Create an interactive bar chart showing total quantity and revenue by country (excluding United Kingdom) for the month of April 2011."
   ]
  },
  {
   "cell_type": "code",
   "execution_count": 11,
   "metadata": {},
   "outputs": [],
   "source": [
    "data[\"InvoiceDate\"] = pd.to_datetime(data[\"InvoiceDate\"])\n",
    "\n",
    "data[\"Months\"] = data[\"InvoiceDate\"].dt.strftime(\"%m/%Y\")\n",
    "\n",
    "april_2011_df = data[(data[\"InvoiceDate\"].dt.month == 4) & (data[\"InvoiceDate\"].dt.year == 2011) & (data['Country'] != \"United Kingdom\")]\n"
   ]
  },
  {
   "cell_type": "code",
   "execution_count": 13,
   "metadata": {},
   "outputs": [
    {
     "data": {
      "application/vnd.plotly.v1+json": {
       "config": {
        "plotlyServerURL": "https://plot.ly"
       },
       "data": [
        {
         "alignmentgroup": "True",
         "hovertemplate": "Metric=Quantity<br>Country=%{x}<br>Total=%{y}<extra></extra>",
         "legendgroup": "Quantity",
         "marker": {
          "color": "#636efa",
          "pattern": {
           "shape": ""
          }
         },
         "name": "Quantity",
         "offsetgroup": "Quantity",
         "orientation": "v",
         "showlegend": true,
         "textposition": "auto",
         "type": "bar",
         "x": [
          "Australia",
          "Austria",
          "Belgium",
          "Brazil",
          "Channel Islands",
          "EIRE",
          "Finland",
          "France",
          "Germany",
          "Greece",
          "Iceland",
          "Italy",
          "Japan",
          "Netherlands",
          "Poland",
          "Portugal",
          "Singapore",
          "Spain",
          "Sweden",
          "Switzerland",
          "USA"
         ],
         "xaxis": "x",
         "y": {
          "bdata": "AAAAAAAAbEAAAAAAAEBzQAAAAAAASJJAAAAAAABAdkAAAAAAAABYQAAAAAAAIbBAAAAAAABQiUAAAAAAALKhQAAAAAAARrZAAAAAAABAcEAAAAAAADB+QAAAAAAAaIRAAAAAAAB6v0AAAAAAAIibQAAAAAAAAHtAAAAAAAC4jUAAAAAAAKCVQAAAAAAAoI1AAAAAAAAgc0AAAAAAAHCLQAAAAAAAIGFA",
          "dtype": "f8"
         },
         "yaxis": "y"
        },
        {
         "alignmentgroup": "True",
         "hovertemplate": "Metric=Revenue<br>Country=%{x}<br>Total=%{y}<extra></extra>",
         "legendgroup": "Revenue",
         "marker": {
          "color": "#EF553B",
          "pattern": {
           "shape": ""
          }
         },
         "name": "Revenue",
         "offsetgroup": "Revenue",
         "orientation": "v",
         "showlegend": true,
         "textposition": "auto",
         "type": "bar",
         "x": [
          "Australia",
          "Austria",
          "Belgium",
          "Brazil",
          "Channel Islands",
          "EIRE",
          "Finland",
          "France",
          "Germany",
          "Greece",
          "Iceland",
          "Italy",
          "Japan",
          "Netherlands",
          "Poland",
          "Portugal",
          "Singapore",
          "Spain",
          "Sweden",
          "Switzerland",
          "USA"
         ],
         "xaxis": "x",
         "y": {
          "bdata": "mpmZmZlZekAK16NwPUaCQFK4HoXr8ZtAZmZmZmbekUAAAAAAAGBuQAAAAACAZrxASOF6FK5jlUCF61G4nnauQOxRuB5lecVApHA9Ctfbf0AAAAAAAOKDQHE9CtejDodAAAAAAICUuUCF61G4Ho2mQB6F61G4DoZAAAAAAABfmkAUrkfheo2gQJqZmZmZtplAzczMzMxIhED2KFyPwnObQDMzMzMz/3dA",
          "dtype": "f8"
         },
         "yaxis": "y"
        }
       ],
       "layout": {
        "barmode": "group",
        "legend": {
         "title": {
          "text": "Metric"
         },
         "tracegroupgap": 0
        },
        "template": {
         "data": {
          "bar": [
           {
            "error_x": {
             "color": "#2a3f5f"
            },
            "error_y": {
             "color": "#2a3f5f"
            },
            "marker": {
             "line": {
              "color": "#E5ECF6",
              "width": 0.5
             },
             "pattern": {
              "fillmode": "overlay",
              "size": 10,
              "solidity": 0.2
             }
            },
            "type": "bar"
           }
          ],
          "barpolar": [
           {
            "marker": {
             "line": {
              "color": "#E5ECF6",
              "width": 0.5
             },
             "pattern": {
              "fillmode": "overlay",
              "size": 10,
              "solidity": 0.2
             }
            },
            "type": "barpolar"
           }
          ],
          "carpet": [
           {
            "aaxis": {
             "endlinecolor": "#2a3f5f",
             "gridcolor": "white",
             "linecolor": "white",
             "minorgridcolor": "white",
             "startlinecolor": "#2a3f5f"
            },
            "baxis": {
             "endlinecolor": "#2a3f5f",
             "gridcolor": "white",
             "linecolor": "white",
             "minorgridcolor": "white",
             "startlinecolor": "#2a3f5f"
            },
            "type": "carpet"
           }
          ],
          "choropleth": [
           {
            "colorbar": {
             "outlinewidth": 0,
             "ticks": ""
            },
            "type": "choropleth"
           }
          ],
          "contour": [
           {
            "colorbar": {
             "outlinewidth": 0,
             "ticks": ""
            },
            "colorscale": [
             [
              0,
              "#0d0887"
             ],
             [
              0.1111111111111111,
              "#46039f"
             ],
             [
              0.2222222222222222,
              "#7201a8"
             ],
             [
              0.3333333333333333,
              "#9c179e"
             ],
             [
              0.4444444444444444,
              "#bd3786"
             ],
             [
              0.5555555555555556,
              "#d8576b"
             ],
             [
              0.6666666666666666,
              "#ed7953"
             ],
             [
              0.7777777777777778,
              "#fb9f3a"
             ],
             [
              0.8888888888888888,
              "#fdca26"
             ],
             [
              1,
              "#f0f921"
             ]
            ],
            "type": "contour"
           }
          ],
          "contourcarpet": [
           {
            "colorbar": {
             "outlinewidth": 0,
             "ticks": ""
            },
            "type": "contourcarpet"
           }
          ],
          "heatmap": [
           {
            "colorbar": {
             "outlinewidth": 0,
             "ticks": ""
            },
            "colorscale": [
             [
              0,
              "#0d0887"
             ],
             [
              0.1111111111111111,
              "#46039f"
             ],
             [
              0.2222222222222222,
              "#7201a8"
             ],
             [
              0.3333333333333333,
              "#9c179e"
             ],
             [
              0.4444444444444444,
              "#bd3786"
             ],
             [
              0.5555555555555556,
              "#d8576b"
             ],
             [
              0.6666666666666666,
              "#ed7953"
             ],
             [
              0.7777777777777778,
              "#fb9f3a"
             ],
             [
              0.8888888888888888,
              "#fdca26"
             ],
             [
              1,
              "#f0f921"
             ]
            ],
            "type": "heatmap"
           }
          ],
          "histogram": [
           {
            "marker": {
             "pattern": {
              "fillmode": "overlay",
              "size": 10,
              "solidity": 0.2
             }
            },
            "type": "histogram"
           }
          ],
          "histogram2d": [
           {
            "colorbar": {
             "outlinewidth": 0,
             "ticks": ""
            },
            "colorscale": [
             [
              0,
              "#0d0887"
             ],
             [
              0.1111111111111111,
              "#46039f"
             ],
             [
              0.2222222222222222,
              "#7201a8"
             ],
             [
              0.3333333333333333,
              "#9c179e"
             ],
             [
              0.4444444444444444,
              "#bd3786"
             ],
             [
              0.5555555555555556,
              "#d8576b"
             ],
             [
              0.6666666666666666,
              "#ed7953"
             ],
             [
              0.7777777777777778,
              "#fb9f3a"
             ],
             [
              0.8888888888888888,
              "#fdca26"
             ],
             [
              1,
              "#f0f921"
             ]
            ],
            "type": "histogram2d"
           }
          ],
          "histogram2dcontour": [
           {
            "colorbar": {
             "outlinewidth": 0,
             "ticks": ""
            },
            "colorscale": [
             [
              0,
              "#0d0887"
             ],
             [
              0.1111111111111111,
              "#46039f"
             ],
             [
              0.2222222222222222,
              "#7201a8"
             ],
             [
              0.3333333333333333,
              "#9c179e"
             ],
             [
              0.4444444444444444,
              "#bd3786"
             ],
             [
              0.5555555555555556,
              "#d8576b"
             ],
             [
              0.6666666666666666,
              "#ed7953"
             ],
             [
              0.7777777777777778,
              "#fb9f3a"
             ],
             [
              0.8888888888888888,
              "#fdca26"
             ],
             [
              1,
              "#f0f921"
             ]
            ],
            "type": "histogram2dcontour"
           }
          ],
          "mesh3d": [
           {
            "colorbar": {
             "outlinewidth": 0,
             "ticks": ""
            },
            "type": "mesh3d"
           }
          ],
          "parcoords": [
           {
            "line": {
             "colorbar": {
              "outlinewidth": 0,
              "ticks": ""
             }
            },
            "type": "parcoords"
           }
          ],
          "pie": [
           {
            "automargin": true,
            "type": "pie"
           }
          ],
          "scatter": [
           {
            "fillpattern": {
             "fillmode": "overlay",
             "size": 10,
             "solidity": 0.2
            },
            "type": "scatter"
           }
          ],
          "scatter3d": [
           {
            "line": {
             "colorbar": {
              "outlinewidth": 0,
              "ticks": ""
             }
            },
            "marker": {
             "colorbar": {
              "outlinewidth": 0,
              "ticks": ""
             }
            },
            "type": "scatter3d"
           }
          ],
          "scattercarpet": [
           {
            "marker": {
             "colorbar": {
              "outlinewidth": 0,
              "ticks": ""
             }
            },
            "type": "scattercarpet"
           }
          ],
          "scattergeo": [
           {
            "marker": {
             "colorbar": {
              "outlinewidth": 0,
              "ticks": ""
             }
            },
            "type": "scattergeo"
           }
          ],
          "scattergl": [
           {
            "marker": {
             "colorbar": {
              "outlinewidth": 0,
              "ticks": ""
             }
            },
            "type": "scattergl"
           }
          ],
          "scattermap": [
           {
            "marker": {
             "colorbar": {
              "outlinewidth": 0,
              "ticks": ""
             }
            },
            "type": "scattermap"
           }
          ],
          "scattermapbox": [
           {
            "marker": {
             "colorbar": {
              "outlinewidth": 0,
              "ticks": ""
             }
            },
            "type": "scattermapbox"
           }
          ],
          "scatterpolar": [
           {
            "marker": {
             "colorbar": {
              "outlinewidth": 0,
              "ticks": ""
             }
            },
            "type": "scatterpolar"
           }
          ],
          "scatterpolargl": [
           {
            "marker": {
             "colorbar": {
              "outlinewidth": 0,
              "ticks": ""
             }
            },
            "type": "scatterpolargl"
           }
          ],
          "scatterternary": [
           {
            "marker": {
             "colorbar": {
              "outlinewidth": 0,
              "ticks": ""
             }
            },
            "type": "scatterternary"
           }
          ],
          "surface": [
           {
            "colorbar": {
             "outlinewidth": 0,
             "ticks": ""
            },
            "colorscale": [
             [
              0,
              "#0d0887"
             ],
             [
              0.1111111111111111,
              "#46039f"
             ],
             [
              0.2222222222222222,
              "#7201a8"
             ],
             [
              0.3333333333333333,
              "#9c179e"
             ],
             [
              0.4444444444444444,
              "#bd3786"
             ],
             [
              0.5555555555555556,
              "#d8576b"
             ],
             [
              0.6666666666666666,
              "#ed7953"
             ],
             [
              0.7777777777777778,
              "#fb9f3a"
             ],
             [
              0.8888888888888888,
              "#fdca26"
             ],
             [
              1,
              "#f0f921"
             ]
            ],
            "type": "surface"
           }
          ],
          "table": [
           {
            "cells": {
             "fill": {
              "color": "#EBF0F8"
             },
             "line": {
              "color": "white"
             }
            },
            "header": {
             "fill": {
              "color": "#C8D4E3"
             },
             "line": {
              "color": "white"
             }
            },
            "type": "table"
           }
          ]
         },
         "layout": {
          "annotationdefaults": {
           "arrowcolor": "#2a3f5f",
           "arrowhead": 0,
           "arrowwidth": 1
          },
          "autotypenumbers": "strict",
          "coloraxis": {
           "colorbar": {
            "outlinewidth": 0,
            "ticks": ""
           }
          },
          "colorscale": {
           "diverging": [
            [
             0,
             "#8e0152"
            ],
            [
             0.1,
             "#c51b7d"
            ],
            [
             0.2,
             "#de77ae"
            ],
            [
             0.3,
             "#f1b6da"
            ],
            [
             0.4,
             "#fde0ef"
            ],
            [
             0.5,
             "#f7f7f7"
            ],
            [
             0.6,
             "#e6f5d0"
            ],
            [
             0.7,
             "#b8e186"
            ],
            [
             0.8,
             "#7fbc41"
            ],
            [
             0.9,
             "#4d9221"
            ],
            [
             1,
             "#276419"
            ]
           ],
           "sequential": [
            [
             0,
             "#0d0887"
            ],
            [
             0.1111111111111111,
             "#46039f"
            ],
            [
             0.2222222222222222,
             "#7201a8"
            ],
            [
             0.3333333333333333,
             "#9c179e"
            ],
            [
             0.4444444444444444,
             "#bd3786"
            ],
            [
             0.5555555555555556,
             "#d8576b"
            ],
            [
             0.6666666666666666,
             "#ed7953"
            ],
            [
             0.7777777777777778,
             "#fb9f3a"
            ],
            [
             0.8888888888888888,
             "#fdca26"
            ],
            [
             1,
             "#f0f921"
            ]
           ],
           "sequentialminus": [
            [
             0,
             "#0d0887"
            ],
            [
             0.1111111111111111,
             "#46039f"
            ],
            [
             0.2222222222222222,
             "#7201a8"
            ],
            [
             0.3333333333333333,
             "#9c179e"
            ],
            [
             0.4444444444444444,
             "#bd3786"
            ],
            [
             0.5555555555555556,
             "#d8576b"
            ],
            [
             0.6666666666666666,
             "#ed7953"
            ],
            [
             0.7777777777777778,
             "#fb9f3a"
            ],
            [
             0.8888888888888888,
             "#fdca26"
            ],
            [
             1,
             "#f0f921"
            ]
           ]
          },
          "colorway": [
           "#636efa",
           "#EF553B",
           "#00cc96",
           "#ab63fa",
           "#FFA15A",
           "#19d3f3",
           "#FF6692",
           "#B6E880",
           "#FF97FF",
           "#FECB52"
          ],
          "font": {
           "color": "#2a3f5f"
          },
          "geo": {
           "bgcolor": "white",
           "lakecolor": "white",
           "landcolor": "#E5ECF6",
           "showlakes": true,
           "showland": true,
           "subunitcolor": "white"
          },
          "hoverlabel": {
           "align": "left"
          },
          "hovermode": "closest",
          "mapbox": {
           "style": "light"
          },
          "paper_bgcolor": "white",
          "plot_bgcolor": "#E5ECF6",
          "polar": {
           "angularaxis": {
            "gridcolor": "white",
            "linecolor": "white",
            "ticks": ""
           },
           "bgcolor": "#E5ECF6",
           "radialaxis": {
            "gridcolor": "white",
            "linecolor": "white",
            "ticks": ""
           }
          },
          "scene": {
           "xaxis": {
            "backgroundcolor": "#E5ECF6",
            "gridcolor": "white",
            "gridwidth": 2,
            "linecolor": "white",
            "showbackground": true,
            "ticks": "",
            "zerolinecolor": "white"
           },
           "yaxis": {
            "backgroundcolor": "#E5ECF6",
            "gridcolor": "white",
            "gridwidth": 2,
            "linecolor": "white",
            "showbackground": true,
            "ticks": "",
            "zerolinecolor": "white"
           },
           "zaxis": {
            "backgroundcolor": "#E5ECF6",
            "gridcolor": "white",
            "gridwidth": 2,
            "linecolor": "white",
            "showbackground": true,
            "ticks": "",
            "zerolinecolor": "white"
           }
          },
          "shapedefaults": {
           "line": {
            "color": "#2a3f5f"
           }
          },
          "ternary": {
           "aaxis": {
            "gridcolor": "white",
            "linecolor": "white",
            "ticks": ""
           },
           "baxis": {
            "gridcolor": "white",
            "linecolor": "white",
            "ticks": ""
           },
           "bgcolor": "#E5ECF6",
           "caxis": {
            "gridcolor": "white",
            "linecolor": "white",
            "ticks": ""
           }
          },
          "title": {
           "x": 0.05
          },
          "xaxis": {
           "automargin": true,
           "gridcolor": "white",
           "linecolor": "white",
           "ticks": "",
           "title": {
            "standoff": 15
           },
           "zerolinecolor": "white",
           "zerolinewidth": 2
          },
          "yaxis": {
           "automargin": true,
           "gridcolor": "white",
           "linecolor": "white",
           "ticks": "",
           "title": {
            "standoff": 15
           },
           "zerolinecolor": "white",
           "zerolinewidth": 2
          }
         }
        },
        "title": {
         "text": "Total Quantity and Revenue by Country (April 2011)"
        },
        "xaxis": {
         "anchor": "y",
         "domain": [
          0,
          1
         ],
         "tickangle": -45,
         "title": {
          "text": "Country"
         }
        },
        "yaxis": {
         "anchor": "x",
         "domain": [
          0,
          1
         ],
         "title": {
          "text": "Total"
         }
        }
       }
      },
      "text/html": [
       "<div>            <script src=\"https://cdnjs.cloudflare.com/ajax/libs/mathjax/2.7.5/MathJax.js?config=TeX-AMS-MML_SVG\"></script><script type=\"text/javascript\">if (window.MathJax && window.MathJax.Hub && window.MathJax.Hub.Config) {window.MathJax.Hub.Config({SVG: {font: \"STIX-Web\"}});}</script>                <script type=\"text/javascript\">window.PlotlyConfig = {MathJaxConfig: 'local'};</script>\n",
       "        <script charset=\"utf-8\" src=\"https://cdn.plot.ly/plotly-3.0.1.min.js\"></script>                <div id=\"9061c126-e5e2-4cd7-b202-b35187c1cf31\" class=\"plotly-graph-div\" style=\"height:525px; width:100%;\"></div>            <script type=\"text/javascript\">                window.PLOTLYENV=window.PLOTLYENV || {};                                if (document.getElementById(\"9061c126-e5e2-4cd7-b202-b35187c1cf31\")) {                    Plotly.newPlot(                        \"9061c126-e5e2-4cd7-b202-b35187c1cf31\",                        [{\"alignmentgroup\":\"True\",\"hovertemplate\":\"Metric=Quantity\\u003cbr\\u003eCountry=%{x}\\u003cbr\\u003eTotal=%{y}\\u003cextra\\u003e\\u003c\\u002fextra\\u003e\",\"legendgroup\":\"Quantity\",\"marker\":{\"color\":\"#636efa\",\"pattern\":{\"shape\":\"\"}},\"name\":\"Quantity\",\"offsetgroup\":\"Quantity\",\"orientation\":\"v\",\"showlegend\":true,\"textposition\":\"auto\",\"x\":[\"Australia\",\"Austria\",\"Belgium\",\"Brazil\",\"Channel Islands\",\"EIRE\",\"Finland\",\"France\",\"Germany\",\"Greece\",\"Iceland\",\"Italy\",\"Japan\",\"Netherlands\",\"Poland\",\"Portugal\",\"Singapore\",\"Spain\",\"Sweden\",\"Switzerland\",\"USA\"],\"xaxis\":\"x\",\"y\":{\"dtype\":\"f8\",\"bdata\":\"AAAAAAAAbEAAAAAAAEBzQAAAAAAASJJAAAAAAABAdkAAAAAAAABYQAAAAAAAIbBAAAAAAABQiUAAAAAAALKhQAAAAAAARrZAAAAAAABAcEAAAAAAADB+QAAAAAAAaIRAAAAAAAB6v0AAAAAAAIibQAAAAAAAAHtAAAAAAAC4jUAAAAAAAKCVQAAAAAAAoI1AAAAAAAAgc0AAAAAAAHCLQAAAAAAAIGFA\"},\"yaxis\":\"y\",\"type\":\"bar\"},{\"alignmentgroup\":\"True\",\"hovertemplate\":\"Metric=Revenue\\u003cbr\\u003eCountry=%{x}\\u003cbr\\u003eTotal=%{y}\\u003cextra\\u003e\\u003c\\u002fextra\\u003e\",\"legendgroup\":\"Revenue\",\"marker\":{\"color\":\"#EF553B\",\"pattern\":{\"shape\":\"\"}},\"name\":\"Revenue\",\"offsetgroup\":\"Revenue\",\"orientation\":\"v\",\"showlegend\":true,\"textposition\":\"auto\",\"x\":[\"Australia\",\"Austria\",\"Belgium\",\"Brazil\",\"Channel Islands\",\"EIRE\",\"Finland\",\"France\",\"Germany\",\"Greece\",\"Iceland\",\"Italy\",\"Japan\",\"Netherlands\",\"Poland\",\"Portugal\",\"Singapore\",\"Spain\",\"Sweden\",\"Switzerland\",\"USA\"],\"xaxis\":\"x\",\"y\":{\"dtype\":\"f8\",\"bdata\":\"mpmZmZlZekAK16NwPUaCQFK4HoXr8ZtAZmZmZmbekUAAAAAAAGBuQAAAAACAZrxASOF6FK5jlUCF61G4nnauQOxRuB5lecVApHA9Ctfbf0AAAAAAAOKDQHE9CtejDodAAAAAAICUuUCF61G4Ho2mQB6F61G4DoZAAAAAAABfmkAUrkfheo2gQJqZmZmZtplAzczMzMxIhED2KFyPwnObQDMzMzMz\\u002f3dA\"},\"yaxis\":\"y\",\"type\":\"bar\"}],                        {\"template\":{\"data\":{\"histogram2dcontour\":[{\"type\":\"histogram2dcontour\",\"colorbar\":{\"outlinewidth\":0,\"ticks\":\"\"},\"colorscale\":[[0.0,\"#0d0887\"],[0.1111111111111111,\"#46039f\"],[0.2222222222222222,\"#7201a8\"],[0.3333333333333333,\"#9c179e\"],[0.4444444444444444,\"#bd3786\"],[0.5555555555555556,\"#d8576b\"],[0.6666666666666666,\"#ed7953\"],[0.7777777777777778,\"#fb9f3a\"],[0.8888888888888888,\"#fdca26\"],[1.0,\"#f0f921\"]]}],\"choropleth\":[{\"type\":\"choropleth\",\"colorbar\":{\"outlinewidth\":0,\"ticks\":\"\"}}],\"histogram2d\":[{\"type\":\"histogram2d\",\"colorbar\":{\"outlinewidth\":0,\"ticks\":\"\"},\"colorscale\":[[0.0,\"#0d0887\"],[0.1111111111111111,\"#46039f\"],[0.2222222222222222,\"#7201a8\"],[0.3333333333333333,\"#9c179e\"],[0.4444444444444444,\"#bd3786\"],[0.5555555555555556,\"#d8576b\"],[0.6666666666666666,\"#ed7953\"],[0.7777777777777778,\"#fb9f3a\"],[0.8888888888888888,\"#fdca26\"],[1.0,\"#f0f921\"]]}],\"heatmap\":[{\"type\":\"heatmap\",\"colorbar\":{\"outlinewidth\":0,\"ticks\":\"\"},\"colorscale\":[[0.0,\"#0d0887\"],[0.1111111111111111,\"#46039f\"],[0.2222222222222222,\"#7201a8\"],[0.3333333333333333,\"#9c179e\"],[0.4444444444444444,\"#bd3786\"],[0.5555555555555556,\"#d8576b\"],[0.6666666666666666,\"#ed7953\"],[0.7777777777777778,\"#fb9f3a\"],[0.8888888888888888,\"#fdca26\"],[1.0,\"#f0f921\"]]}],\"contourcarpet\":[{\"type\":\"contourcarpet\",\"colorbar\":{\"outlinewidth\":0,\"ticks\":\"\"}}],\"contour\":[{\"type\":\"contour\",\"colorbar\":{\"outlinewidth\":0,\"ticks\":\"\"},\"colorscale\":[[0.0,\"#0d0887\"],[0.1111111111111111,\"#46039f\"],[0.2222222222222222,\"#7201a8\"],[0.3333333333333333,\"#9c179e\"],[0.4444444444444444,\"#bd3786\"],[0.5555555555555556,\"#d8576b\"],[0.6666666666666666,\"#ed7953\"],[0.7777777777777778,\"#fb9f3a\"],[0.8888888888888888,\"#fdca26\"],[1.0,\"#f0f921\"]]}],\"surface\":[{\"type\":\"surface\",\"colorbar\":{\"outlinewidth\":0,\"ticks\":\"\"},\"colorscale\":[[0.0,\"#0d0887\"],[0.1111111111111111,\"#46039f\"],[0.2222222222222222,\"#7201a8\"],[0.3333333333333333,\"#9c179e\"],[0.4444444444444444,\"#bd3786\"],[0.5555555555555556,\"#d8576b\"],[0.6666666666666666,\"#ed7953\"],[0.7777777777777778,\"#fb9f3a\"],[0.8888888888888888,\"#fdca26\"],[1.0,\"#f0f921\"]]}],\"mesh3d\":[{\"type\":\"mesh3d\",\"colorbar\":{\"outlinewidth\":0,\"ticks\":\"\"}}],\"scatter\":[{\"fillpattern\":{\"fillmode\":\"overlay\",\"size\":10,\"solidity\":0.2},\"type\":\"scatter\"}],\"parcoords\":[{\"type\":\"parcoords\",\"line\":{\"colorbar\":{\"outlinewidth\":0,\"ticks\":\"\"}}}],\"scatterpolargl\":[{\"type\":\"scatterpolargl\",\"marker\":{\"colorbar\":{\"outlinewidth\":0,\"ticks\":\"\"}}}],\"bar\":[{\"error_x\":{\"color\":\"#2a3f5f\"},\"error_y\":{\"color\":\"#2a3f5f\"},\"marker\":{\"line\":{\"color\":\"#E5ECF6\",\"width\":0.5},\"pattern\":{\"fillmode\":\"overlay\",\"size\":10,\"solidity\":0.2}},\"type\":\"bar\"}],\"scattergeo\":[{\"type\":\"scattergeo\",\"marker\":{\"colorbar\":{\"outlinewidth\":0,\"ticks\":\"\"}}}],\"scatterpolar\":[{\"type\":\"scatterpolar\",\"marker\":{\"colorbar\":{\"outlinewidth\":0,\"ticks\":\"\"}}}],\"histogram\":[{\"marker\":{\"pattern\":{\"fillmode\":\"overlay\",\"size\":10,\"solidity\":0.2}},\"type\":\"histogram\"}],\"scattergl\":[{\"type\":\"scattergl\",\"marker\":{\"colorbar\":{\"outlinewidth\":0,\"ticks\":\"\"}}}],\"scatter3d\":[{\"type\":\"scatter3d\",\"line\":{\"colorbar\":{\"outlinewidth\":0,\"ticks\":\"\"}},\"marker\":{\"colorbar\":{\"outlinewidth\":0,\"ticks\":\"\"}}}],\"scattermap\":[{\"type\":\"scattermap\",\"marker\":{\"colorbar\":{\"outlinewidth\":0,\"ticks\":\"\"}}}],\"scattermapbox\":[{\"type\":\"scattermapbox\",\"marker\":{\"colorbar\":{\"outlinewidth\":0,\"ticks\":\"\"}}}],\"scatterternary\":[{\"type\":\"scatterternary\",\"marker\":{\"colorbar\":{\"outlinewidth\":0,\"ticks\":\"\"}}}],\"scattercarpet\":[{\"type\":\"scattercarpet\",\"marker\":{\"colorbar\":{\"outlinewidth\":0,\"ticks\":\"\"}}}],\"carpet\":[{\"aaxis\":{\"endlinecolor\":\"#2a3f5f\",\"gridcolor\":\"white\",\"linecolor\":\"white\",\"minorgridcolor\":\"white\",\"startlinecolor\":\"#2a3f5f\"},\"baxis\":{\"endlinecolor\":\"#2a3f5f\",\"gridcolor\":\"white\",\"linecolor\":\"white\",\"minorgridcolor\":\"white\",\"startlinecolor\":\"#2a3f5f\"},\"type\":\"carpet\"}],\"table\":[{\"cells\":{\"fill\":{\"color\":\"#EBF0F8\"},\"line\":{\"color\":\"white\"}},\"header\":{\"fill\":{\"color\":\"#C8D4E3\"},\"line\":{\"color\":\"white\"}},\"type\":\"table\"}],\"barpolar\":[{\"marker\":{\"line\":{\"color\":\"#E5ECF6\",\"width\":0.5},\"pattern\":{\"fillmode\":\"overlay\",\"size\":10,\"solidity\":0.2}},\"type\":\"barpolar\"}],\"pie\":[{\"automargin\":true,\"type\":\"pie\"}]},\"layout\":{\"autotypenumbers\":\"strict\",\"colorway\":[\"#636efa\",\"#EF553B\",\"#00cc96\",\"#ab63fa\",\"#FFA15A\",\"#19d3f3\",\"#FF6692\",\"#B6E880\",\"#FF97FF\",\"#FECB52\"],\"font\":{\"color\":\"#2a3f5f\"},\"hovermode\":\"closest\",\"hoverlabel\":{\"align\":\"left\"},\"paper_bgcolor\":\"white\",\"plot_bgcolor\":\"#E5ECF6\",\"polar\":{\"bgcolor\":\"#E5ECF6\",\"angularaxis\":{\"gridcolor\":\"white\",\"linecolor\":\"white\",\"ticks\":\"\"},\"radialaxis\":{\"gridcolor\":\"white\",\"linecolor\":\"white\",\"ticks\":\"\"}},\"ternary\":{\"bgcolor\":\"#E5ECF6\",\"aaxis\":{\"gridcolor\":\"white\",\"linecolor\":\"white\",\"ticks\":\"\"},\"baxis\":{\"gridcolor\":\"white\",\"linecolor\":\"white\",\"ticks\":\"\"},\"caxis\":{\"gridcolor\":\"white\",\"linecolor\":\"white\",\"ticks\":\"\"}},\"coloraxis\":{\"colorbar\":{\"outlinewidth\":0,\"ticks\":\"\"}},\"colorscale\":{\"sequential\":[[0.0,\"#0d0887\"],[0.1111111111111111,\"#46039f\"],[0.2222222222222222,\"#7201a8\"],[0.3333333333333333,\"#9c179e\"],[0.4444444444444444,\"#bd3786\"],[0.5555555555555556,\"#d8576b\"],[0.6666666666666666,\"#ed7953\"],[0.7777777777777778,\"#fb9f3a\"],[0.8888888888888888,\"#fdca26\"],[1.0,\"#f0f921\"]],\"sequentialminus\":[[0.0,\"#0d0887\"],[0.1111111111111111,\"#46039f\"],[0.2222222222222222,\"#7201a8\"],[0.3333333333333333,\"#9c179e\"],[0.4444444444444444,\"#bd3786\"],[0.5555555555555556,\"#d8576b\"],[0.6666666666666666,\"#ed7953\"],[0.7777777777777778,\"#fb9f3a\"],[0.8888888888888888,\"#fdca26\"],[1.0,\"#f0f921\"]],\"diverging\":[[0,\"#8e0152\"],[0.1,\"#c51b7d\"],[0.2,\"#de77ae\"],[0.3,\"#f1b6da\"],[0.4,\"#fde0ef\"],[0.5,\"#f7f7f7\"],[0.6,\"#e6f5d0\"],[0.7,\"#b8e186\"],[0.8,\"#7fbc41\"],[0.9,\"#4d9221\"],[1,\"#276419\"]]},\"xaxis\":{\"gridcolor\":\"white\",\"linecolor\":\"white\",\"ticks\":\"\",\"title\":{\"standoff\":15},\"zerolinecolor\":\"white\",\"automargin\":true,\"zerolinewidth\":2},\"yaxis\":{\"gridcolor\":\"white\",\"linecolor\":\"white\",\"ticks\":\"\",\"title\":{\"standoff\":15},\"zerolinecolor\":\"white\",\"automargin\":true,\"zerolinewidth\":2},\"scene\":{\"xaxis\":{\"backgroundcolor\":\"#E5ECF6\",\"gridcolor\":\"white\",\"linecolor\":\"white\",\"showbackground\":true,\"ticks\":\"\",\"zerolinecolor\":\"white\",\"gridwidth\":2},\"yaxis\":{\"backgroundcolor\":\"#E5ECF6\",\"gridcolor\":\"white\",\"linecolor\":\"white\",\"showbackground\":true,\"ticks\":\"\",\"zerolinecolor\":\"white\",\"gridwidth\":2},\"zaxis\":{\"backgroundcolor\":\"#E5ECF6\",\"gridcolor\":\"white\",\"linecolor\":\"white\",\"showbackground\":true,\"ticks\":\"\",\"zerolinecolor\":\"white\",\"gridwidth\":2}},\"shapedefaults\":{\"line\":{\"color\":\"#2a3f5f\"}},\"annotationdefaults\":{\"arrowcolor\":\"#2a3f5f\",\"arrowhead\":0,\"arrowwidth\":1},\"geo\":{\"bgcolor\":\"white\",\"landcolor\":\"#E5ECF6\",\"subunitcolor\":\"white\",\"showland\":true,\"showlakes\":true,\"lakecolor\":\"white\"},\"title\":{\"x\":0.05},\"mapbox\":{\"style\":\"light\"}}},\"xaxis\":{\"anchor\":\"y\",\"domain\":[0.0,1.0],\"title\":{\"text\":\"Country\"},\"tickangle\":-45},\"yaxis\":{\"anchor\":\"x\",\"domain\":[0.0,1.0],\"title\":{\"text\":\"Total\"}},\"legend\":{\"title\":{\"text\":\"Metric\"},\"tracegroupgap\":0},\"title\":{\"text\":\"Total Quantity and Revenue by Country (April 2011)\"},\"barmode\":\"group\"},                        {\"responsive\": true}                    ).then(function(){\n",
       "                            \n",
       "var gd = document.getElementById('9061c126-e5e2-4cd7-b202-b35187c1cf31');\n",
       "var x = new MutationObserver(function (mutations, observer) {{\n",
       "        var display = window.getComputedStyle(gd).display;\n",
       "        if (!display || display === 'none') {{\n",
       "            console.log([gd, 'removed!']);\n",
       "            Plotly.purge(gd);\n",
       "            observer.disconnect();\n",
       "        }}\n",
       "}});\n",
       "\n",
       "// Listen for the removal of the full notebook cells\n",
       "var notebookContainer = gd.closest('#notebook-container');\n",
       "if (notebookContainer) {{\n",
       "    x.observe(notebookContainer, {childList: true});\n",
       "}}\n",
       "\n",
       "// Listen for the clearing of the current output cell\n",
       "var outputEl = gd.closest('.output');\n",
       "if (outputEl) {{\n",
       "    x.observe(outputEl, {childList: true});\n",
       "}}\n",
       "\n",
       "                        })                };            </script>        </div>"
      ]
     },
     "metadata": {},
     "output_type": "display_data"
    }
   ],
   "source": [
    "quantity_revenue_by_country = april_2011_df.groupby('Country')[['Quantity', 'Revenue']].sum().reset_index()\n",
    "\n",
    "fig = px.bar(\n",
    "    quantity_revenue_by_country,\n",
    "    x='Country',\n",
    "    y=['Quantity', 'Revenue'],\n",
    "    barmode='group',\n",
    "    title='Total Quantity and Revenue by Country (April 2011)',\n",
    "    labels={'value': 'Total', 'variable': 'Metric'}\n",
    ")\n",
    "\n",
    "fig.update_layout(xaxis_tickangle=-45)\n",
    "fig.show()"
   ]
  },
  {
   "cell_type": "markdown",
   "metadata": {},
   "source": [
    "## 2. Create an interactive line chart showing quantity and revenue sold to France between January 1st and May 31st 2011."
   ]
  },
  {
   "cell_type": "code",
   "execution_count": 18,
   "metadata": {},
   "outputs": [
    {
     "data": {
      "application/vnd.plotly.v1+json": {
       "config": {
        "plotlyServerURL": "https://plot.ly"
       },
       "data": [
        {
         "alignmentgroup": "True",
         "hovertemplate": "Metric=Quantity<br>Country=%{x}<br>Total=%{y}<extra></extra>",
         "legendgroup": "Quantity",
         "marker": {
          "color": "#636efa",
          "pattern": {
           "shape": ""
          }
         },
         "name": "Quantity",
         "offsetgroup": "Quantity",
         "orientation": "v",
         "showlegend": true,
         "textposition": "auto",
         "type": "bar",
         "x": [
          "France"
         ],
         "xaxis": "x",
         "y": {
          "bdata": "AAAAACAA4UA=",
          "dtype": "f8"
         },
         "yaxis": "y"
        },
        {
         "alignmentgroup": "True",
         "hovertemplate": "Metric=Revenue<br>Country=%{x}<br>Total=%{y}<extra></extra>",
         "legendgroup": "Revenue",
         "marker": {
          "color": "#EF553B",
          "pattern": {
           "shape": ""
          }
         },
         "name": "Revenue",
         "offsetgroup": "Revenue",
         "orientation": "v",
         "showlegend": true,
         "textposition": "auto",
         "type": "bar",
         "x": [
          "France"
         ],
         "xaxis": "x",
         "y": {
          "bdata": "wvUoXJ/w60A=",
          "dtype": "f8"
         },
         "yaxis": "y"
        }
       ],
       "layout": {
        "barmode": "group",
        "legend": {
         "title": {
          "text": "Metric"
         },
         "tracegroupgap": 0
        },
        "template": {
         "data": {
          "bar": [
           {
            "error_x": {
             "color": "#2a3f5f"
            },
            "error_y": {
             "color": "#2a3f5f"
            },
            "marker": {
             "line": {
              "color": "#E5ECF6",
              "width": 0.5
             },
             "pattern": {
              "fillmode": "overlay",
              "size": 10,
              "solidity": 0.2
             }
            },
            "type": "bar"
           }
          ],
          "barpolar": [
           {
            "marker": {
             "line": {
              "color": "#E5ECF6",
              "width": 0.5
             },
             "pattern": {
              "fillmode": "overlay",
              "size": 10,
              "solidity": 0.2
             }
            },
            "type": "barpolar"
           }
          ],
          "carpet": [
           {
            "aaxis": {
             "endlinecolor": "#2a3f5f",
             "gridcolor": "white",
             "linecolor": "white",
             "minorgridcolor": "white",
             "startlinecolor": "#2a3f5f"
            },
            "baxis": {
             "endlinecolor": "#2a3f5f",
             "gridcolor": "white",
             "linecolor": "white",
             "minorgridcolor": "white",
             "startlinecolor": "#2a3f5f"
            },
            "type": "carpet"
           }
          ],
          "choropleth": [
           {
            "colorbar": {
             "outlinewidth": 0,
             "ticks": ""
            },
            "type": "choropleth"
           }
          ],
          "contour": [
           {
            "colorbar": {
             "outlinewidth": 0,
             "ticks": ""
            },
            "colorscale": [
             [
              0,
              "#0d0887"
             ],
             [
              0.1111111111111111,
              "#46039f"
             ],
             [
              0.2222222222222222,
              "#7201a8"
             ],
             [
              0.3333333333333333,
              "#9c179e"
             ],
             [
              0.4444444444444444,
              "#bd3786"
             ],
             [
              0.5555555555555556,
              "#d8576b"
             ],
             [
              0.6666666666666666,
              "#ed7953"
             ],
             [
              0.7777777777777778,
              "#fb9f3a"
             ],
             [
              0.8888888888888888,
              "#fdca26"
             ],
             [
              1,
              "#f0f921"
             ]
            ],
            "type": "contour"
           }
          ],
          "contourcarpet": [
           {
            "colorbar": {
             "outlinewidth": 0,
             "ticks": ""
            },
            "type": "contourcarpet"
           }
          ],
          "heatmap": [
           {
            "colorbar": {
             "outlinewidth": 0,
             "ticks": ""
            },
            "colorscale": [
             [
              0,
              "#0d0887"
             ],
             [
              0.1111111111111111,
              "#46039f"
             ],
             [
              0.2222222222222222,
              "#7201a8"
             ],
             [
              0.3333333333333333,
              "#9c179e"
             ],
             [
              0.4444444444444444,
              "#bd3786"
             ],
             [
              0.5555555555555556,
              "#d8576b"
             ],
             [
              0.6666666666666666,
              "#ed7953"
             ],
             [
              0.7777777777777778,
              "#fb9f3a"
             ],
             [
              0.8888888888888888,
              "#fdca26"
             ],
             [
              1,
              "#f0f921"
             ]
            ],
            "type": "heatmap"
           }
          ],
          "histogram": [
           {
            "marker": {
             "pattern": {
              "fillmode": "overlay",
              "size": 10,
              "solidity": 0.2
             }
            },
            "type": "histogram"
           }
          ],
          "histogram2d": [
           {
            "colorbar": {
             "outlinewidth": 0,
             "ticks": ""
            },
            "colorscale": [
             [
              0,
              "#0d0887"
             ],
             [
              0.1111111111111111,
              "#46039f"
             ],
             [
              0.2222222222222222,
              "#7201a8"
             ],
             [
              0.3333333333333333,
              "#9c179e"
             ],
             [
              0.4444444444444444,
              "#bd3786"
             ],
             [
              0.5555555555555556,
              "#d8576b"
             ],
             [
              0.6666666666666666,
              "#ed7953"
             ],
             [
              0.7777777777777778,
              "#fb9f3a"
             ],
             [
              0.8888888888888888,
              "#fdca26"
             ],
             [
              1,
              "#f0f921"
             ]
            ],
            "type": "histogram2d"
           }
          ],
          "histogram2dcontour": [
           {
            "colorbar": {
             "outlinewidth": 0,
             "ticks": ""
            },
            "colorscale": [
             [
              0,
              "#0d0887"
             ],
             [
              0.1111111111111111,
              "#46039f"
             ],
             [
              0.2222222222222222,
              "#7201a8"
             ],
             [
              0.3333333333333333,
              "#9c179e"
             ],
             [
              0.4444444444444444,
              "#bd3786"
             ],
             [
              0.5555555555555556,
              "#d8576b"
             ],
             [
              0.6666666666666666,
              "#ed7953"
             ],
             [
              0.7777777777777778,
              "#fb9f3a"
             ],
             [
              0.8888888888888888,
              "#fdca26"
             ],
             [
              1,
              "#f0f921"
             ]
            ],
            "type": "histogram2dcontour"
           }
          ],
          "mesh3d": [
           {
            "colorbar": {
             "outlinewidth": 0,
             "ticks": ""
            },
            "type": "mesh3d"
           }
          ],
          "parcoords": [
           {
            "line": {
             "colorbar": {
              "outlinewidth": 0,
              "ticks": ""
             }
            },
            "type": "parcoords"
           }
          ],
          "pie": [
           {
            "automargin": true,
            "type": "pie"
           }
          ],
          "scatter": [
           {
            "fillpattern": {
             "fillmode": "overlay",
             "size": 10,
             "solidity": 0.2
            },
            "type": "scatter"
           }
          ],
          "scatter3d": [
           {
            "line": {
             "colorbar": {
              "outlinewidth": 0,
              "ticks": ""
             }
            },
            "marker": {
             "colorbar": {
              "outlinewidth": 0,
              "ticks": ""
             }
            },
            "type": "scatter3d"
           }
          ],
          "scattercarpet": [
           {
            "marker": {
             "colorbar": {
              "outlinewidth": 0,
              "ticks": ""
             }
            },
            "type": "scattercarpet"
           }
          ],
          "scattergeo": [
           {
            "marker": {
             "colorbar": {
              "outlinewidth": 0,
              "ticks": ""
             }
            },
            "type": "scattergeo"
           }
          ],
          "scattergl": [
           {
            "marker": {
             "colorbar": {
              "outlinewidth": 0,
              "ticks": ""
             }
            },
            "type": "scattergl"
           }
          ],
          "scattermap": [
           {
            "marker": {
             "colorbar": {
              "outlinewidth": 0,
              "ticks": ""
             }
            },
            "type": "scattermap"
           }
          ],
          "scattermapbox": [
           {
            "marker": {
             "colorbar": {
              "outlinewidth": 0,
              "ticks": ""
             }
            },
            "type": "scattermapbox"
           }
          ],
          "scatterpolar": [
           {
            "marker": {
             "colorbar": {
              "outlinewidth": 0,
              "ticks": ""
             }
            },
            "type": "scatterpolar"
           }
          ],
          "scatterpolargl": [
           {
            "marker": {
             "colorbar": {
              "outlinewidth": 0,
              "ticks": ""
             }
            },
            "type": "scatterpolargl"
           }
          ],
          "scatterternary": [
           {
            "marker": {
             "colorbar": {
              "outlinewidth": 0,
              "ticks": ""
             }
            },
            "type": "scatterternary"
           }
          ],
          "surface": [
           {
            "colorbar": {
             "outlinewidth": 0,
             "ticks": ""
            },
            "colorscale": [
             [
              0,
              "#0d0887"
             ],
             [
              0.1111111111111111,
              "#46039f"
             ],
             [
              0.2222222222222222,
              "#7201a8"
             ],
             [
              0.3333333333333333,
              "#9c179e"
             ],
             [
              0.4444444444444444,
              "#bd3786"
             ],
             [
              0.5555555555555556,
              "#d8576b"
             ],
             [
              0.6666666666666666,
              "#ed7953"
             ],
             [
              0.7777777777777778,
              "#fb9f3a"
             ],
             [
              0.8888888888888888,
              "#fdca26"
             ],
             [
              1,
              "#f0f921"
             ]
            ],
            "type": "surface"
           }
          ],
          "table": [
           {
            "cells": {
             "fill": {
              "color": "#EBF0F8"
             },
             "line": {
              "color": "white"
             }
            },
            "header": {
             "fill": {
              "color": "#C8D4E3"
             },
             "line": {
              "color": "white"
             }
            },
            "type": "table"
           }
          ]
         },
         "layout": {
          "annotationdefaults": {
           "arrowcolor": "#2a3f5f",
           "arrowhead": 0,
           "arrowwidth": 1
          },
          "autotypenumbers": "strict",
          "coloraxis": {
           "colorbar": {
            "outlinewidth": 0,
            "ticks": ""
           }
          },
          "colorscale": {
           "diverging": [
            [
             0,
             "#8e0152"
            ],
            [
             0.1,
             "#c51b7d"
            ],
            [
             0.2,
             "#de77ae"
            ],
            [
             0.3,
             "#f1b6da"
            ],
            [
             0.4,
             "#fde0ef"
            ],
            [
             0.5,
             "#f7f7f7"
            ],
            [
             0.6,
             "#e6f5d0"
            ],
            [
             0.7,
             "#b8e186"
            ],
            [
             0.8,
             "#7fbc41"
            ],
            [
             0.9,
             "#4d9221"
            ],
            [
             1,
             "#276419"
            ]
           ],
           "sequential": [
            [
             0,
             "#0d0887"
            ],
            [
             0.1111111111111111,
             "#46039f"
            ],
            [
             0.2222222222222222,
             "#7201a8"
            ],
            [
             0.3333333333333333,
             "#9c179e"
            ],
            [
             0.4444444444444444,
             "#bd3786"
            ],
            [
             0.5555555555555556,
             "#d8576b"
            ],
            [
             0.6666666666666666,
             "#ed7953"
            ],
            [
             0.7777777777777778,
             "#fb9f3a"
            ],
            [
             0.8888888888888888,
             "#fdca26"
            ],
            [
             1,
             "#f0f921"
            ]
           ],
           "sequentialminus": [
            [
             0,
             "#0d0887"
            ],
            [
             0.1111111111111111,
             "#46039f"
            ],
            [
             0.2222222222222222,
             "#7201a8"
            ],
            [
             0.3333333333333333,
             "#9c179e"
            ],
            [
             0.4444444444444444,
             "#bd3786"
            ],
            [
             0.5555555555555556,
             "#d8576b"
            ],
            [
             0.6666666666666666,
             "#ed7953"
            ],
            [
             0.7777777777777778,
             "#fb9f3a"
            ],
            [
             0.8888888888888888,
             "#fdca26"
            ],
            [
             1,
             "#f0f921"
            ]
           ]
          },
          "colorway": [
           "#636efa",
           "#EF553B",
           "#00cc96",
           "#ab63fa",
           "#FFA15A",
           "#19d3f3",
           "#FF6692",
           "#B6E880",
           "#FF97FF",
           "#FECB52"
          ],
          "font": {
           "color": "#2a3f5f"
          },
          "geo": {
           "bgcolor": "white",
           "lakecolor": "white",
           "landcolor": "#E5ECF6",
           "showlakes": true,
           "showland": true,
           "subunitcolor": "white"
          },
          "hoverlabel": {
           "align": "left"
          },
          "hovermode": "closest",
          "mapbox": {
           "style": "light"
          },
          "paper_bgcolor": "white",
          "plot_bgcolor": "#E5ECF6",
          "polar": {
           "angularaxis": {
            "gridcolor": "white",
            "linecolor": "white",
            "ticks": ""
           },
           "bgcolor": "#E5ECF6",
           "radialaxis": {
            "gridcolor": "white",
            "linecolor": "white",
            "ticks": ""
           }
          },
          "scene": {
           "xaxis": {
            "backgroundcolor": "#E5ECF6",
            "gridcolor": "white",
            "gridwidth": 2,
            "linecolor": "white",
            "showbackground": true,
            "ticks": "",
            "zerolinecolor": "white"
           },
           "yaxis": {
            "backgroundcolor": "#E5ECF6",
            "gridcolor": "white",
            "gridwidth": 2,
            "linecolor": "white",
            "showbackground": true,
            "ticks": "",
            "zerolinecolor": "white"
           },
           "zaxis": {
            "backgroundcolor": "#E5ECF6",
            "gridcolor": "white",
            "gridwidth": 2,
            "linecolor": "white",
            "showbackground": true,
            "ticks": "",
            "zerolinecolor": "white"
           }
          },
          "shapedefaults": {
           "line": {
            "color": "#2a3f5f"
           }
          },
          "ternary": {
           "aaxis": {
            "gridcolor": "white",
            "linecolor": "white",
            "ticks": ""
           },
           "baxis": {
            "gridcolor": "white",
            "linecolor": "white",
            "ticks": ""
           },
           "bgcolor": "#E5ECF6",
           "caxis": {
            "gridcolor": "white",
            "linecolor": "white",
            "ticks": ""
           }
          },
          "title": {
           "x": 0.05
          },
          "xaxis": {
           "automargin": true,
           "gridcolor": "white",
           "linecolor": "white",
           "ticks": "",
           "title": {
            "standoff": 15
           },
           "zerolinecolor": "white",
           "zerolinewidth": 2
          },
          "yaxis": {
           "automargin": true,
           "gridcolor": "white",
           "linecolor": "white",
           "ticks": "",
           "title": {
            "standoff": 15
           },
           "zerolinecolor": "white",
           "zerolinewidth": 2
          }
         }
        },
        "title": {
         "text": "Total Quantity and Revenue - France (Jan–May 2011)"
        },
        "xaxis": {
         "anchor": "y",
         "domain": [
          0,
          1
         ],
         "tickangle": -45,
         "title": {
          "text": "Country"
         }
        },
        "yaxis": {
         "anchor": "x",
         "domain": [
          0,
          1
         ],
         "title": {
          "text": "Total"
         }
        }
       }
      },
      "text/html": [
       "<div>            <script src=\"https://cdnjs.cloudflare.com/ajax/libs/mathjax/2.7.5/MathJax.js?config=TeX-AMS-MML_SVG\"></script><script type=\"text/javascript\">if (window.MathJax && window.MathJax.Hub && window.MathJax.Hub.Config) {window.MathJax.Hub.Config({SVG: {font: \"STIX-Web\"}});}</script>                <script type=\"text/javascript\">window.PlotlyConfig = {MathJaxConfig: 'local'};</script>\n",
       "        <script charset=\"utf-8\" src=\"https://cdn.plot.ly/plotly-3.0.1.min.js\"></script>                <div id=\"8721bc9c-ae20-430d-a026-77a9aa6ccab8\" class=\"plotly-graph-div\" style=\"height:525px; width:100%;\"></div>            <script type=\"text/javascript\">                window.PLOTLYENV=window.PLOTLYENV || {};                                if (document.getElementById(\"8721bc9c-ae20-430d-a026-77a9aa6ccab8\")) {                    Plotly.newPlot(                        \"8721bc9c-ae20-430d-a026-77a9aa6ccab8\",                        [{\"alignmentgroup\":\"True\",\"hovertemplate\":\"Metric=Quantity\\u003cbr\\u003eCountry=%{x}\\u003cbr\\u003eTotal=%{y}\\u003cextra\\u003e\\u003c\\u002fextra\\u003e\",\"legendgroup\":\"Quantity\",\"marker\":{\"color\":\"#636efa\",\"pattern\":{\"shape\":\"\"}},\"name\":\"Quantity\",\"offsetgroup\":\"Quantity\",\"orientation\":\"v\",\"showlegend\":true,\"textposition\":\"auto\",\"x\":[\"France\"],\"xaxis\":\"x\",\"y\":{\"dtype\":\"f8\",\"bdata\":\"AAAAACAA4UA=\"},\"yaxis\":\"y\",\"type\":\"bar\"},{\"alignmentgroup\":\"True\",\"hovertemplate\":\"Metric=Revenue\\u003cbr\\u003eCountry=%{x}\\u003cbr\\u003eTotal=%{y}\\u003cextra\\u003e\\u003c\\u002fextra\\u003e\",\"legendgroup\":\"Revenue\",\"marker\":{\"color\":\"#EF553B\",\"pattern\":{\"shape\":\"\"}},\"name\":\"Revenue\",\"offsetgroup\":\"Revenue\",\"orientation\":\"v\",\"showlegend\":true,\"textposition\":\"auto\",\"x\":[\"France\"],\"xaxis\":\"x\",\"y\":{\"dtype\":\"f8\",\"bdata\":\"wvUoXJ\\u002fw60A=\"},\"yaxis\":\"y\",\"type\":\"bar\"}],                        {\"template\":{\"data\":{\"histogram2dcontour\":[{\"type\":\"histogram2dcontour\",\"colorbar\":{\"outlinewidth\":0,\"ticks\":\"\"},\"colorscale\":[[0.0,\"#0d0887\"],[0.1111111111111111,\"#46039f\"],[0.2222222222222222,\"#7201a8\"],[0.3333333333333333,\"#9c179e\"],[0.4444444444444444,\"#bd3786\"],[0.5555555555555556,\"#d8576b\"],[0.6666666666666666,\"#ed7953\"],[0.7777777777777778,\"#fb9f3a\"],[0.8888888888888888,\"#fdca26\"],[1.0,\"#f0f921\"]]}],\"choropleth\":[{\"type\":\"choropleth\",\"colorbar\":{\"outlinewidth\":0,\"ticks\":\"\"}}],\"histogram2d\":[{\"type\":\"histogram2d\",\"colorbar\":{\"outlinewidth\":0,\"ticks\":\"\"},\"colorscale\":[[0.0,\"#0d0887\"],[0.1111111111111111,\"#46039f\"],[0.2222222222222222,\"#7201a8\"],[0.3333333333333333,\"#9c179e\"],[0.4444444444444444,\"#bd3786\"],[0.5555555555555556,\"#d8576b\"],[0.6666666666666666,\"#ed7953\"],[0.7777777777777778,\"#fb9f3a\"],[0.8888888888888888,\"#fdca26\"],[1.0,\"#f0f921\"]]}],\"heatmap\":[{\"type\":\"heatmap\",\"colorbar\":{\"outlinewidth\":0,\"ticks\":\"\"},\"colorscale\":[[0.0,\"#0d0887\"],[0.1111111111111111,\"#46039f\"],[0.2222222222222222,\"#7201a8\"],[0.3333333333333333,\"#9c179e\"],[0.4444444444444444,\"#bd3786\"],[0.5555555555555556,\"#d8576b\"],[0.6666666666666666,\"#ed7953\"],[0.7777777777777778,\"#fb9f3a\"],[0.8888888888888888,\"#fdca26\"],[1.0,\"#f0f921\"]]}],\"contourcarpet\":[{\"type\":\"contourcarpet\",\"colorbar\":{\"outlinewidth\":0,\"ticks\":\"\"}}],\"contour\":[{\"type\":\"contour\",\"colorbar\":{\"outlinewidth\":0,\"ticks\":\"\"},\"colorscale\":[[0.0,\"#0d0887\"],[0.1111111111111111,\"#46039f\"],[0.2222222222222222,\"#7201a8\"],[0.3333333333333333,\"#9c179e\"],[0.4444444444444444,\"#bd3786\"],[0.5555555555555556,\"#d8576b\"],[0.6666666666666666,\"#ed7953\"],[0.7777777777777778,\"#fb9f3a\"],[0.8888888888888888,\"#fdca26\"],[1.0,\"#f0f921\"]]}],\"surface\":[{\"type\":\"surface\",\"colorbar\":{\"outlinewidth\":0,\"ticks\":\"\"},\"colorscale\":[[0.0,\"#0d0887\"],[0.1111111111111111,\"#46039f\"],[0.2222222222222222,\"#7201a8\"],[0.3333333333333333,\"#9c179e\"],[0.4444444444444444,\"#bd3786\"],[0.5555555555555556,\"#d8576b\"],[0.6666666666666666,\"#ed7953\"],[0.7777777777777778,\"#fb9f3a\"],[0.8888888888888888,\"#fdca26\"],[1.0,\"#f0f921\"]]}],\"mesh3d\":[{\"type\":\"mesh3d\",\"colorbar\":{\"outlinewidth\":0,\"ticks\":\"\"}}],\"scatter\":[{\"fillpattern\":{\"fillmode\":\"overlay\",\"size\":10,\"solidity\":0.2},\"type\":\"scatter\"}],\"parcoords\":[{\"type\":\"parcoords\",\"line\":{\"colorbar\":{\"outlinewidth\":0,\"ticks\":\"\"}}}],\"scatterpolargl\":[{\"type\":\"scatterpolargl\",\"marker\":{\"colorbar\":{\"outlinewidth\":0,\"ticks\":\"\"}}}],\"bar\":[{\"error_x\":{\"color\":\"#2a3f5f\"},\"error_y\":{\"color\":\"#2a3f5f\"},\"marker\":{\"line\":{\"color\":\"#E5ECF6\",\"width\":0.5},\"pattern\":{\"fillmode\":\"overlay\",\"size\":10,\"solidity\":0.2}},\"type\":\"bar\"}],\"scattergeo\":[{\"type\":\"scattergeo\",\"marker\":{\"colorbar\":{\"outlinewidth\":0,\"ticks\":\"\"}}}],\"scatterpolar\":[{\"type\":\"scatterpolar\",\"marker\":{\"colorbar\":{\"outlinewidth\":0,\"ticks\":\"\"}}}],\"histogram\":[{\"marker\":{\"pattern\":{\"fillmode\":\"overlay\",\"size\":10,\"solidity\":0.2}},\"type\":\"histogram\"}],\"scattergl\":[{\"type\":\"scattergl\",\"marker\":{\"colorbar\":{\"outlinewidth\":0,\"ticks\":\"\"}}}],\"scatter3d\":[{\"type\":\"scatter3d\",\"line\":{\"colorbar\":{\"outlinewidth\":0,\"ticks\":\"\"}},\"marker\":{\"colorbar\":{\"outlinewidth\":0,\"ticks\":\"\"}}}],\"scattermap\":[{\"type\":\"scattermap\",\"marker\":{\"colorbar\":{\"outlinewidth\":0,\"ticks\":\"\"}}}],\"scattermapbox\":[{\"type\":\"scattermapbox\",\"marker\":{\"colorbar\":{\"outlinewidth\":0,\"ticks\":\"\"}}}],\"scatterternary\":[{\"type\":\"scatterternary\",\"marker\":{\"colorbar\":{\"outlinewidth\":0,\"ticks\":\"\"}}}],\"scattercarpet\":[{\"type\":\"scattercarpet\",\"marker\":{\"colorbar\":{\"outlinewidth\":0,\"ticks\":\"\"}}}],\"carpet\":[{\"aaxis\":{\"endlinecolor\":\"#2a3f5f\",\"gridcolor\":\"white\",\"linecolor\":\"white\",\"minorgridcolor\":\"white\",\"startlinecolor\":\"#2a3f5f\"},\"baxis\":{\"endlinecolor\":\"#2a3f5f\",\"gridcolor\":\"white\",\"linecolor\":\"white\",\"minorgridcolor\":\"white\",\"startlinecolor\":\"#2a3f5f\"},\"type\":\"carpet\"}],\"table\":[{\"cells\":{\"fill\":{\"color\":\"#EBF0F8\"},\"line\":{\"color\":\"white\"}},\"header\":{\"fill\":{\"color\":\"#C8D4E3\"},\"line\":{\"color\":\"white\"}},\"type\":\"table\"}],\"barpolar\":[{\"marker\":{\"line\":{\"color\":\"#E5ECF6\",\"width\":0.5},\"pattern\":{\"fillmode\":\"overlay\",\"size\":10,\"solidity\":0.2}},\"type\":\"barpolar\"}],\"pie\":[{\"automargin\":true,\"type\":\"pie\"}]},\"layout\":{\"autotypenumbers\":\"strict\",\"colorway\":[\"#636efa\",\"#EF553B\",\"#00cc96\",\"#ab63fa\",\"#FFA15A\",\"#19d3f3\",\"#FF6692\",\"#B6E880\",\"#FF97FF\",\"#FECB52\"],\"font\":{\"color\":\"#2a3f5f\"},\"hovermode\":\"closest\",\"hoverlabel\":{\"align\":\"left\"},\"paper_bgcolor\":\"white\",\"plot_bgcolor\":\"#E5ECF6\",\"polar\":{\"bgcolor\":\"#E5ECF6\",\"angularaxis\":{\"gridcolor\":\"white\",\"linecolor\":\"white\",\"ticks\":\"\"},\"radialaxis\":{\"gridcolor\":\"white\",\"linecolor\":\"white\",\"ticks\":\"\"}},\"ternary\":{\"bgcolor\":\"#E5ECF6\",\"aaxis\":{\"gridcolor\":\"white\",\"linecolor\":\"white\",\"ticks\":\"\"},\"baxis\":{\"gridcolor\":\"white\",\"linecolor\":\"white\",\"ticks\":\"\"},\"caxis\":{\"gridcolor\":\"white\",\"linecolor\":\"white\",\"ticks\":\"\"}},\"coloraxis\":{\"colorbar\":{\"outlinewidth\":0,\"ticks\":\"\"}},\"colorscale\":{\"sequential\":[[0.0,\"#0d0887\"],[0.1111111111111111,\"#46039f\"],[0.2222222222222222,\"#7201a8\"],[0.3333333333333333,\"#9c179e\"],[0.4444444444444444,\"#bd3786\"],[0.5555555555555556,\"#d8576b\"],[0.6666666666666666,\"#ed7953\"],[0.7777777777777778,\"#fb9f3a\"],[0.8888888888888888,\"#fdca26\"],[1.0,\"#f0f921\"]],\"sequentialminus\":[[0.0,\"#0d0887\"],[0.1111111111111111,\"#46039f\"],[0.2222222222222222,\"#7201a8\"],[0.3333333333333333,\"#9c179e\"],[0.4444444444444444,\"#bd3786\"],[0.5555555555555556,\"#d8576b\"],[0.6666666666666666,\"#ed7953\"],[0.7777777777777778,\"#fb9f3a\"],[0.8888888888888888,\"#fdca26\"],[1.0,\"#f0f921\"]],\"diverging\":[[0,\"#8e0152\"],[0.1,\"#c51b7d\"],[0.2,\"#de77ae\"],[0.3,\"#f1b6da\"],[0.4,\"#fde0ef\"],[0.5,\"#f7f7f7\"],[0.6,\"#e6f5d0\"],[0.7,\"#b8e186\"],[0.8,\"#7fbc41\"],[0.9,\"#4d9221\"],[1,\"#276419\"]]},\"xaxis\":{\"gridcolor\":\"white\",\"linecolor\":\"white\",\"ticks\":\"\",\"title\":{\"standoff\":15},\"zerolinecolor\":\"white\",\"automargin\":true,\"zerolinewidth\":2},\"yaxis\":{\"gridcolor\":\"white\",\"linecolor\":\"white\",\"ticks\":\"\",\"title\":{\"standoff\":15},\"zerolinecolor\":\"white\",\"automargin\":true,\"zerolinewidth\":2},\"scene\":{\"xaxis\":{\"backgroundcolor\":\"#E5ECF6\",\"gridcolor\":\"white\",\"linecolor\":\"white\",\"showbackground\":true,\"ticks\":\"\",\"zerolinecolor\":\"white\",\"gridwidth\":2},\"yaxis\":{\"backgroundcolor\":\"#E5ECF6\",\"gridcolor\":\"white\",\"linecolor\":\"white\",\"showbackground\":true,\"ticks\":\"\",\"zerolinecolor\":\"white\",\"gridwidth\":2},\"zaxis\":{\"backgroundcolor\":\"#E5ECF6\",\"gridcolor\":\"white\",\"linecolor\":\"white\",\"showbackground\":true,\"ticks\":\"\",\"zerolinecolor\":\"white\",\"gridwidth\":2}},\"shapedefaults\":{\"line\":{\"color\":\"#2a3f5f\"}},\"annotationdefaults\":{\"arrowcolor\":\"#2a3f5f\",\"arrowhead\":0,\"arrowwidth\":1},\"geo\":{\"bgcolor\":\"white\",\"landcolor\":\"#E5ECF6\",\"subunitcolor\":\"white\",\"showland\":true,\"showlakes\":true,\"lakecolor\":\"white\"},\"title\":{\"x\":0.05},\"mapbox\":{\"style\":\"light\"}}},\"xaxis\":{\"anchor\":\"y\",\"domain\":[0.0,1.0],\"title\":{\"text\":\"Country\"},\"tickangle\":-45},\"yaxis\":{\"anchor\":\"x\",\"domain\":[0.0,1.0],\"title\":{\"text\":\"Total\"}},\"legend\":{\"title\":{\"text\":\"Metric\"},\"tracegroupgap\":0},\"title\":{\"text\":\"Total Quantity and Revenue - France (Jan\\u2013May 2011)\"},\"barmode\":\"group\"},                        {\"responsive\": true}                    ).then(function(){\n",
       "                            \n",
       "var gd = document.getElementById('8721bc9c-ae20-430d-a026-77a9aa6ccab8');\n",
       "var x = new MutationObserver(function (mutations, observer) {{\n",
       "        var display = window.getComputedStyle(gd).display;\n",
       "        if (!display || display === 'none') {{\n",
       "            console.log([gd, 'removed!']);\n",
       "            Plotly.purge(gd);\n",
       "            observer.disconnect();\n",
       "        }}\n",
       "}});\n",
       "\n",
       "// Listen for the removal of the full notebook cells\n",
       "var notebookContainer = gd.closest('#notebook-container');\n",
       "if (notebookContainer) {{\n",
       "    x.observe(notebookContainer, {childList: true});\n",
       "}}\n",
       "\n",
       "// Listen for the clearing of the current output cell\n",
       "var outputEl = gd.closest('.output');\n",
       "if (outputEl) {{\n",
       "    x.observe(outputEl, {childList: true});\n",
       "}}\n",
       "\n",
       "                        })                };            </script>        </div>"
      ]
     },
     "metadata": {},
     "output_type": "display_data"
    }
   ],
   "source": [
    "france = data[(data[\"InvoiceDate\"] >= \"2011-01-01\") & (data[\"InvoiceDate\"] <= \"2011-05-31\") & (data['Country'] == \"France\")]\n",
    "\n",
    "quantity_revenue_france = france[['Quantity', 'Revenue']].sum()\n",
    "\n",
    "quantity_revenue_france = quantity_revenue_france.reset_index()\n",
    "quantity_revenue_france.columns = ['Metric', 'Total']\n",
    "quantity_revenue_france['Country'] = 'France'\n",
    "\n",
    "# Plotly Bar Chart\n",
    "fig = px.bar(\n",
    "    quantity_revenue_france,\n",
    "    x='Country',\n",
    "    y='Total',\n",
    "    color='Metric',\n",
    "    barmode='group',\n",
    "    title='Total Quantity and Revenue - France (Jan–May 2011)'\n",
    ")\n",
    "\n",
    "fig.update_layout(xaxis_tickangle=-45)\n",
    "fig.show()"
   ]
  },
  {
   "cell_type": "markdown",
   "metadata": {},
   "source": [
    "## 3. Create an interactive scatter plot showing the relationship between average quantity (x-axis) and average unit price (y-axis) for the product PARTY BUNTING with the plot points color-coded by country (categories)."
   ]
  },
  {
   "cell_type": "code",
   "execution_count": 21,
   "metadata": {},
   "outputs": [
    {
     "data": {
      "application/vnd.plotly.v1+json": {
       "config": {
        "plotlyServerURL": "https://plot.ly"
       },
       "data": [
        {
         "hovertemplate": "Average Quantity=%{x}<br>Average Revenue=%{y}<br>Country=%{text}<extra></extra>",
         "legendgroup": "",
         "marker": {
          "color": "#636efa",
          "symbol": "circle"
         },
         "mode": "markers+text",
         "name": "",
         "orientation": "v",
         "showlegend": false,
         "text": [
          "Australia",
          "Austria",
          "Belgium",
          "Channel Islands",
          "Cyprus",
          "Denmark",
          "EIRE",
          "Finland",
          "France",
          "Germany",
          "Israel",
          "Japan",
          "Lebanon",
          "Netherlands",
          "Norway",
          "Singapore",
          "South Africa",
          "Spain",
          "Switzerland",
          "United Kingdom"
         ],
         "textposition": "top center",
         "type": "scatter",
         "x": {
          "bdata": "AAAAAACQQEAAAAAAAAAgQAAAAAAAABBAq6qqqqqqKkCrqqqqqqoCQAAAAAAAAChAXkN5DeU1NUAAAAAAAAAYQOmiiy666BZAMzMzMzMzG0AAAAAAAADwP1VVVVVVVUxAAAAAAAAALkAAAAAAAABJQAAAAAAAABhAAAAAAAAAIEAAAAAAAAAQQAAAAAAAABNAMzMzMzMzMUBWRbprLmklQA==",
          "dtype": "f8"
         },
         "xaxis": "x",
         "y": {
          "bdata": "AQAAAAD5YUDNzMzMzMxDQM3MzMzMzDNAAAAAAACAUEBnZmZmZuYlQDUzMzMzs01AtGMFwkirVkA0MzMzM7M9QPcNa9+wNjxASOF6FK6HQEDNzMzMzMwTQFVVVVVVJWxAAAAAAABwUUAAAAAAAPBpQDQzMzMzsz1AzczMzMzMQ0DNzMzMzMwzQJqZmZmZGTdAKlyPwvVIU0CUpGYRkSRIQA==",
          "dtype": "f8"
         },
         "yaxis": "y"
        }
       ],
       "layout": {
        "legend": {
         "tracegroupgap": 0
        },
        "showlegend": false,
        "template": {
         "data": {
          "bar": [
           {
            "error_x": {
             "color": "#2a3f5f"
            },
            "error_y": {
             "color": "#2a3f5f"
            },
            "marker": {
             "line": {
              "color": "#E5ECF6",
              "width": 0.5
             },
             "pattern": {
              "fillmode": "overlay",
              "size": 10,
              "solidity": 0.2
             }
            },
            "type": "bar"
           }
          ],
          "barpolar": [
           {
            "marker": {
             "line": {
              "color": "#E5ECF6",
              "width": 0.5
             },
             "pattern": {
              "fillmode": "overlay",
              "size": 10,
              "solidity": 0.2
             }
            },
            "type": "barpolar"
           }
          ],
          "carpet": [
           {
            "aaxis": {
             "endlinecolor": "#2a3f5f",
             "gridcolor": "white",
             "linecolor": "white",
             "minorgridcolor": "white",
             "startlinecolor": "#2a3f5f"
            },
            "baxis": {
             "endlinecolor": "#2a3f5f",
             "gridcolor": "white",
             "linecolor": "white",
             "minorgridcolor": "white",
             "startlinecolor": "#2a3f5f"
            },
            "type": "carpet"
           }
          ],
          "choropleth": [
           {
            "colorbar": {
             "outlinewidth": 0,
             "ticks": ""
            },
            "type": "choropleth"
           }
          ],
          "contour": [
           {
            "colorbar": {
             "outlinewidth": 0,
             "ticks": ""
            },
            "colorscale": [
             [
              0,
              "#0d0887"
             ],
             [
              0.1111111111111111,
              "#46039f"
             ],
             [
              0.2222222222222222,
              "#7201a8"
             ],
             [
              0.3333333333333333,
              "#9c179e"
             ],
             [
              0.4444444444444444,
              "#bd3786"
             ],
             [
              0.5555555555555556,
              "#d8576b"
             ],
             [
              0.6666666666666666,
              "#ed7953"
             ],
             [
              0.7777777777777778,
              "#fb9f3a"
             ],
             [
              0.8888888888888888,
              "#fdca26"
             ],
             [
              1,
              "#f0f921"
             ]
            ],
            "type": "contour"
           }
          ],
          "contourcarpet": [
           {
            "colorbar": {
             "outlinewidth": 0,
             "ticks": ""
            },
            "type": "contourcarpet"
           }
          ],
          "heatmap": [
           {
            "colorbar": {
             "outlinewidth": 0,
             "ticks": ""
            },
            "colorscale": [
             [
              0,
              "#0d0887"
             ],
             [
              0.1111111111111111,
              "#46039f"
             ],
             [
              0.2222222222222222,
              "#7201a8"
             ],
             [
              0.3333333333333333,
              "#9c179e"
             ],
             [
              0.4444444444444444,
              "#bd3786"
             ],
             [
              0.5555555555555556,
              "#d8576b"
             ],
             [
              0.6666666666666666,
              "#ed7953"
             ],
             [
              0.7777777777777778,
              "#fb9f3a"
             ],
             [
              0.8888888888888888,
              "#fdca26"
             ],
             [
              1,
              "#f0f921"
             ]
            ],
            "type": "heatmap"
           }
          ],
          "histogram": [
           {
            "marker": {
             "pattern": {
              "fillmode": "overlay",
              "size": 10,
              "solidity": 0.2
             }
            },
            "type": "histogram"
           }
          ],
          "histogram2d": [
           {
            "colorbar": {
             "outlinewidth": 0,
             "ticks": ""
            },
            "colorscale": [
             [
              0,
              "#0d0887"
             ],
             [
              0.1111111111111111,
              "#46039f"
             ],
             [
              0.2222222222222222,
              "#7201a8"
             ],
             [
              0.3333333333333333,
              "#9c179e"
             ],
             [
              0.4444444444444444,
              "#bd3786"
             ],
             [
              0.5555555555555556,
              "#d8576b"
             ],
             [
              0.6666666666666666,
              "#ed7953"
             ],
             [
              0.7777777777777778,
              "#fb9f3a"
             ],
             [
              0.8888888888888888,
              "#fdca26"
             ],
             [
              1,
              "#f0f921"
             ]
            ],
            "type": "histogram2d"
           }
          ],
          "histogram2dcontour": [
           {
            "colorbar": {
             "outlinewidth": 0,
             "ticks": ""
            },
            "colorscale": [
             [
              0,
              "#0d0887"
             ],
             [
              0.1111111111111111,
              "#46039f"
             ],
             [
              0.2222222222222222,
              "#7201a8"
             ],
             [
              0.3333333333333333,
              "#9c179e"
             ],
             [
              0.4444444444444444,
              "#bd3786"
             ],
             [
              0.5555555555555556,
              "#d8576b"
             ],
             [
              0.6666666666666666,
              "#ed7953"
             ],
             [
              0.7777777777777778,
              "#fb9f3a"
             ],
             [
              0.8888888888888888,
              "#fdca26"
             ],
             [
              1,
              "#f0f921"
             ]
            ],
            "type": "histogram2dcontour"
           }
          ],
          "mesh3d": [
           {
            "colorbar": {
             "outlinewidth": 0,
             "ticks": ""
            },
            "type": "mesh3d"
           }
          ],
          "parcoords": [
           {
            "line": {
             "colorbar": {
              "outlinewidth": 0,
              "ticks": ""
             }
            },
            "type": "parcoords"
           }
          ],
          "pie": [
           {
            "automargin": true,
            "type": "pie"
           }
          ],
          "scatter": [
           {
            "fillpattern": {
             "fillmode": "overlay",
             "size": 10,
             "solidity": 0.2
            },
            "type": "scatter"
           }
          ],
          "scatter3d": [
           {
            "line": {
             "colorbar": {
              "outlinewidth": 0,
              "ticks": ""
             }
            },
            "marker": {
             "colorbar": {
              "outlinewidth": 0,
              "ticks": ""
             }
            },
            "type": "scatter3d"
           }
          ],
          "scattercarpet": [
           {
            "marker": {
             "colorbar": {
              "outlinewidth": 0,
              "ticks": ""
             }
            },
            "type": "scattercarpet"
           }
          ],
          "scattergeo": [
           {
            "marker": {
             "colorbar": {
              "outlinewidth": 0,
              "ticks": ""
             }
            },
            "type": "scattergeo"
           }
          ],
          "scattergl": [
           {
            "marker": {
             "colorbar": {
              "outlinewidth": 0,
              "ticks": ""
             }
            },
            "type": "scattergl"
           }
          ],
          "scattermap": [
           {
            "marker": {
             "colorbar": {
              "outlinewidth": 0,
              "ticks": ""
             }
            },
            "type": "scattermap"
           }
          ],
          "scattermapbox": [
           {
            "marker": {
             "colorbar": {
              "outlinewidth": 0,
              "ticks": ""
             }
            },
            "type": "scattermapbox"
           }
          ],
          "scatterpolar": [
           {
            "marker": {
             "colorbar": {
              "outlinewidth": 0,
              "ticks": ""
             }
            },
            "type": "scatterpolar"
           }
          ],
          "scatterpolargl": [
           {
            "marker": {
             "colorbar": {
              "outlinewidth": 0,
              "ticks": ""
             }
            },
            "type": "scatterpolargl"
           }
          ],
          "scatterternary": [
           {
            "marker": {
             "colorbar": {
              "outlinewidth": 0,
              "ticks": ""
             }
            },
            "type": "scatterternary"
           }
          ],
          "surface": [
           {
            "colorbar": {
             "outlinewidth": 0,
             "ticks": ""
            },
            "colorscale": [
             [
              0,
              "#0d0887"
             ],
             [
              0.1111111111111111,
              "#46039f"
             ],
             [
              0.2222222222222222,
              "#7201a8"
             ],
             [
              0.3333333333333333,
              "#9c179e"
             ],
             [
              0.4444444444444444,
              "#bd3786"
             ],
             [
              0.5555555555555556,
              "#d8576b"
             ],
             [
              0.6666666666666666,
              "#ed7953"
             ],
             [
              0.7777777777777778,
              "#fb9f3a"
             ],
             [
              0.8888888888888888,
              "#fdca26"
             ],
             [
              1,
              "#f0f921"
             ]
            ],
            "type": "surface"
           }
          ],
          "table": [
           {
            "cells": {
             "fill": {
              "color": "#EBF0F8"
             },
             "line": {
              "color": "white"
             }
            },
            "header": {
             "fill": {
              "color": "#C8D4E3"
             },
             "line": {
              "color": "white"
             }
            },
            "type": "table"
           }
          ]
         },
         "layout": {
          "annotationdefaults": {
           "arrowcolor": "#2a3f5f",
           "arrowhead": 0,
           "arrowwidth": 1
          },
          "autotypenumbers": "strict",
          "coloraxis": {
           "colorbar": {
            "outlinewidth": 0,
            "ticks": ""
           }
          },
          "colorscale": {
           "diverging": [
            [
             0,
             "#8e0152"
            ],
            [
             0.1,
             "#c51b7d"
            ],
            [
             0.2,
             "#de77ae"
            ],
            [
             0.3,
             "#f1b6da"
            ],
            [
             0.4,
             "#fde0ef"
            ],
            [
             0.5,
             "#f7f7f7"
            ],
            [
             0.6,
             "#e6f5d0"
            ],
            [
             0.7,
             "#b8e186"
            ],
            [
             0.8,
             "#7fbc41"
            ],
            [
             0.9,
             "#4d9221"
            ],
            [
             1,
             "#276419"
            ]
           ],
           "sequential": [
            [
             0,
             "#0d0887"
            ],
            [
             0.1111111111111111,
             "#46039f"
            ],
            [
             0.2222222222222222,
             "#7201a8"
            ],
            [
             0.3333333333333333,
             "#9c179e"
            ],
            [
             0.4444444444444444,
             "#bd3786"
            ],
            [
             0.5555555555555556,
             "#d8576b"
            ],
            [
             0.6666666666666666,
             "#ed7953"
            ],
            [
             0.7777777777777778,
             "#fb9f3a"
            ],
            [
             0.8888888888888888,
             "#fdca26"
            ],
            [
             1,
             "#f0f921"
            ]
           ],
           "sequentialminus": [
            [
             0,
             "#0d0887"
            ],
            [
             0.1111111111111111,
             "#46039f"
            ],
            [
             0.2222222222222222,
             "#7201a8"
            ],
            [
             0.3333333333333333,
             "#9c179e"
            ],
            [
             0.4444444444444444,
             "#bd3786"
            ],
            [
             0.5555555555555556,
             "#d8576b"
            ],
            [
             0.6666666666666666,
             "#ed7953"
            ],
            [
             0.7777777777777778,
             "#fb9f3a"
            ],
            [
             0.8888888888888888,
             "#fdca26"
            ],
            [
             1,
             "#f0f921"
            ]
           ]
          },
          "colorway": [
           "#636efa",
           "#EF553B",
           "#00cc96",
           "#ab63fa",
           "#FFA15A",
           "#19d3f3",
           "#FF6692",
           "#B6E880",
           "#FF97FF",
           "#FECB52"
          ],
          "font": {
           "color": "#2a3f5f"
          },
          "geo": {
           "bgcolor": "white",
           "lakecolor": "white",
           "landcolor": "#E5ECF6",
           "showlakes": true,
           "showland": true,
           "subunitcolor": "white"
          },
          "hoverlabel": {
           "align": "left"
          },
          "hovermode": "closest",
          "mapbox": {
           "style": "light"
          },
          "paper_bgcolor": "white",
          "plot_bgcolor": "#E5ECF6",
          "polar": {
           "angularaxis": {
            "gridcolor": "white",
            "linecolor": "white",
            "ticks": ""
           },
           "bgcolor": "#E5ECF6",
           "radialaxis": {
            "gridcolor": "white",
            "linecolor": "white",
            "ticks": ""
           }
          },
          "scene": {
           "xaxis": {
            "backgroundcolor": "#E5ECF6",
            "gridcolor": "white",
            "gridwidth": 2,
            "linecolor": "white",
            "showbackground": true,
            "ticks": "",
            "zerolinecolor": "white"
           },
           "yaxis": {
            "backgroundcolor": "#E5ECF6",
            "gridcolor": "white",
            "gridwidth": 2,
            "linecolor": "white",
            "showbackground": true,
            "ticks": "",
            "zerolinecolor": "white"
           },
           "zaxis": {
            "backgroundcolor": "#E5ECF6",
            "gridcolor": "white",
            "gridwidth": 2,
            "linecolor": "white",
            "showbackground": true,
            "ticks": "",
            "zerolinecolor": "white"
           }
          },
          "shapedefaults": {
           "line": {
            "color": "#2a3f5f"
           }
          },
          "ternary": {
           "aaxis": {
            "gridcolor": "white",
            "linecolor": "white",
            "ticks": ""
           },
           "baxis": {
            "gridcolor": "white",
            "linecolor": "white",
            "ticks": ""
           },
           "bgcolor": "#E5ECF6",
           "caxis": {
            "gridcolor": "white",
            "linecolor": "white",
            "ticks": ""
           }
          },
          "title": {
           "x": 0.05
          },
          "xaxis": {
           "automargin": true,
           "gridcolor": "white",
           "linecolor": "white",
           "ticks": "",
           "title": {
            "standoff": 15
           },
           "zerolinecolor": "white",
           "zerolinewidth": 2
          },
          "yaxis": {
           "automargin": true,
           "gridcolor": "white",
           "linecolor": "white",
           "ticks": "",
           "title": {
            "standoff": 15
           },
           "zerolinecolor": "white",
           "zerolinewidth": 2
          }
         }
        },
        "title": {
         "text": "Average Quantity vs Revenue for PARTY BUNTING by Country"
        },
        "xaxis": {
         "anchor": "y",
         "domain": [
          0,
          1
         ],
         "title": {
          "text": "Average Quantity"
         }
        },
        "yaxis": {
         "anchor": "x",
         "domain": [
          0,
          1
         ],
         "title": {
          "text": "Average Revenue"
         }
        }
       }
      },
      "text/html": [
       "<div>            <script src=\"https://cdnjs.cloudflare.com/ajax/libs/mathjax/2.7.5/MathJax.js?config=TeX-AMS-MML_SVG\"></script><script type=\"text/javascript\">if (window.MathJax && window.MathJax.Hub && window.MathJax.Hub.Config) {window.MathJax.Hub.Config({SVG: {font: \"STIX-Web\"}});}</script>                <script type=\"text/javascript\">window.PlotlyConfig = {MathJaxConfig: 'local'};</script>\n",
       "        <script charset=\"utf-8\" src=\"https://cdn.plot.ly/plotly-3.0.1.min.js\"></script>                <div id=\"0ad18e85-7fe5-400d-97e8-ae959636531f\" class=\"plotly-graph-div\" style=\"height:525px; width:100%;\"></div>            <script type=\"text/javascript\">                window.PLOTLYENV=window.PLOTLYENV || {};                                if (document.getElementById(\"0ad18e85-7fe5-400d-97e8-ae959636531f\")) {                    Plotly.newPlot(                        \"0ad18e85-7fe5-400d-97e8-ae959636531f\",                        [{\"hovertemplate\":\"Average Quantity=%{x}\\u003cbr\\u003eAverage Revenue=%{y}\\u003cbr\\u003eCountry=%{text}\\u003cextra\\u003e\\u003c\\u002fextra\\u003e\",\"legendgroup\":\"\",\"marker\":{\"color\":\"#636efa\",\"symbol\":\"circle\"},\"mode\":\"markers+text\",\"name\":\"\",\"orientation\":\"v\",\"showlegend\":false,\"text\":[\"Australia\",\"Austria\",\"Belgium\",\"Channel Islands\",\"Cyprus\",\"Denmark\",\"EIRE\",\"Finland\",\"France\",\"Germany\",\"Israel\",\"Japan\",\"Lebanon\",\"Netherlands\",\"Norway\",\"Singapore\",\"South Africa\",\"Spain\",\"Switzerland\",\"United Kingdom\"],\"x\":{\"dtype\":\"f8\",\"bdata\":\"AAAAAACQQEAAAAAAAAAgQAAAAAAAABBAq6qqqqqqKkCrqqqqqqoCQAAAAAAAAChAXkN5DeU1NUAAAAAAAAAYQOmiiy666BZAMzMzMzMzG0AAAAAAAADwP1VVVVVVVUxAAAAAAAAALkAAAAAAAABJQAAAAAAAABhAAAAAAAAAIEAAAAAAAAAQQAAAAAAAABNAMzMzMzMzMUBWRbprLmklQA==\"},\"xaxis\":\"x\",\"y\":{\"dtype\":\"f8\",\"bdata\":\"AQAAAAD5YUDNzMzMzMxDQM3MzMzMzDNAAAAAAACAUEBnZmZmZuYlQDUzMzMzs01AtGMFwkirVkA0MzMzM7M9QPcNa9+wNjxASOF6FK6HQEDNzMzMzMwTQFVVVVVVJWxAAAAAAABwUUAAAAAAAPBpQDQzMzMzsz1AzczMzMzMQ0DNzMzMzMwzQJqZmZmZGTdAKlyPwvVIU0CUpGYRkSRIQA==\"},\"yaxis\":\"y\",\"type\":\"scatter\",\"textposition\":\"top center\"}],                        {\"template\":{\"data\":{\"histogram2dcontour\":[{\"type\":\"histogram2dcontour\",\"colorbar\":{\"outlinewidth\":0,\"ticks\":\"\"},\"colorscale\":[[0.0,\"#0d0887\"],[0.1111111111111111,\"#46039f\"],[0.2222222222222222,\"#7201a8\"],[0.3333333333333333,\"#9c179e\"],[0.4444444444444444,\"#bd3786\"],[0.5555555555555556,\"#d8576b\"],[0.6666666666666666,\"#ed7953\"],[0.7777777777777778,\"#fb9f3a\"],[0.8888888888888888,\"#fdca26\"],[1.0,\"#f0f921\"]]}],\"choropleth\":[{\"type\":\"choropleth\",\"colorbar\":{\"outlinewidth\":0,\"ticks\":\"\"}}],\"histogram2d\":[{\"type\":\"histogram2d\",\"colorbar\":{\"outlinewidth\":0,\"ticks\":\"\"},\"colorscale\":[[0.0,\"#0d0887\"],[0.1111111111111111,\"#46039f\"],[0.2222222222222222,\"#7201a8\"],[0.3333333333333333,\"#9c179e\"],[0.4444444444444444,\"#bd3786\"],[0.5555555555555556,\"#d8576b\"],[0.6666666666666666,\"#ed7953\"],[0.7777777777777778,\"#fb9f3a\"],[0.8888888888888888,\"#fdca26\"],[1.0,\"#f0f921\"]]}],\"heatmap\":[{\"type\":\"heatmap\",\"colorbar\":{\"outlinewidth\":0,\"ticks\":\"\"},\"colorscale\":[[0.0,\"#0d0887\"],[0.1111111111111111,\"#46039f\"],[0.2222222222222222,\"#7201a8\"],[0.3333333333333333,\"#9c179e\"],[0.4444444444444444,\"#bd3786\"],[0.5555555555555556,\"#d8576b\"],[0.6666666666666666,\"#ed7953\"],[0.7777777777777778,\"#fb9f3a\"],[0.8888888888888888,\"#fdca26\"],[1.0,\"#f0f921\"]]}],\"contourcarpet\":[{\"type\":\"contourcarpet\",\"colorbar\":{\"outlinewidth\":0,\"ticks\":\"\"}}],\"contour\":[{\"type\":\"contour\",\"colorbar\":{\"outlinewidth\":0,\"ticks\":\"\"},\"colorscale\":[[0.0,\"#0d0887\"],[0.1111111111111111,\"#46039f\"],[0.2222222222222222,\"#7201a8\"],[0.3333333333333333,\"#9c179e\"],[0.4444444444444444,\"#bd3786\"],[0.5555555555555556,\"#d8576b\"],[0.6666666666666666,\"#ed7953\"],[0.7777777777777778,\"#fb9f3a\"],[0.8888888888888888,\"#fdca26\"],[1.0,\"#f0f921\"]]}],\"surface\":[{\"type\":\"surface\",\"colorbar\":{\"outlinewidth\":0,\"ticks\":\"\"},\"colorscale\":[[0.0,\"#0d0887\"],[0.1111111111111111,\"#46039f\"],[0.2222222222222222,\"#7201a8\"],[0.3333333333333333,\"#9c179e\"],[0.4444444444444444,\"#bd3786\"],[0.5555555555555556,\"#d8576b\"],[0.6666666666666666,\"#ed7953\"],[0.7777777777777778,\"#fb9f3a\"],[0.8888888888888888,\"#fdca26\"],[1.0,\"#f0f921\"]]}],\"mesh3d\":[{\"type\":\"mesh3d\",\"colorbar\":{\"outlinewidth\":0,\"ticks\":\"\"}}],\"scatter\":[{\"fillpattern\":{\"fillmode\":\"overlay\",\"size\":10,\"solidity\":0.2},\"type\":\"scatter\"}],\"parcoords\":[{\"type\":\"parcoords\",\"line\":{\"colorbar\":{\"outlinewidth\":0,\"ticks\":\"\"}}}],\"scatterpolargl\":[{\"type\":\"scatterpolargl\",\"marker\":{\"colorbar\":{\"outlinewidth\":0,\"ticks\":\"\"}}}],\"bar\":[{\"error_x\":{\"color\":\"#2a3f5f\"},\"error_y\":{\"color\":\"#2a3f5f\"},\"marker\":{\"line\":{\"color\":\"#E5ECF6\",\"width\":0.5},\"pattern\":{\"fillmode\":\"overlay\",\"size\":10,\"solidity\":0.2}},\"type\":\"bar\"}],\"scattergeo\":[{\"type\":\"scattergeo\",\"marker\":{\"colorbar\":{\"outlinewidth\":0,\"ticks\":\"\"}}}],\"scatterpolar\":[{\"type\":\"scatterpolar\",\"marker\":{\"colorbar\":{\"outlinewidth\":0,\"ticks\":\"\"}}}],\"histogram\":[{\"marker\":{\"pattern\":{\"fillmode\":\"overlay\",\"size\":10,\"solidity\":0.2}},\"type\":\"histogram\"}],\"scattergl\":[{\"type\":\"scattergl\",\"marker\":{\"colorbar\":{\"outlinewidth\":0,\"ticks\":\"\"}}}],\"scatter3d\":[{\"type\":\"scatter3d\",\"line\":{\"colorbar\":{\"outlinewidth\":0,\"ticks\":\"\"}},\"marker\":{\"colorbar\":{\"outlinewidth\":0,\"ticks\":\"\"}}}],\"scattermap\":[{\"type\":\"scattermap\",\"marker\":{\"colorbar\":{\"outlinewidth\":0,\"ticks\":\"\"}}}],\"scattermapbox\":[{\"type\":\"scattermapbox\",\"marker\":{\"colorbar\":{\"outlinewidth\":0,\"ticks\":\"\"}}}],\"scatterternary\":[{\"type\":\"scatterternary\",\"marker\":{\"colorbar\":{\"outlinewidth\":0,\"ticks\":\"\"}}}],\"scattercarpet\":[{\"type\":\"scattercarpet\",\"marker\":{\"colorbar\":{\"outlinewidth\":0,\"ticks\":\"\"}}}],\"carpet\":[{\"aaxis\":{\"endlinecolor\":\"#2a3f5f\",\"gridcolor\":\"white\",\"linecolor\":\"white\",\"minorgridcolor\":\"white\",\"startlinecolor\":\"#2a3f5f\"},\"baxis\":{\"endlinecolor\":\"#2a3f5f\",\"gridcolor\":\"white\",\"linecolor\":\"white\",\"minorgridcolor\":\"white\",\"startlinecolor\":\"#2a3f5f\"},\"type\":\"carpet\"}],\"table\":[{\"cells\":{\"fill\":{\"color\":\"#EBF0F8\"},\"line\":{\"color\":\"white\"}},\"header\":{\"fill\":{\"color\":\"#C8D4E3\"},\"line\":{\"color\":\"white\"}},\"type\":\"table\"}],\"barpolar\":[{\"marker\":{\"line\":{\"color\":\"#E5ECF6\",\"width\":0.5},\"pattern\":{\"fillmode\":\"overlay\",\"size\":10,\"solidity\":0.2}},\"type\":\"barpolar\"}],\"pie\":[{\"automargin\":true,\"type\":\"pie\"}]},\"layout\":{\"autotypenumbers\":\"strict\",\"colorway\":[\"#636efa\",\"#EF553B\",\"#00cc96\",\"#ab63fa\",\"#FFA15A\",\"#19d3f3\",\"#FF6692\",\"#B6E880\",\"#FF97FF\",\"#FECB52\"],\"font\":{\"color\":\"#2a3f5f\"},\"hovermode\":\"closest\",\"hoverlabel\":{\"align\":\"left\"},\"paper_bgcolor\":\"white\",\"plot_bgcolor\":\"#E5ECF6\",\"polar\":{\"bgcolor\":\"#E5ECF6\",\"angularaxis\":{\"gridcolor\":\"white\",\"linecolor\":\"white\",\"ticks\":\"\"},\"radialaxis\":{\"gridcolor\":\"white\",\"linecolor\":\"white\",\"ticks\":\"\"}},\"ternary\":{\"bgcolor\":\"#E5ECF6\",\"aaxis\":{\"gridcolor\":\"white\",\"linecolor\":\"white\",\"ticks\":\"\"},\"baxis\":{\"gridcolor\":\"white\",\"linecolor\":\"white\",\"ticks\":\"\"},\"caxis\":{\"gridcolor\":\"white\",\"linecolor\":\"white\",\"ticks\":\"\"}},\"coloraxis\":{\"colorbar\":{\"outlinewidth\":0,\"ticks\":\"\"}},\"colorscale\":{\"sequential\":[[0.0,\"#0d0887\"],[0.1111111111111111,\"#46039f\"],[0.2222222222222222,\"#7201a8\"],[0.3333333333333333,\"#9c179e\"],[0.4444444444444444,\"#bd3786\"],[0.5555555555555556,\"#d8576b\"],[0.6666666666666666,\"#ed7953\"],[0.7777777777777778,\"#fb9f3a\"],[0.8888888888888888,\"#fdca26\"],[1.0,\"#f0f921\"]],\"sequentialminus\":[[0.0,\"#0d0887\"],[0.1111111111111111,\"#46039f\"],[0.2222222222222222,\"#7201a8\"],[0.3333333333333333,\"#9c179e\"],[0.4444444444444444,\"#bd3786\"],[0.5555555555555556,\"#d8576b\"],[0.6666666666666666,\"#ed7953\"],[0.7777777777777778,\"#fb9f3a\"],[0.8888888888888888,\"#fdca26\"],[1.0,\"#f0f921\"]],\"diverging\":[[0,\"#8e0152\"],[0.1,\"#c51b7d\"],[0.2,\"#de77ae\"],[0.3,\"#f1b6da\"],[0.4,\"#fde0ef\"],[0.5,\"#f7f7f7\"],[0.6,\"#e6f5d0\"],[0.7,\"#b8e186\"],[0.8,\"#7fbc41\"],[0.9,\"#4d9221\"],[1,\"#276419\"]]},\"xaxis\":{\"gridcolor\":\"white\",\"linecolor\":\"white\",\"ticks\":\"\",\"title\":{\"standoff\":15},\"zerolinecolor\":\"white\",\"automargin\":true,\"zerolinewidth\":2},\"yaxis\":{\"gridcolor\":\"white\",\"linecolor\":\"white\",\"ticks\":\"\",\"title\":{\"standoff\":15},\"zerolinecolor\":\"white\",\"automargin\":true,\"zerolinewidth\":2},\"scene\":{\"xaxis\":{\"backgroundcolor\":\"#E5ECF6\",\"gridcolor\":\"white\",\"linecolor\":\"white\",\"showbackground\":true,\"ticks\":\"\",\"zerolinecolor\":\"white\",\"gridwidth\":2},\"yaxis\":{\"backgroundcolor\":\"#E5ECF6\",\"gridcolor\":\"white\",\"linecolor\":\"white\",\"showbackground\":true,\"ticks\":\"\",\"zerolinecolor\":\"white\",\"gridwidth\":2},\"zaxis\":{\"backgroundcolor\":\"#E5ECF6\",\"gridcolor\":\"white\",\"linecolor\":\"white\",\"showbackground\":true,\"ticks\":\"\",\"zerolinecolor\":\"white\",\"gridwidth\":2}},\"shapedefaults\":{\"line\":{\"color\":\"#2a3f5f\"}},\"annotationdefaults\":{\"arrowcolor\":\"#2a3f5f\",\"arrowhead\":0,\"arrowwidth\":1},\"geo\":{\"bgcolor\":\"white\",\"landcolor\":\"#E5ECF6\",\"subunitcolor\":\"white\",\"showland\":true,\"showlakes\":true,\"lakecolor\":\"white\"},\"title\":{\"x\":0.05},\"mapbox\":{\"style\":\"light\"}}},\"xaxis\":{\"anchor\":\"y\",\"domain\":[0.0,1.0],\"title\":{\"text\":\"Average Quantity\"}},\"yaxis\":{\"anchor\":\"x\",\"domain\":[0.0,1.0],\"title\":{\"text\":\"Average Revenue\"}},\"legend\":{\"tracegroupgap\":0},\"title\":{\"text\":\"Average Quantity vs Revenue for PARTY BUNTING by Country\"},\"showlegend\":false},                        {\"responsive\": true}                    ).then(function(){\n",
       "                            \n",
       "var gd = document.getElementById('0ad18e85-7fe5-400d-97e8-ae959636531f');\n",
       "var x = new MutationObserver(function (mutations, observer) {{\n",
       "        var display = window.getComputedStyle(gd).display;\n",
       "        if (!display || display === 'none') {{\n",
       "            console.log([gd, 'removed!']);\n",
       "            Plotly.purge(gd);\n",
       "            observer.disconnect();\n",
       "        }}\n",
       "}});\n",
       "\n",
       "// Listen for the removal of the full notebook cells\n",
       "var notebookContainer = gd.closest('#notebook-container');\n",
       "if (notebookContainer) {{\n",
       "    x.observe(notebookContainer, {childList: true});\n",
       "}}\n",
       "\n",
       "// Listen for the clearing of the current output cell\n",
       "var outputEl = gd.closest('.output');\n",
       "if (outputEl) {{\n",
       "    x.observe(outputEl, {childList: true});\n",
       "}}\n",
       "\n",
       "                        })                };            </script>        </div>"
      ]
     },
     "metadata": {},
     "output_type": "display_data"
    }
   ],
   "source": [
    "party_bunting = data[(data['Description'] == 'PARTY BUNTING')]\n",
    "party_bunting = party_bunting.groupby('Country')[['Quantity', \"Revenue\"]].mean().reset_index()\n",
    "\n",
    "# Interaktiver Scatterplot\n",
    "fig = px.scatter(\n",
    "    party_bunting,\n",
    "    x='Quantity',\n",
    "    y='Revenue',\n",
    "    text='Country',\n",
    "    title='Average Quantity vs Revenue for PARTY BUNTING by Country',\n",
    "    labels={'Quantity': 'Average Quantity', 'Revenue': 'Average Revenue'}\n",
    ")\n",
    "\n",
    "# Optionale Anpassung für bessere Lesbarkeit\n",
    "fig.update_traces(textposition='top center')\n",
    "fig.update_layout(showlegend=False)\n",
    "\n",
    "fig.show()"
   ]
  },
  {
   "cell_type": "markdown",
   "metadata": {},
   "source": [
    "## 4. Create a set of interactive histograms showing the distributions of quantity per invoice for the following countries: EIRE, Germany, France, and Netherlands."
   ]
  },
  {
   "cell_type": "code",
   "execution_count": 30,
   "metadata": {},
   "outputs": [
    {
     "data": {
      "application/vnd.plotly.v1+json": {
       "config": {
        "plotlyServerURL": "https://plot.ly"
       },
       "data": [
        {
         "bingroup": "x",
         "histnorm": "",
         "hovertemplate": "Country=EIRE<br>Quantity per Invoice=%{x}<br>=%{y}<extra></extra>",
         "legendgroup": "EIRE",
         "marker": {
          "color": "#636efa",
          "opacity": 0.5,
          "pattern": {
           "shape": ""
          }
         },
         "name": "EIRE",
         "nbinsx": 50,
         "orientation": "v",
         "showlegend": true,
         "type": "histogram",
         "x": {
          "bdata": "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",
          "dtype": "i2"
         },
         "xaxis": "x",
         "yaxis": "y"
        },
        {
         "bingroup": "x",
         "histnorm": "",
         "hovertemplate": "Country=Netherlands<br>Quantity per Invoice=%{x}<br>=%{y}<extra></extra>",
         "legendgroup": "Netherlands",
         "marker": {
          "color": "#EF553B",
          "opacity": 0.5,
          "pattern": {
           "shape": ""
          }
         },
         "name": "Netherlands",
         "nbinsx": 50,
         "orientation": "v",
         "showlegend": true,
         "type": "histogram",
         "x": {
          "bdata": "AAEMAAwABgAGAKAACACAAAQADACAAAQAgABAAAIAGACgAKAABgAGADwABgAwADAAGAACAAEAMAAkAAwABgAMACQAMAAYAAEAAQABAEgASADIABIAwACQAGAAYAAwAMAAMACQAGAAMADwADAA8AAMAMAAMADwAPAAMABgAMAAYABgAJAAYACAAIAAgAFAAEAAgACAAAwAgAJAAEABQABAAEAAQAEMAIAAgABAAcABwAAMAEAADADAAIAAQAAAARgADABAAEAAQACAAMAAAQAMAIAAQAAMAEAAQABAAEAAZAAKAGQAZABkAGQAyABkACwBIAEgATAAkACQAJAADACQAJAAkAAgASABIAEYAGQAGACQAPAA8ACQACQAQAJAAkACeAAEAAYAZABkAGQACgBkABQAZABkAGQAZAABAGQAyABkAGQAZABkAAoASABIAEgASABIAEgASAAEAEgAYABgACQAZABkAMgAyABkAGQAZADIAGQAZAA8ADwAtAA8ALQAAQA8ADwAPAAGADwAPAA8ADwAPAA8AHgAeAABADwAPAB4ADwAPADwAHgAoAV4AHgA8ACwBBgAeAB4ABgA8AB4AHgAeAB4APAAeAB4ADAAeAAYABgAeAB4APAAeAB4AGgBBgAwAAEAZABkAGQAZABkAMAAYABgAGAAYABkAGQAZABgAGAAYABgAGAADAAEADAACgBkAGAAYADAAAwASABIABgAkACQAGQAyAAKAGQAyABkAMgAZADIAGQAZABkAGQAyABkAGQAyADIAGQAyABkAMgAMAAwADAAMABgADAAwABgAAwADAAMAAwAoAAwABgADAAwADAADAAMACAAGAAYAAIADACQABgAkAAMAGAAYABgAGAAYABgACQAGAAGACgAGAAwADAAGAAEADAAGAAoACgAUAB4AGAAYABgAJAAkAAwAGAAMAAwADAAMABgADAAMgAeAB4AHgBsAAQAAQBgAGAAYAABAAIADAAMAAwAkABIAEgAIAEgASABDAAGAAwAyABkAAoAyABkAAoAZABkAGQACgBkAMgAyABkAGQAZADIAGQAZABkAMgAZAAUAGQAZABkAGQAZADIAGQASABsACQASAAkAEgAJAAkAGwAJAAgAUgASAAJACQABAAMABAADAAEAAQABAAgASABGAAYAAwAkAAMAAwAMAAYACQAkACQAAwAkAAMAJAAkACQAAYAkAAGAJAAeAB4APAAGAB4AHgAGAB4AHgAeAB4APAAGAB4AHgA8ADwAHgAeAB4ABgAeAB4AHgAeAAYAHgAZAAUAGQAZABkAGQAZABkAGQAZADIAGQAZABkAGQAZABkAGQAFABkAGQA2AAMACQAIAAgAMgAYAAMAJAAkAAgAZAAkABgAJAADACQABgAkAAeACgAIAFIAAwAAQBIAEgAYADAAGAAYABgAGAAYABgAGAASACQAEgASABIAJAASAAMAEgAYAB4ADAAMAAwABgAGAAYAGQAZADIAGQACgBkAGQAZABkAGQAZABkAGQAZABkAMAAMABgADAAkAAwADAAkABgADAAkABgADAAMABgADAAwABgADAAQACAAUAAgAEMAIACQAAAAUAAQABAAQwAgABAAEABwAHAAEAADAAAAYAAwABgABAAYAAYAGAAEABgAGAAYAAwADAAYABgAGAAYABgAJAADACQAJAAIAFgACABYABgAMAAwAMoACgAMAAwABgAGAAYABgAAQAwAEgADAAkAAwADAAMAAwAGAAoACgAKABQACgAkACQAJAAwAYMADAAMAAwAAwAMgAyADIAMgAyADIAZABkAGQAMgAyAAgACAAyADIAMgAyADIAZAAyAGQA8AB4AHgA8AB4AHgAeADwAHgA8AB4APAA8ADwADAAEAAQABAAAwAQACAAYABgAGAAYABgAGAAYABgAGAAwACAAWAAwABgAGAAYABgAGAAYABgAGAAIAFgAGAAwABgAMAAYADAAGAAwAAYAMAAGADAAMAAQAAgAEAAQAAgAEgAJAAkACQAJAAkAAEAJAAkAAwASAAIAEgASAAkAJAAkAAkACQAAgAyAMgAKAAoAKAAYABgACABGAAgATwAPAA8AHgAPADYALABIAEYACABMAAgAQYA2AAMANgAIAEgARgAIAGQAJAAAgBgADAAMABgAGwAkABgAJAAkACQAJAAMAB4AAoAeACAAIAAAQCAAGAAQAAgABAAIAABACAAEABAACAADAAEAJAA2AAMAAwAkABIAJAASACQAJAAkABIAEgASABIAEgASABIAGQAZABkABgAsAEKAMgAFAAUAEgAkAA8ADwAPAA8ADwAPAAwADAABgBQAFAAUAAoAAwAAgAYAEgAZAAKAGQAAQBkAGQADAAMAEgASABIAAQABABIAEgASAACAGQAGACQABgAkACQAGAAAQBgAGAAAQAMAAIAgAEGABgAMAAGABgAGAAYAIABAQACAAwAAgAkAAwADAACAAIADAAMAAwAJAAMAAQAAgABAAwAAgAMAAwAJADAAGAAYABgAMAADABcAGQAyABkAGQAZADIACwBZABkAGQAZABgADAAwAAwADAAYAAwAAwAAQAMADAADAAQABAADAACAAIAAQAMAAwABAAIAAgADAAEAEgAkAAyADIAYAABAGAAYAAMAGAADABgAGAAYABgAGAAYABgAGAAYADwABgA8ADwAJAAAQBIAEgAIAGQAJAAkACQAJAASACQAEgAkAAMAJAAAQABAJAAJAAYAJAAkACQAJAAAQAYABgAGAAwABgAGAAYADAAMAAYABgAGAAYABgAGAABADAAGABgABgAGAAYAAIAKACQAAQAFAAeAGAAYAAwAAIAZABkAGQAZABkAGQAZABkAGQAZABkAGQAAQBkAGQAFABgAGAAIAEgARgAIAEkACABJAAYACABIAEZACgAIABkAGQACgABABQACgAMAMAAGAAGAEgAkAAwABAAEAAUABQABAAMAAQACAAIAAwABAAQAAQACAAIAAQAkABIAEgAbABsAGwAbABsAAwADABgAGAAYAAMAAwAMACQAAwAkACQAEgASABIAEgASABIAEgASABIAEgASABIAJAAAQAMAAwASABIALAALAEUADIABQAYAGAAGABgAGAAYAADAAgABgAMACAAEAAQABAAEAAgACABGAAgARgAGACQAJAAkACQANgAkABIAAwASABIAEgAkABIAJAASACQAEgASABIAAwASACQAGQAMgAyADIAMgAIAGQAMAABAAgAGACQADAAkABIAAwAGABIAJAAkABIAAwADAAYAGAAYABgAGAAYABgAGAAYADAAEgAMADAADAAMAAMAAwADAAEAAYAEAAQABAAGABIAEgAQAAEABAAYAAwADAAEgAGAEgAGAAYAAQAGAAoACgAGAAYAEgAAQDYAAYAkABIAJAASACQAEgAkAAgAZAAGAAYACABIAEgAWAAZABkAGQAZABkAGQAZAAkACQABAAgARgAIAEyAAgAMgAyADwAPAB4AB4APAAeADwAPAABADwAPAA8ADwAPAAwAGAAMAAwADAAMAAYAEgACAAQAGAAYAAYADAADAAwANgADAAMAAwAAQAkAAwA2ADAAAwADABgAAEADADAAMAADAAMAAwAAQAYAAwAMABgABQAyAAUAMgAwAAYAAgASABIABgAGAAEAAwAEgAYADAAGAAwABgAMAAYADAAMAAgAWAAGQAZAAYAGQDYAGAAEAAQAAMAEAAgAHgAAQASABkAyADIAGQAZADIAGQALAHIAMgAZADIAMgAZABkAGQAZABkAGQAZADIAGQAyADIAAwAZABkAGQAZABkABgADABIAEgASACQAEgASABIAEgAyABkAGQAZABkAMgAZADIAGQALAHIAMgAyABkAGQACgCQACABHgAMADwASAABAEgAEgAMAAwADAAIABgAkAAMAAwAYABgABgACAAIADAAEABgADIADAAYAAEAAQBgAAEAeAB4ABQAeAAAAYAAEAABAAEAkABIAJAAkACQAJAAkABgAGAASADgAQwAGABgAAwAGABgAHgAZAAyADIAZAAGADIASAB4AJAAkACQAAIAkABgADAAYAAwAHgAPAA8ADwASADwADIAMgAyAPoAMgBkABgAEAAwAGAAeABgAAYACgBIAEgAGACQAJAAkAAgAQEADAAwAGwAMAAwAAYAEAAyADIABAADAAQAMAAwAEgAkAAMACQAJAAwAJAAMAAMAEgAbABsAPAAkABgAGAAIAFIANgA2AAYAAwA2AAYABgASABIAEgASAAMAEgASABIABgAGABgAMAAAgACAAYABgBgABQAMAAwADAAYAAwAAwAMAAMAGQAGQDAAGAAYABgAGAAYABgAGAAYADwAAEAAgBgAGAAYAAMAMAADABIAGAAGQBIAAwAAgAMAAwAaAEGABgAGADAAAwAGAAYAGQAJACQAJAAIAECAAIAGADAAGAACAAoAAYAGAAIAGAAAQABAAwADAARAGwAQABgAPAADAACAAYAIAADAAIAGAAYADAAkAAMAAEADABgAPAASAAkAAYADAAMABgABAAYABgAMgACAAMAGADAAGAAUABIAAwAGQDYAMAADAAKADAAMAACADIAMAAwADAADAAGAAEAkAACAAoAZAABABgABgBIAEgAAQAMAEgASABIAJAAkACQAJAAkAAYAEgASABIACgAKAAoAEgAJABIACQAEgAGAAEAAgAMAAEAEgAMAAEADAAGAAYADADIAJAByADwAPAA8AACACQAeAB4AHgAeAB4AGAAYAB4AHgAeAB4AHgASABIAAEABABIAJAASABIAAEABABIAEgASABIAEgAAQAEAEgASABkAGQAyAABAMgAZADIAMgAZAAKAAEAyABkAB4AZABkAGQAAQBkAMgAZAABAMgAyABkAGQAZABkAAEALAFkAGQAZAAsAWQAAQAsAcgAZADIABAACAABAAwAJAAYAAEADAABAAEAkACQAJAADAAGAGAADAAYADAAMAAwADAAMAAEADAAMAAkACQAMgABADIAyABkAAEAZABkAGQAZAAKAGQAZABkAAEAZABkAGQAAQBkAJAByAAKAGAAYABgAMAAwABgADAAMAAwAAQASAAEAAYASAAGABgABAAMABgAGAAMADAAMAAwADAAMABgAAwAMAAwAJAAAgAQABAAEAAQABgA8AABAOABYAnYAKAFYADAAGAAwABgABAAEAAQAAEADAAMAAwAAgAQABAAEAAQABAAIAAQADAADAAwADAAMABgAEgASABIAEgAYABgAAIADAAMAAEAYAAkABIASABgAEgASACQADAAYABgAJAAYAAkABgAGAAYAAwADADAAMAAAQB4AHgAGAB4AEgAwABgAAEAeAB4APAAeAAYAAEAkAAMAAwAAQAwADAA8AAwAGAAYAAwAAEAMAAwADAAAQAYABgAAQAQACAAQAAgADAAMAAEAFAAIAAQADAAAQBgAAEAtABoAUgASAAMAIABwAABAGAAAQBgAAEAYAABAAEAYAAwAMAAGABgAGAAYAABAGAAEADAABgAYAABAJAAEACQABgAkAABAJAAMACQABgAkAAIAJAAkAABAGAAJABIACQADAAYAAwAGABgAAgACABgAGAAYABgAGAAYAAMABgAAQAUAGQAyAAKAIwAkACQAAwAkAAgAQwAMAAwAAEADAAMAAwABgABAIAACAABAAABCAAwAAEAAAGAAIAAAAEIAAEAAAGAAIAAAQDwAPAAMgABAMgAAQDIAMgAkAGQAQEAyADIAJABDACQAQEAAQABADAAMAAwADAAwADAABgAYAABAAwAGAAYAAEAAQBgAAEAYAABADAAMAAKAAoAMgABADIAMgBkAAEAMgAyAAEAZABkADIAAQBkADIAAQABABgAAQABAAEAgACAAAEAkAEBAAEAAQABADIAAQABAIAAgABIAJAAAwBgAAMAAQABAAEAgACAAJAAAwCQAAEAkAADAGAAAwABAAEAkAEoAAEAkAADAEgAAwBIAAMAKAABAAEASAABACQAAQBIAAEAZACQAJAAJAAkAAIAkAABAMAAAQABAJAAkAABAMAAAQAYAGwAAQABAMgAAQBkAMgAZAABAGQAAQABAMgAUABQAJAASABIADAAPAA8ADwA",
          "dtype": "i2"
         },
         "xaxis": "x",
         "yaxis": "y"
        },
        {
         "bingroup": "x",
         "histnorm": "",
         "hovertemplate": "Country=France<br>Quantity per Invoice=%{x}<br>=%{y}<extra></extra>",
         "legendgroup": "France",
         "marker": {
          "color": "#00cc96",
          "opacity": 0.5,
          "pattern": {
           "shape": ""
          }
         },
         "name": "France",
         "nbinsx": 50,
         "orientation": "v",
         "showlegend": true,
         "type": "histogram",
         "x": {
          "bdata": "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",
          "dtype": "i2"
         },
         "xaxis": "x",
         "yaxis": "y"
        },
        {
         "bingroup": "x",
         "histnorm": "",
         "hovertemplate": "Country=Germany<br>Quantity per Invoice=%{x}<br>=%{y}<extra></extra>",
         "legendgroup": "Germany",
         "marker": {
          "color": "#ab63fa",
          "opacity": 0.5,
          "pattern": {
           "shape": ""
          }
         },
         "name": "Germany",
         "nbinsx": 50,
         "orientation": "v",
         "showlegend": true,
         "type": "histogram",
         "x": {
          "bdata": "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",
          "dtype": "i2"
         },
         "xaxis": "x",
         "yaxis": "y"
        }
       ],
       "layout": {
        "barmode": "overlay",
        "legend": {
         "title": {
          "text": "Country"
         },
         "tracegroupgap": 0
        },
        "template": {
         "data": {
          "bar": [
           {
            "error_x": {
             "color": "#2a3f5f"
            },
            "error_y": {
             "color": "#2a3f5f"
            },
            "marker": {
             "line": {
              "color": "#E5ECF6",
              "width": 0.5
             },
             "pattern": {
              "fillmode": "overlay",
              "size": 10,
              "solidity": 0.2
             }
            },
            "type": "bar"
           }
          ],
          "barpolar": [
           {
            "marker": {
             "line": {
              "color": "#E5ECF6",
              "width": 0.5
             },
             "pattern": {
              "fillmode": "overlay",
              "size": 10,
              "solidity": 0.2
             }
            },
            "type": "barpolar"
           }
          ],
          "carpet": [
           {
            "aaxis": {
             "endlinecolor": "#2a3f5f",
             "gridcolor": "white",
             "linecolor": "white",
             "minorgridcolor": "white",
             "startlinecolor": "#2a3f5f"
            },
            "baxis": {
             "endlinecolor": "#2a3f5f",
             "gridcolor": "white",
             "linecolor": "white",
             "minorgridcolor": "white",
             "startlinecolor": "#2a3f5f"
            },
            "type": "carpet"
           }
          ],
          "choropleth": [
           {
            "colorbar": {
             "outlinewidth": 0,
             "ticks": ""
            },
            "type": "choropleth"
           }
          ],
          "contour": [
           {
            "colorbar": {
             "outlinewidth": 0,
             "ticks": ""
            },
            "colorscale": [
             [
              0,
              "#0d0887"
             ],
             [
              0.1111111111111111,
              "#46039f"
             ],
             [
              0.2222222222222222,
              "#7201a8"
             ],
             [
              0.3333333333333333,
              "#9c179e"
             ],
             [
              0.4444444444444444,
              "#bd3786"
             ],
             [
              0.5555555555555556,
              "#d8576b"
             ],
             [
              0.6666666666666666,
              "#ed7953"
             ],
             [
              0.7777777777777778,
              "#fb9f3a"
             ],
             [
              0.8888888888888888,
              "#fdca26"
             ],
             [
              1,
              "#f0f921"
             ]
            ],
            "type": "contour"
           }
          ],
          "contourcarpet": [
           {
            "colorbar": {
             "outlinewidth": 0,
             "ticks": ""
            },
            "type": "contourcarpet"
           }
          ],
          "heatmap": [
           {
            "colorbar": {
             "outlinewidth": 0,
             "ticks": ""
            },
            "colorscale": [
             [
              0,
              "#0d0887"
             ],
             [
              0.1111111111111111,
              "#46039f"
             ],
             [
              0.2222222222222222,
              "#7201a8"
             ],
             [
              0.3333333333333333,
              "#9c179e"
             ],
             [
              0.4444444444444444,
              "#bd3786"
             ],
             [
              0.5555555555555556,
              "#d8576b"
             ],
             [
              0.6666666666666666,
              "#ed7953"
             ],
             [
              0.7777777777777778,
              "#fb9f3a"
             ],
             [
              0.8888888888888888,
              "#fdca26"
             ],
             [
              1,
              "#f0f921"
             ]
            ],
            "type": "heatmap"
           }
          ],
          "histogram": [
           {
            "marker": {
             "pattern": {
              "fillmode": "overlay",
              "size": 10,
              "solidity": 0.2
             }
            },
            "type": "histogram"
           }
          ],
          "histogram2d": [
           {
            "colorbar": {
             "outlinewidth": 0,
             "ticks": ""
            },
            "colorscale": [
             [
              0,
              "#0d0887"
             ],
             [
              0.1111111111111111,
              "#46039f"
             ],
             [
              0.2222222222222222,
              "#7201a8"
             ],
             [
              0.3333333333333333,
              "#9c179e"
             ],
             [
              0.4444444444444444,
              "#bd3786"
             ],
             [
              0.5555555555555556,
              "#d8576b"
             ],
             [
              0.6666666666666666,
              "#ed7953"
             ],
             [
              0.7777777777777778,
              "#fb9f3a"
             ],
             [
              0.8888888888888888,
              "#fdca26"
             ],
             [
              1,
              "#f0f921"
             ]
            ],
            "type": "histogram2d"
           }
          ],
          "histogram2dcontour": [
           {
            "colorbar": {
             "outlinewidth": 0,
             "ticks": ""
            },
            "colorscale": [
             [
              0,
              "#0d0887"
             ],
             [
              0.1111111111111111,
              "#46039f"
             ],
             [
              0.2222222222222222,
              "#7201a8"
             ],
             [
              0.3333333333333333,
              "#9c179e"
             ],
             [
              0.4444444444444444,
              "#bd3786"
             ],
             [
              0.5555555555555556,
              "#d8576b"
             ],
             [
              0.6666666666666666,
              "#ed7953"
             ],
             [
              0.7777777777777778,
              "#fb9f3a"
             ],
             [
              0.8888888888888888,
              "#fdca26"
             ],
             [
              1,
              "#f0f921"
             ]
            ],
            "type": "histogram2dcontour"
           }
          ],
          "mesh3d": [
           {
            "colorbar": {
             "outlinewidth": 0,
             "ticks": ""
            },
            "type": "mesh3d"
           }
          ],
          "parcoords": [
           {
            "line": {
             "colorbar": {
              "outlinewidth": 0,
              "ticks": ""
             }
            },
            "type": "parcoords"
           }
          ],
          "pie": [
           {
            "automargin": true,
            "type": "pie"
           }
          ],
          "scatter": [
           {
            "fillpattern": {
             "fillmode": "overlay",
             "size": 10,
             "solidity": 0.2
            },
            "type": "scatter"
           }
          ],
          "scatter3d": [
           {
            "line": {
             "colorbar": {
              "outlinewidth": 0,
              "ticks": ""
             }
            },
            "marker": {
             "colorbar": {
              "outlinewidth": 0,
              "ticks": ""
             }
            },
            "type": "scatter3d"
           }
          ],
          "scattercarpet": [
           {
            "marker": {
             "colorbar": {
              "outlinewidth": 0,
              "ticks": ""
             }
            },
            "type": "scattercarpet"
           }
          ],
          "scattergeo": [
           {
            "marker": {
             "colorbar": {
              "outlinewidth": 0,
              "ticks": ""
             }
            },
            "type": "scattergeo"
           }
          ],
          "scattergl": [
           {
            "marker": {
             "colorbar": {
              "outlinewidth": 0,
              "ticks": ""
             }
            },
            "type": "scattergl"
           }
          ],
          "scattermap": [
           {
            "marker": {
             "colorbar": {
              "outlinewidth": 0,
              "ticks": ""
             }
            },
            "type": "scattermap"
           }
          ],
          "scattermapbox": [
           {
            "marker": {
             "colorbar": {
              "outlinewidth": 0,
              "ticks": ""
             }
            },
            "type": "scattermapbox"
           }
          ],
          "scatterpolar": [
           {
            "marker": {
             "colorbar": {
              "outlinewidth": 0,
              "ticks": ""
             }
            },
            "type": "scatterpolar"
           }
          ],
          "scatterpolargl": [
           {
            "marker": {
             "colorbar": {
              "outlinewidth": 0,
              "ticks": ""
             }
            },
            "type": "scatterpolargl"
           }
          ],
          "scatterternary": [
           {
            "marker": {
             "colorbar": {
              "outlinewidth": 0,
              "ticks": ""
             }
            },
            "type": "scatterternary"
           }
          ],
          "surface": [
           {
            "colorbar": {
             "outlinewidth": 0,
             "ticks": ""
            },
            "colorscale": [
             [
              0,
              "#0d0887"
             ],
             [
              0.1111111111111111,
              "#46039f"
             ],
             [
              0.2222222222222222,
              "#7201a8"
             ],
             [
              0.3333333333333333,
              "#9c179e"
             ],
             [
              0.4444444444444444,
              "#bd3786"
             ],
             [
              0.5555555555555556,
              "#d8576b"
             ],
             [
              0.6666666666666666,
              "#ed7953"
             ],
             [
              0.7777777777777778,
              "#fb9f3a"
             ],
             [
              0.8888888888888888,
              "#fdca26"
             ],
             [
              1,
              "#f0f921"
             ]
            ],
            "type": "surface"
           }
          ],
          "table": [
           {
            "cells": {
             "fill": {
              "color": "#EBF0F8"
             },
             "line": {
              "color": "white"
             }
            },
            "header": {
             "fill": {
              "color": "#C8D4E3"
             },
             "line": {
              "color": "white"
             }
            },
            "type": "table"
           }
          ]
         },
         "layout": {
          "annotationdefaults": {
           "arrowcolor": "#2a3f5f",
           "arrowhead": 0,
           "arrowwidth": 1
          },
          "autotypenumbers": "strict",
          "coloraxis": {
           "colorbar": {
            "outlinewidth": 0,
            "ticks": ""
           }
          },
          "colorscale": {
           "diverging": [
            [
             0,
             "#8e0152"
            ],
            [
             0.1,
             "#c51b7d"
            ],
            [
             0.2,
             "#de77ae"
            ],
            [
             0.3,
             "#f1b6da"
            ],
            [
             0.4,
             "#fde0ef"
            ],
            [
             0.5,
             "#f7f7f7"
            ],
            [
             0.6,
             "#e6f5d0"
            ],
            [
             0.7,
             "#b8e186"
            ],
            [
             0.8,
             "#7fbc41"
            ],
            [
             0.9,
             "#4d9221"
            ],
            [
             1,
             "#276419"
            ]
           ],
           "sequential": [
            [
             0,
             "#0d0887"
            ],
            [
             0.1111111111111111,
             "#46039f"
            ],
            [
             0.2222222222222222,
             "#7201a8"
            ],
            [
             0.3333333333333333,
             "#9c179e"
            ],
            [
             0.4444444444444444,
             "#bd3786"
            ],
            [
             0.5555555555555556,
             "#d8576b"
            ],
            [
             0.6666666666666666,
             "#ed7953"
            ],
            [
             0.7777777777777778,
             "#fb9f3a"
            ],
            [
             0.8888888888888888,
             "#fdca26"
            ],
            [
             1,
             "#f0f921"
            ]
           ],
           "sequentialminus": [
            [
             0,
             "#0d0887"
            ],
            [
             0.1111111111111111,
             "#46039f"
            ],
            [
             0.2222222222222222,
             "#7201a8"
            ],
            [
             0.3333333333333333,
             "#9c179e"
            ],
            [
             0.4444444444444444,
             "#bd3786"
            ],
            [
             0.5555555555555556,
             "#d8576b"
            ],
            [
             0.6666666666666666,
             "#ed7953"
            ],
            [
             0.7777777777777778,
             "#fb9f3a"
            ],
            [
             0.8888888888888888,
             "#fdca26"
            ],
            [
             1,
             "#f0f921"
            ]
           ]
          },
          "colorway": [
           "#636efa",
           "#EF553B",
           "#00cc96",
           "#ab63fa",
           "#FFA15A",
           "#19d3f3",
           "#FF6692",
           "#B6E880",
           "#FF97FF",
           "#FECB52"
          ],
          "font": {
           "color": "#2a3f5f"
          },
          "geo": {
           "bgcolor": "white",
           "lakecolor": "white",
           "landcolor": "#E5ECF6",
           "showlakes": true,
           "showland": true,
           "subunitcolor": "white"
          },
          "hoverlabel": {
           "align": "left"
          },
          "hovermode": "closest",
          "mapbox": {
           "style": "light"
          },
          "paper_bgcolor": "white",
          "plot_bgcolor": "#E5ECF6",
          "polar": {
           "angularaxis": {
            "gridcolor": "white",
            "linecolor": "white",
            "ticks": ""
           },
           "bgcolor": "#E5ECF6",
           "radialaxis": {
            "gridcolor": "white",
            "linecolor": "white",
            "ticks": ""
           }
          },
          "scene": {
           "xaxis": {
            "backgroundcolor": "#E5ECF6",
            "gridcolor": "white",
            "gridwidth": 2,
            "linecolor": "white",
            "showbackground": true,
            "ticks": "",
            "zerolinecolor": "white"
           },
           "yaxis": {
            "backgroundcolor": "#E5ECF6",
            "gridcolor": "white",
            "gridwidth": 2,
            "linecolor": "white",
            "showbackground": true,
            "ticks": "",
            "zerolinecolor": "white"
           },
           "zaxis": {
            "backgroundcolor": "#E5ECF6",
            "gridcolor": "white",
            "gridwidth": 2,
            "linecolor": "white",
            "showbackground": true,
            "ticks": "",
            "zerolinecolor": "white"
           }
          },
          "shapedefaults": {
           "line": {
            "color": "#2a3f5f"
           }
          },
          "ternary": {
           "aaxis": {
            "gridcolor": "white",
            "linecolor": "white",
            "ticks": ""
           },
           "baxis": {
            "gridcolor": "white",
            "linecolor": "white",
            "ticks": ""
           },
           "bgcolor": "#E5ECF6",
           "caxis": {
            "gridcolor": "white",
            "linecolor": "white",
            "ticks": ""
           }
          },
          "title": {
           "x": 0.05
          },
          "xaxis": {
           "automargin": true,
           "gridcolor": "white",
           "linecolor": "white",
           "ticks": "",
           "title": {
            "standoff": 15
           },
           "zerolinecolor": "white",
           "zerolinewidth": 2
          },
          "yaxis": {
           "automargin": true,
           "gridcolor": "white",
           "linecolor": "white",
           "ticks": "",
           "title": {
            "standoff": 15
           },
           "zerolinecolor": "white",
           "zerolinewidth": 2
          }
         }
        },
        "title": {
         "text": "Distribution of Quantity per Invoice by Country"
        },
        "xaxis": {
         "anchor": "y",
         "domain": [
          0,
          1
         ],
         "title": {
          "text": "Quantity per Invoice"
         }
        },
        "yaxis": {
         "anchor": "x",
         "domain": [
          0,
          1
         ],
         "title": {
          "text": ""
         }
        }
       }
      },
      "text/html": [
       "<div>            <script src=\"https://cdnjs.cloudflare.com/ajax/libs/mathjax/2.7.5/MathJax.js?config=TeX-AMS-MML_SVG\"></script><script type=\"text/javascript\">if (window.MathJax && window.MathJax.Hub && window.MathJax.Hub.Config) {window.MathJax.Hub.Config({SVG: {font: \"STIX-Web\"}});}</script>                <script type=\"text/javascript\">window.PlotlyConfig = {MathJaxConfig: 'local'};</script>\n",
       "        <script charset=\"utf-8\" src=\"https://cdn.plot.ly/plotly-3.0.1.min.js\"></script>                <div id=\"f8aaacb1-b989-4536-94c8-e4aa98909dc6\" class=\"plotly-graph-div\" style=\"height:525px; width:100%;\"></div>            <script type=\"text/javascript\">                window.PLOTLYENV=window.PLOTLYENV || {};                                if (document.getElementById(\"f8aaacb1-b989-4536-94c8-e4aa98909dc6\")) {                    Plotly.newPlot(                        \"f8aaacb1-b989-4536-94c8-e4aa98909dc6\",                        [{\"bingroup\":\"x\",\"histnorm\":\"\",\"hovertemplate\":\"Country=EIRE\\u003cbr\\u003eQuantity per Invoice=%{x}\\u003cbr\\u003e=%{y}\\u003cextra\\u003e\\u003c\\u002fextra\\u003e\",\"legendgroup\":\"EIRE\",\"marker\":{\"color\":\"#636efa\",\"opacity\":0.5,\"pattern\":{\"shape\":\"\"}},\"name\":\"EIRE\",\"nbinsx\":50,\"orientation\":\"v\",\"showlegend\":true,\"x\":{\"dtype\":\"i2\",\"bdata\":\"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\"},\"xaxis\":\"x\",\"yaxis\":\"y\",\"type\":\"histogram\"},{\"bingroup\":\"x\",\"histnorm\":\"\",\"hovertemplate\":\"Country=Netherlands\\u003cbr\\u003eQuantity per Invoice=%{x}\\u003cbr\\u003e=%{y}\\u003cextra\\u003e\\u003c\\u002fextra\\u003e\",\"legendgroup\":\"Netherlands\",\"marker\":{\"color\":\"#EF553B\",\"opacity\":0.5,\"pattern\":{\"shape\":\"\"}},\"name\":\"Netherlands\",\"nbinsx\":50,\"orientation\":\"v\",\"showlegend\":true,\"x\":{\"dtype\":\"i2\",\"bdata\":\"AAEMAAwABgAGAKAACACAAAQADACAAAQAgABAAAIAGACgAKAABgAGADwABgAwADAAGAACAAEAMAAkAAwABgAMACQAMAAYAAEAAQABAEgASADIABIAwACQAGAAYAAwAMAAMACQAGAAMADwADAA8AAMAMAAMADwAPAAMABgAMAAYABgAJAAYACAAIAAgAFAAEAAgACAAAwAgAJAAEABQABAAEAAQAEMAIAAgABAAcABwAAMAEAADADAAIAAQAAAARgADABAAEAAQACAAMAAAQAMAIAAQAAMAEAAQABAAEAAZAAKAGQAZABkAGQAyABkACwBIAEgATAAkACQAJAADACQAJAAkAAgASABIAEYAGQAGACQAPAA8ACQACQAQAJAAkACeAAEAAYAZABkAGQACgBkABQAZABkAGQAZAABAGQAyABkAGQAZABkAAoASABIAEgASABIAEgASAAEAEgAYABgACQAZABkAMgAyABkAGQAZADIAGQAZAA8ADwAtAA8ALQAAQA8ADwAPAAGADwAPAA8ADwAPAA8AHgAeAABADwAPAB4ADwAPADwAHgAoAV4AHgA8ACwBBgAeAB4ABgA8AB4AHgAeAB4APAAeAB4ADAAeAAYABgAeAB4APAAeAB4AGgBBgAwAAEAZABkAGQAZABkAMAAYABgAGAAYABkAGQAZABgAGAAYABgAGAADAAEADAACgBkAGAAYADAAAwASABIABgAkACQAGQAyAAKAGQAyABkAMgAZADIAGQAZABkAGQAyABkAGQAyADIAGQAyABkAMgAMAAwADAAMABgADAAwABgAAwADAAMAAwAoAAwABgADAAwADAADAAMACAAGAAYAAIADACQABgAkAAMAGAAYABgAGAAYABgACQAGAAGACgAGAAwADAAGAAEADAAGAAoACgAUAB4AGAAYABgAJAAkAAwAGAAMAAwADAAMABgADAAMgAeAB4AHgBsAAQAAQBgAGAAYAABAAIADAAMAAwAkABIAEgAIAEgASABDAAGAAwAyABkAAoAyABkAAoAZABkAGQACgBkAMgAyABkAGQAZADIAGQAZABkAMgAZAAUAGQAZABkAGQAZADIAGQASABsACQASAAkAEgAJAAkAGwAJAAgAUgASAAJACQABAAMABAADAAEAAQABAAgASABGAAYAAwAkAAMAAwAMAAYACQAkACQAAwAkAAMAJAAkACQAAYAkAAGAJAAeAB4APAAGAB4AHgAGAB4AHgAeAB4APAAGAB4AHgA8ADwAHgAeAB4ABgAeAB4AHgAeAAYAHgAZAAUAGQAZABkAGQAZABkAGQAZADIAGQAZABkAGQAZABkAGQAFABkAGQA2AAMACQAIAAgAMgAYAAMAJAAkAAgAZAAkABgAJAADACQABgAkAAeACgAIAFIAAwAAQBIAEgAYADAAGAAYABgAGAAYABgAGAASACQAEgASABIAJAASAAMAEgAYAB4ADAAMAAwABgAGAAYAGQAZADIAGQACgBkAGQAZABkAGQAZABkAGQAZABkAMAAMABgADAAkAAwADAAkABgADAAkABgADAAMABgADAAwABgADAAQACAAUAAgAEMAIACQAAAAUAAQABAAQwAgABAAEABwAHAAEAADAAAAYAAwABgABAAYAAYAGAAEABgAGAAYAAwADAAYABgAGAAYABgAJAADACQAJAAIAFgACABYABgAMAAwAMoACgAMAAwABgAGAAYABgAAQAwAEgADAAkAAwADAAMAAwAGAAoACgAKABQACgAkACQAJAAwAYMADAAMAAwAAwAMgAyADIAMgAyADIAZABkAGQAMgAyAAgACAAyADIAMgAyADIAZAAyAGQA8AB4AHgA8AB4AHgAeADwAHgA8AB4APAA8ADwADAAEAAQABAAAwAQACAAYABgAGAAYABgAGAAYABgAGAAwACAAWAAwABgAGAAYABgAGAAYABgAGAAIAFgAGAAwABgAMAAYADAAGAAwAAYAMAAGADAAMAAQAAgAEAAQAAgAEgAJAAkACQAJAAkAAEAJAAkAAwASAAIAEgASAAkAJAAkAAkACQAAgAyAMgAKAAoAKAAYABgACABGAAgATwAPAA8AHgAPADYALABIAEYACABMAAgAQYA2AAMANgAIAEgARgAIAGQAJAAAgBgADAAMABgAGwAkABgAJAAkACQAJAAMAB4AAoAeACAAIAAAQCAAGAAQAAgABAAIAABACAAEABAACAADAAEAJAA2AAMAAwAkABIAJAASACQAJAAkABIAEgASABIAEgASABIAGQAZABkABgAsAEKAMgAFAAUAEgAkAA8ADwAPAA8ADwAPAAwADAABgBQAFAAUAAoAAwAAgAYAEgAZAAKAGQAAQBkAGQADAAMAEgASABIAAQABABIAEgASAACAGQAGACQABgAkACQAGAAAQBgAGAAAQAMAAIAgAEGABgAMAAGABgAGAAYAIABAQACAAwAAgAkAAwADAACAAIADAAMAAwAJAAMAAQAAgABAAwAAgAMAAwAJADAAGAAYABgAMAADABcAGQAyABkAGQAZADIACwBZABkAGQAZABgADAAwAAwADAAYAAwAAwAAQAMADAADAAQABAADAACAAIAAQAMAAwABAAIAAgADAAEAEgAkAAyADIAYAABAGAAYAAMAGAADABgAGAAYABgAGAAYABgAGAAYADwABgA8ADwAJAAAQBIAEgAIAGQAJAAkACQAJAASACQAEgAkAAMAJAAAQABAJAAJAAYAJAAkACQAJAAAQAYABgAGAAwABgAGAAYADAAMAAYABgAGAAYABgAGAABADAAGABgABgAGAAYAAIAKACQAAQAFAAeAGAAYAAwAAIAZABkAGQAZABkAGQAZABkAGQAZABkAGQAAQBkAGQAFABgAGAAIAEgARgAIAEkACABJAAYACABIAEZACgAIABkAGQACgABABQACgAMAMAAGAAGAEgAkAAwABAAEAAUABQABAAMAAQACAAIAAwABAAQAAQACAAIAAQAkABIAEgAbABsAGwAbABsAAwADABgAGAAYAAMAAwAMACQAAwAkACQAEgASABIAEgASABIAEgASABIAEgASABIAJAAAQAMAAwASABIALAALAEUADIABQAYAGAAGABgAGAAYAADAAgABgAMACAAEAAQABAAEAAgACABGAAgARgAGACQAJAAkACQANgAkABIAAwASABIAEgAkABIAJAASACQAEgASABIAAwASACQAGQAMgAyADIAMgAIAGQAMAABAAgAGACQADAAkABIAAwAGABIAJAAkABIAAwADAAYAGAAYABgAGAAYABgAGAAYADAAEgAMADAADAAMAAMAAwADAAEAAYAEAAQABAAGABIAEgAQAAEABAAYAAwADAAEgAGAEgAGAAYAAQAGAAoACgAGAAYAEgAAQDYAAYAkABIAJAASACQAEgAkAAgAZAAGAAYACABIAEgAWAAZABkAGQAZABkAGQAZAAkACQABAAgARgAIAEyAAgAMgAyADwAPAB4AB4APAAeADwAPAABADwAPAA8ADwAPAAwAGAAMAAwADAAMAAYAEgACAAQAGAAYAAYADAADAAwANgADAAMAAwAAQAkAAwA2ADAAAwADABgAAEADADAAMAADAAMAAwAAQAYAAwAMABgABQAyAAUAMgAwAAYAAgASABIABgAGAAEAAwAEgAYADAAGAAwABgAMAAYADAAMAAgAWAAGQAZAAYAGQDYAGAAEAAQAAMAEAAgAHgAAQASABkAyADIAGQAZADIAGQALAHIAMgAZADIAMgAZABkAGQAZABkAGQAZADIAGQAyADIAAwAZABkAGQAZABkABgADABIAEgASACQAEgASABIAEgAyABkAGQAZABkAMgAZADIAGQALAHIAMgAyABkAGQACgCQACABHgAMADwASAABAEgAEgAMAAwADAAIABgAkAAMAAwAYABgABgACAAIADAAEABgADIADAAYAAEAAQBgAAEAeAB4ABQAeAAAAYAAEAABAAEAkABIAJAAkACQAJAAkABgAGAASADgAQwAGABgAAwAGABgAHgAZAAyADIAZAAGADIASAB4AJAAkACQAAIAkABgADAAYAAwAHgAPAA8ADwASADwADIAMgAyAPoAMgBkABgAEAAwAGAAeABgAAYACgBIAEgAGACQAJAAkAAgAQEADAAwAGwAMAAwAAYAEAAyADIABAADAAQAMAAwAEgAkAAMACQAJAAwAJAAMAAMAEgAbABsAPAAkABgAGAAIAFIANgA2AAYAAwA2AAYABgASABIAEgASAAMAEgASABIABgAGABgAMAAAgACAAYABgBgABQAMAAwADAAYAAwAAwAMAAMAGQAGQDAAGAAYABgAGAAYABgAGAAYADwAAEAAgBgAGAAYAAMAMAADABIAGAAGQBIAAwAAgAMAAwAaAEGABgAGADAAAwAGAAYAGQAJACQAJAAIAECAAIAGADAAGAACAAoAAYAGAAIAGAAAQABAAwADAARAGwAQABgAPAADAACAAYAIAADAAIAGAAYADAAkAAMAAEADABgAPAASAAkAAYADAAMABgABAAYABgAMgACAAMAGADAAGAAUABIAAwAGQDYAMAADAAKADAAMAACADIAMAAwADAADAAGAAEAkAACAAoAZAABABgABgBIAEgAAQAMAEgASABIAJAAkACQAJAAkAAYAEgASABIACgAKAAoAEgAJABIACQAEgAGAAEAAgAMAAEAEgAMAAEADAAGAAYADADIAJAByADwAPAA8AACACQAeAB4AHgAeAB4AGAAYAB4AHgAeAB4AHgASABIAAEABABIAJAASABIAAEABABIAEgASABIAEgAAQAEAEgASABkAGQAyAABAMgAZADIAMgAZAAKAAEAyABkAB4AZABkAGQAAQBkAMgAZAABAMgAyABkAGQAZABkAAEALAFkAGQAZAAsAWQAAQAsAcgAZADIABAACAABAAwAJAAYAAEADAABAAEAkACQAJAADAAGAGAADAAYADAAMAAwADAAMAAEADAAMAAkACQAMgABADIAyABkAAEAZABkAGQAZAAKAGQAZABkAAEAZABkAGQAAQBkAJAByAAKAGAAYABgAMAAwABgADAAMAAwAAQASAAEAAYASAAGABgABAAMABgAGAAMADAAMAAwADAAMABgAAwAMAAwAJAAAgAQABAAEAAQABgA8AABAOABYAnYAKAFYADAAGAAwABgABAAEAAQAAEADAAMAAwAAgAQABAAEAAQABAAIAAQADAADAAwADAAMABgAEgASABIAEgAYABgAAIADAAMAAEAYAAkABIASABgAEgASACQADAAYABgAJAAYAAkABgAGAAYAAwADADAAMAAAQB4AHgAGAB4AEgAwABgAAEAeAB4APAAeAAYAAEAkAAMAAwAAQAwADAA8AAwAGAAYAAwAAEAMAAwADAAAQAYABgAAQAQACAAQAAgADAAMAAEAFAAIAAQADAAAQBgAAEAtABoAUgASAAMAIABwAABAGAAAQBgAAEAYAABAAEAYAAwAMAAGABgAGAAYAABAGAAEADAABgAYAABAJAAEACQABgAkAABAJAAMACQABgAkAAIAJAAkAABAGAAJABIACQADAAYAAwAGABgAAgACABgAGAAYABgAGAAYAAMABgAAQAUAGQAyAAKAIwAkACQAAwAkAAgAQwAMAAwAAEADAAMAAwABgABAIAACAABAAABCAAwAAEAAAGAAIAAAAEIAAEAAAGAAIAAAQDwAPAAMgABAMgAAQDIAMgAkAGQAQEAyADIAJABDACQAQEAAQABADAAMAAwADAAwADAABgAYAABAAwAGAAYAAEAAQBgAAEAYAABADAAMAAKAAoAMgABADIAMgBkAAEAMgAyAAEAZABkADIAAQBkADIAAQABABgAAQABAAEAgACAAAEAkAEBAAEAAQABADIAAQABAIAAgABIAJAAAwBgAAMAAQABAAEAgACAAJAAAwCQAAEAkAADAGAAAwABAAEAkAEoAAEAkAADAEgAAwBIAAMAKAABAAEASAABACQAAQBIAAEAZACQAJAAJAAkAAIAkAABAMAAAQABAJAAkAABAMAAAQAYAGwAAQABAMgAAQBkAMgAZAABAGQAAQABAMgAUABQAJAASABIADAAPAA8ADwA\"},\"xaxis\":\"x\",\"yaxis\":\"y\",\"type\":\"histogram\"},{\"bingroup\":\"x\",\"histnorm\":\"\",\"hovertemplate\":\"Country=France\\u003cbr\\u003eQuantity per Invoice=%{x}\\u003cbr\\u003e=%{y}\\u003cextra\\u003e\\u003c\\u002fextra\\u003e\",\"legendgroup\":\"France\",\"marker\":{\"color\":\"#00cc96\",\"opacity\":0.5,\"pattern\":{\"shape\":\"\"}},\"name\":\"France\",\"nbinsx\":50,\"orientation\":\"v\",\"showlegend\":true,\"x\":{\"dtype\":\"i2\",\"bdata\":\"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\"},\"xaxis\":\"x\",\"yaxis\":\"y\",\"type\":\"histogram\"},{\"bingroup\":\"x\",\"histnorm\":\"\",\"hovertemplate\":\"Country=Germany\\u003cbr\\u003eQuantity per Invoice=%{x}\\u003cbr\\u003e=%{y}\\u003cextra\\u003e\\u003c\\u002fextra\\u003e\",\"legendgroup\":\"Germany\",\"marker\":{\"color\":\"#ab63fa\",\"opacity\":0.5,\"pattern\":{\"shape\":\"\"}},\"name\":\"Germany\",\"nbinsx\":50,\"orientation\":\"v\",\"showlegend\":true,\"x\":{\"dtype\":\"i2\",\"bdata\":\"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\"},\"xaxis\":\"x\",\"yaxis\":\"y\",\"type\":\"histogram\"}],                        {\"template\":{\"data\":{\"histogram2dcontour\":[{\"type\":\"histogram2dcontour\",\"colorbar\":{\"outlinewidth\":0,\"ticks\":\"\"},\"colorscale\":[[0.0,\"#0d0887\"],[0.1111111111111111,\"#46039f\"],[0.2222222222222222,\"#7201a8\"],[0.3333333333333333,\"#9c179e\"],[0.4444444444444444,\"#bd3786\"],[0.5555555555555556,\"#d8576b\"],[0.6666666666666666,\"#ed7953\"],[0.7777777777777778,\"#fb9f3a\"],[0.8888888888888888,\"#fdca26\"],[1.0,\"#f0f921\"]]}],\"choropleth\":[{\"type\":\"choropleth\",\"colorbar\":{\"outlinewidth\":0,\"ticks\":\"\"}}],\"histogram2d\":[{\"type\":\"histogram2d\",\"colorbar\":{\"outlinewidth\":0,\"ticks\":\"\"},\"colorscale\":[[0.0,\"#0d0887\"],[0.1111111111111111,\"#46039f\"],[0.2222222222222222,\"#7201a8\"],[0.3333333333333333,\"#9c179e\"],[0.4444444444444444,\"#bd3786\"],[0.5555555555555556,\"#d8576b\"],[0.6666666666666666,\"#ed7953\"],[0.7777777777777778,\"#fb9f3a\"],[0.8888888888888888,\"#fdca26\"],[1.0,\"#f0f921\"]]}],\"heatmap\":[{\"type\":\"heatmap\",\"colorbar\":{\"outlinewidth\":0,\"ticks\":\"\"},\"colorscale\":[[0.0,\"#0d0887\"],[0.1111111111111111,\"#46039f\"],[0.2222222222222222,\"#7201a8\"],[0.3333333333333333,\"#9c179e\"],[0.4444444444444444,\"#bd3786\"],[0.5555555555555556,\"#d8576b\"],[0.6666666666666666,\"#ed7953\"],[0.7777777777777778,\"#fb9f3a\"],[0.8888888888888888,\"#fdca26\"],[1.0,\"#f0f921\"]]}],\"contourcarpet\":[{\"type\":\"contourcarpet\",\"colorbar\":{\"outlinewidth\":0,\"ticks\":\"\"}}],\"contour\":[{\"type\":\"contour\",\"colorbar\":{\"outlinewidth\":0,\"ticks\":\"\"},\"colorscale\":[[0.0,\"#0d0887\"],[0.1111111111111111,\"#46039f\"],[0.2222222222222222,\"#7201a8\"],[0.3333333333333333,\"#9c179e\"],[0.4444444444444444,\"#bd3786\"],[0.5555555555555556,\"#d8576b\"],[0.6666666666666666,\"#ed7953\"],[0.7777777777777778,\"#fb9f3a\"],[0.8888888888888888,\"#fdca26\"],[1.0,\"#f0f921\"]]}],\"surface\":[{\"type\":\"surface\",\"colorbar\":{\"outlinewidth\":0,\"ticks\":\"\"},\"colorscale\":[[0.0,\"#0d0887\"],[0.1111111111111111,\"#46039f\"],[0.2222222222222222,\"#7201a8\"],[0.3333333333333333,\"#9c179e\"],[0.4444444444444444,\"#bd3786\"],[0.5555555555555556,\"#d8576b\"],[0.6666666666666666,\"#ed7953\"],[0.7777777777777778,\"#fb9f3a\"],[0.8888888888888888,\"#fdca26\"],[1.0,\"#f0f921\"]]}],\"mesh3d\":[{\"type\":\"mesh3d\",\"colorbar\":{\"outlinewidth\":0,\"ticks\":\"\"}}],\"scatter\":[{\"fillpattern\":{\"fillmode\":\"overlay\",\"size\":10,\"solidity\":0.2},\"type\":\"scatter\"}],\"parcoords\":[{\"type\":\"parcoords\",\"line\":{\"colorbar\":{\"outlinewidth\":0,\"ticks\":\"\"}}}],\"scatterpolargl\":[{\"type\":\"scatterpolargl\",\"marker\":{\"colorbar\":{\"outlinewidth\":0,\"ticks\":\"\"}}}],\"bar\":[{\"error_x\":{\"color\":\"#2a3f5f\"},\"error_y\":{\"color\":\"#2a3f5f\"},\"marker\":{\"line\":{\"color\":\"#E5ECF6\",\"width\":0.5},\"pattern\":{\"fillmode\":\"overlay\",\"size\":10,\"solidity\":0.2}},\"type\":\"bar\"}],\"scattergeo\":[{\"type\":\"scattergeo\",\"marker\":{\"colorbar\":{\"outlinewidth\":0,\"ticks\":\"\"}}}],\"scatterpolar\":[{\"type\":\"scatterpolar\",\"marker\":{\"colorbar\":{\"outlinewidth\":0,\"ticks\":\"\"}}}],\"histogram\":[{\"marker\":{\"pattern\":{\"fillmode\":\"overlay\",\"size\":10,\"solidity\":0.2}},\"type\":\"histogram\"}],\"scattergl\":[{\"type\":\"scattergl\",\"marker\":{\"colorbar\":{\"outlinewidth\":0,\"ticks\":\"\"}}}],\"scatter3d\":[{\"type\":\"scatter3d\",\"line\":{\"colorbar\":{\"outlinewidth\":0,\"ticks\":\"\"}},\"marker\":{\"colorbar\":{\"outlinewidth\":0,\"ticks\":\"\"}}}],\"scattermap\":[{\"type\":\"scattermap\",\"marker\":{\"colorbar\":{\"outlinewidth\":0,\"ticks\":\"\"}}}],\"scattermapbox\":[{\"type\":\"scattermapbox\",\"marker\":{\"colorbar\":{\"outlinewidth\":0,\"ticks\":\"\"}}}],\"scatterternary\":[{\"type\":\"scatterternary\",\"marker\":{\"colorbar\":{\"outlinewidth\":0,\"ticks\":\"\"}}}],\"scattercarpet\":[{\"type\":\"scattercarpet\",\"marker\":{\"colorbar\":{\"outlinewidth\":0,\"ticks\":\"\"}}}],\"carpet\":[{\"aaxis\":{\"endlinecolor\":\"#2a3f5f\",\"gridcolor\":\"white\",\"linecolor\":\"white\",\"minorgridcolor\":\"white\",\"startlinecolor\":\"#2a3f5f\"},\"baxis\":{\"endlinecolor\":\"#2a3f5f\",\"gridcolor\":\"white\",\"linecolor\":\"white\",\"minorgridcolor\":\"white\",\"startlinecolor\":\"#2a3f5f\"},\"type\":\"carpet\"}],\"table\":[{\"cells\":{\"fill\":{\"color\":\"#EBF0F8\"},\"line\":{\"color\":\"white\"}},\"header\":{\"fill\":{\"color\":\"#C8D4E3\"},\"line\":{\"color\":\"white\"}},\"type\":\"table\"}],\"barpolar\":[{\"marker\":{\"line\":{\"color\":\"#E5ECF6\",\"width\":0.5},\"pattern\":{\"fillmode\":\"overlay\",\"size\":10,\"solidity\":0.2}},\"type\":\"barpolar\"}],\"pie\":[{\"automargin\":true,\"type\":\"pie\"}]},\"layout\":{\"autotypenumbers\":\"strict\",\"colorway\":[\"#636efa\",\"#EF553B\",\"#00cc96\",\"#ab63fa\",\"#FFA15A\",\"#19d3f3\",\"#FF6692\",\"#B6E880\",\"#FF97FF\",\"#FECB52\"],\"font\":{\"color\":\"#2a3f5f\"},\"hovermode\":\"closest\",\"hoverlabel\":{\"align\":\"left\"},\"paper_bgcolor\":\"white\",\"plot_bgcolor\":\"#E5ECF6\",\"polar\":{\"bgcolor\":\"#E5ECF6\",\"angularaxis\":{\"gridcolor\":\"white\",\"linecolor\":\"white\",\"ticks\":\"\"},\"radialaxis\":{\"gridcolor\":\"white\",\"linecolor\":\"white\",\"ticks\":\"\"}},\"ternary\":{\"bgcolor\":\"#E5ECF6\",\"aaxis\":{\"gridcolor\":\"white\",\"linecolor\":\"white\",\"ticks\":\"\"},\"baxis\":{\"gridcolor\":\"white\",\"linecolor\":\"white\",\"ticks\":\"\"},\"caxis\":{\"gridcolor\":\"white\",\"linecolor\":\"white\",\"ticks\":\"\"}},\"coloraxis\":{\"colorbar\":{\"outlinewidth\":0,\"ticks\":\"\"}},\"colorscale\":{\"sequential\":[[0.0,\"#0d0887\"],[0.1111111111111111,\"#46039f\"],[0.2222222222222222,\"#7201a8\"],[0.3333333333333333,\"#9c179e\"],[0.4444444444444444,\"#bd3786\"],[0.5555555555555556,\"#d8576b\"],[0.6666666666666666,\"#ed7953\"],[0.7777777777777778,\"#fb9f3a\"],[0.8888888888888888,\"#fdca26\"],[1.0,\"#f0f921\"]],\"sequentialminus\":[[0.0,\"#0d0887\"],[0.1111111111111111,\"#46039f\"],[0.2222222222222222,\"#7201a8\"],[0.3333333333333333,\"#9c179e\"],[0.4444444444444444,\"#bd3786\"],[0.5555555555555556,\"#d8576b\"],[0.6666666666666666,\"#ed7953\"],[0.7777777777777778,\"#fb9f3a\"],[0.8888888888888888,\"#fdca26\"],[1.0,\"#f0f921\"]],\"diverging\":[[0,\"#8e0152\"],[0.1,\"#c51b7d\"],[0.2,\"#de77ae\"],[0.3,\"#f1b6da\"],[0.4,\"#fde0ef\"],[0.5,\"#f7f7f7\"],[0.6,\"#e6f5d0\"],[0.7,\"#b8e186\"],[0.8,\"#7fbc41\"],[0.9,\"#4d9221\"],[1,\"#276419\"]]},\"xaxis\":{\"gridcolor\":\"white\",\"linecolor\":\"white\",\"ticks\":\"\",\"title\":{\"standoff\":15},\"zerolinecolor\":\"white\",\"automargin\":true,\"zerolinewidth\":2},\"yaxis\":{\"gridcolor\":\"white\",\"linecolor\":\"white\",\"ticks\":\"\",\"title\":{\"standoff\":15},\"zerolinecolor\":\"white\",\"automargin\":true,\"zerolinewidth\":2},\"scene\":{\"xaxis\":{\"backgroundcolor\":\"#E5ECF6\",\"gridcolor\":\"white\",\"linecolor\":\"white\",\"showbackground\":true,\"ticks\":\"\",\"zerolinecolor\":\"white\",\"gridwidth\":2},\"yaxis\":{\"backgroundcolor\":\"#E5ECF6\",\"gridcolor\":\"white\",\"linecolor\":\"white\",\"showbackground\":true,\"ticks\":\"\",\"zerolinecolor\":\"white\",\"gridwidth\":2},\"zaxis\":{\"backgroundcolor\":\"#E5ECF6\",\"gridcolor\":\"white\",\"linecolor\":\"white\",\"showbackground\":true,\"ticks\":\"\",\"zerolinecolor\":\"white\",\"gridwidth\":2}},\"shapedefaults\":{\"line\":{\"color\":\"#2a3f5f\"}},\"annotationdefaults\":{\"arrowcolor\":\"#2a3f5f\",\"arrowhead\":0,\"arrowwidth\":1},\"geo\":{\"bgcolor\":\"white\",\"landcolor\":\"#E5ECF6\",\"subunitcolor\":\"white\",\"showland\":true,\"showlakes\":true,\"lakecolor\":\"white\"},\"title\":{\"x\":0.05},\"mapbox\":{\"style\":\"light\"}}},\"xaxis\":{\"anchor\":\"y\",\"domain\":[0.0,1.0],\"title\":{\"text\":\"Quantity per Invoice\"}},\"yaxis\":{\"anchor\":\"x\",\"domain\":[0.0,1.0],\"title\":{\"text\":\"\"}},\"legend\":{\"title\":{\"text\":\"Country\"},\"tracegroupgap\":0},\"title\":{\"text\":\"Distribution of Quantity per Invoice by Country\"},\"barmode\":\"overlay\"},                        {\"responsive\": true}                    ).then(function(){\n",
       "                            \n",
       "var gd = document.getElementById('f8aaacb1-b989-4536-94c8-e4aa98909dc6');\n",
       "var x = new MutationObserver(function (mutations, observer) {{\n",
       "        var display = window.getComputedStyle(gd).display;\n",
       "        if (!display || display === 'none') {{\n",
       "            console.log([gd, 'removed!']);\n",
       "            Plotly.purge(gd);\n",
       "            observer.disconnect();\n",
       "        }}\n",
       "}});\n",
       "\n",
       "// Listen for the removal of the full notebook cells\n",
       "var notebookContainer = gd.closest('#notebook-container');\n",
       "if (notebookContainer) {{\n",
       "    x.observe(notebookContainer, {childList: true});\n",
       "}}\n",
       "\n",
       "// Listen for the clearing of the current output cell\n",
       "var outputEl = gd.closest('.output');\n",
       "if (outputEl) {{\n",
       "    x.observe(outputEl, {childList: true});\n",
       "}}\n",
       "\n",
       "                        })                };            </script>        </div>"
      ]
     },
     "metadata": {},
     "output_type": "display_data"
    }
   ],
   "source": [
    "distribution_quantity = data[(data['Country'] == \"EIRE\") | (data['Country'] == \"Germany\") | (data['Country'] == \"France\") | (data['Country'] == \"Netherlands\")]\n",
    "\n",
    "fig = px.histogram(\n",
    "    distribution_quantity,\n",
    "    x='Quantity',\n",
    "    color='Country',\n",
    "    title='Distribution of Quantity per Invoice by Country',\n",
    "    labels={'Quantity': 'Quantity per Invoice'},\n",
    "    barmode='overlay',\n",
    "    histnorm='',  # Keine Normalisierung\n",
    "    nbins=50  # Setze die Anzahl der Bins (z.B. 50)\n",
    ")\n",
    "\n",
    "# Zeigen des Plots\n",
    "fig.show()"
   ]
  },
  {
   "cell_type": "markdown",
   "metadata": {},
   "source": [
    "## 5. Create an interactive side-by-side bar chart showing the revenue by country listed below (bars) for each of the products listed below."
   ]
  },
  {
   "cell_type": "code",
   "execution_count": 33,
   "metadata": {},
   "outputs": [],
   "source": [
    "product_list = ['JUMBO BAG RED RETROSPOT', \n",
    "                'CREAM HANGING HEART T-LIGHT HOLDER',\n",
    "                'REGENCY CAKESTAND 3 TIER']\n",
    "\n",
    "country_list = ['EIRE', 'Germany', 'France', 'Netherlands']"
   ]
  },
  {
   "cell_type": "code",
   "execution_count": 38,
   "metadata": {},
   "outputs": [
    {
     "data": {
      "application/vnd.plotly.v1+json": {
       "config": {
        "plotlyServerURL": "https://plot.ly"
       },
       "data": [
        {
         "alignmentgroup": "True",
         "hovertemplate": "Product=CREAM HANGING HEART T-LIGHT HOLDER<br>Country=%{x}<br>Total Revenue=%{y}<extra></extra>",
         "legendgroup": "CREAM HANGING HEART T-LIGHT HOLDER",
         "marker": {
          "color": "#636efa",
          "pattern": {
           "shape": ""
          }
         },
         "name": "CREAM HANGING HEART T-LIGHT HOLDER",
         "offsetgroup": "CREAM HANGING HEART T-LIGHT HOLDER",
         "orientation": "v",
         "showlegend": true,
         "textposition": "auto",
         "type": "bar",
         "x": [
          "EIRE",
          "France",
          "Germany",
          "Netherlands"
         ],
         "xaxis": "x",
         "y": {
          "bdata": "mpmZmZlppUAAAAAAAHhgQDUzMzMzs0FAAAAAAAA8kkA=",
          "dtype": "f8"
         },
         "yaxis": "y"
        },
        {
         "alignmentgroup": "True",
         "hovertemplate": "Product=JUMBO BAG RED RETROSPOT<br>Country=%{x}<br>Total Revenue=%{y}<extra></extra>",
         "legendgroup": "JUMBO BAG RED RETROSPOT",
         "marker": {
          "color": "#EF553B",
          "pattern": {
           "shape": ""
          }
         },
         "name": "JUMBO BAG RED RETROSPOT",
         "offsetgroup": "JUMBO BAG RED RETROSPOT",
         "orientation": "v",
         "showlegend": true,
         "textposition": "auto",
         "type": "bar",
         "x": [
          "EIRE",
          "France",
          "Germany",
          "Netherlands"
         ],
         "xaxis": "x",
         "y": {
          "bdata": "7FG4HoVrcUApXI/C9TqMQNejcD0Kw5BAAAAAAAAYq0A=",
          "dtype": "f8"
         },
         "yaxis": "y"
        },
        {
         "alignmentgroup": "True",
         "hovertemplate": "Product=REGENCY CAKESTAND 3 TIER<br>Country=%{x}<br>Total Revenue=%{y}<extra></extra>",
         "legendgroup": "REGENCY CAKESTAND 3 TIER",
         "marker": {
          "color": "#00cc96",
          "pattern": {
           "shape": ""
          }
         },
         "name": "REGENCY CAKESTAND 3 TIER",
         "offsetgroup": "REGENCY CAKESTAND 3 TIER",
         "orientation": "v",
         "showlegend": true,
         "textposition": "auto",
         "type": "bar",
         "x": [
          "EIRE",
          "France",
          "Germany",
          "Netherlands"
         ],
         "xaxis": "x",
         "y": {
          "bdata": "zczMzIzcvEAzMzMzswGmQJmZmZn5ssFAMzMzM7O8qEA=",
          "dtype": "f8"
         },
         "yaxis": "y"
        }
       ],
       "layout": {
        "barmode": "group",
        "legend": {
         "title": {
          "text": "Product"
         },
         "tracegroupgap": 0
        },
        "template": {
         "data": {
          "bar": [
           {
            "error_x": {
             "color": "#2a3f5f"
            },
            "error_y": {
             "color": "#2a3f5f"
            },
            "marker": {
             "line": {
              "color": "#E5ECF6",
              "width": 0.5
             },
             "pattern": {
              "fillmode": "overlay",
              "size": 10,
              "solidity": 0.2
             }
            },
            "type": "bar"
           }
          ],
          "barpolar": [
           {
            "marker": {
             "line": {
              "color": "#E5ECF6",
              "width": 0.5
             },
             "pattern": {
              "fillmode": "overlay",
              "size": 10,
              "solidity": 0.2
             }
            },
            "type": "barpolar"
           }
          ],
          "carpet": [
           {
            "aaxis": {
             "endlinecolor": "#2a3f5f",
             "gridcolor": "white",
             "linecolor": "white",
             "minorgridcolor": "white",
             "startlinecolor": "#2a3f5f"
            },
            "baxis": {
             "endlinecolor": "#2a3f5f",
             "gridcolor": "white",
             "linecolor": "white",
             "minorgridcolor": "white",
             "startlinecolor": "#2a3f5f"
            },
            "type": "carpet"
           }
          ],
          "choropleth": [
           {
            "colorbar": {
             "outlinewidth": 0,
             "ticks": ""
            },
            "type": "choropleth"
           }
          ],
          "contour": [
           {
            "colorbar": {
             "outlinewidth": 0,
             "ticks": ""
            },
            "colorscale": [
             [
              0,
              "#0d0887"
             ],
             [
              0.1111111111111111,
              "#46039f"
             ],
             [
              0.2222222222222222,
              "#7201a8"
             ],
             [
              0.3333333333333333,
              "#9c179e"
             ],
             [
              0.4444444444444444,
              "#bd3786"
             ],
             [
              0.5555555555555556,
              "#d8576b"
             ],
             [
              0.6666666666666666,
              "#ed7953"
             ],
             [
              0.7777777777777778,
              "#fb9f3a"
             ],
             [
              0.8888888888888888,
              "#fdca26"
             ],
             [
              1,
              "#f0f921"
             ]
            ],
            "type": "contour"
           }
          ],
          "contourcarpet": [
           {
            "colorbar": {
             "outlinewidth": 0,
             "ticks": ""
            },
            "type": "contourcarpet"
           }
          ],
          "heatmap": [
           {
            "colorbar": {
             "outlinewidth": 0,
             "ticks": ""
            },
            "colorscale": [
             [
              0,
              "#0d0887"
             ],
             [
              0.1111111111111111,
              "#46039f"
             ],
             [
              0.2222222222222222,
              "#7201a8"
             ],
             [
              0.3333333333333333,
              "#9c179e"
             ],
             [
              0.4444444444444444,
              "#bd3786"
             ],
             [
              0.5555555555555556,
              "#d8576b"
             ],
             [
              0.6666666666666666,
              "#ed7953"
             ],
             [
              0.7777777777777778,
              "#fb9f3a"
             ],
             [
              0.8888888888888888,
              "#fdca26"
             ],
             [
              1,
              "#f0f921"
             ]
            ],
            "type": "heatmap"
           }
          ],
          "histogram": [
           {
            "marker": {
             "pattern": {
              "fillmode": "overlay",
              "size": 10,
              "solidity": 0.2
             }
            },
            "type": "histogram"
           }
          ],
          "histogram2d": [
           {
            "colorbar": {
             "outlinewidth": 0,
             "ticks": ""
            },
            "colorscale": [
             [
              0,
              "#0d0887"
             ],
             [
              0.1111111111111111,
              "#46039f"
             ],
             [
              0.2222222222222222,
              "#7201a8"
             ],
             [
              0.3333333333333333,
              "#9c179e"
             ],
             [
              0.4444444444444444,
              "#bd3786"
             ],
             [
              0.5555555555555556,
              "#d8576b"
             ],
             [
              0.6666666666666666,
              "#ed7953"
             ],
             [
              0.7777777777777778,
              "#fb9f3a"
             ],
             [
              0.8888888888888888,
              "#fdca26"
             ],
             [
              1,
              "#f0f921"
             ]
            ],
            "type": "histogram2d"
           }
          ],
          "histogram2dcontour": [
           {
            "colorbar": {
             "outlinewidth": 0,
             "ticks": ""
            },
            "colorscale": [
             [
              0,
              "#0d0887"
             ],
             [
              0.1111111111111111,
              "#46039f"
             ],
             [
              0.2222222222222222,
              "#7201a8"
             ],
             [
              0.3333333333333333,
              "#9c179e"
             ],
             [
              0.4444444444444444,
              "#bd3786"
             ],
             [
              0.5555555555555556,
              "#d8576b"
             ],
             [
              0.6666666666666666,
              "#ed7953"
             ],
             [
              0.7777777777777778,
              "#fb9f3a"
             ],
             [
              0.8888888888888888,
              "#fdca26"
             ],
             [
              1,
              "#f0f921"
             ]
            ],
            "type": "histogram2dcontour"
           }
          ],
          "mesh3d": [
           {
            "colorbar": {
             "outlinewidth": 0,
             "ticks": ""
            },
            "type": "mesh3d"
           }
          ],
          "parcoords": [
           {
            "line": {
             "colorbar": {
              "outlinewidth": 0,
              "ticks": ""
             }
            },
            "type": "parcoords"
           }
          ],
          "pie": [
           {
            "automargin": true,
            "type": "pie"
           }
          ],
          "scatter": [
           {
            "fillpattern": {
             "fillmode": "overlay",
             "size": 10,
             "solidity": 0.2
            },
            "type": "scatter"
           }
          ],
          "scatter3d": [
           {
            "line": {
             "colorbar": {
              "outlinewidth": 0,
              "ticks": ""
             }
            },
            "marker": {
             "colorbar": {
              "outlinewidth": 0,
              "ticks": ""
             }
            },
            "type": "scatter3d"
           }
          ],
          "scattercarpet": [
           {
            "marker": {
             "colorbar": {
              "outlinewidth": 0,
              "ticks": ""
             }
            },
            "type": "scattercarpet"
           }
          ],
          "scattergeo": [
           {
            "marker": {
             "colorbar": {
              "outlinewidth": 0,
              "ticks": ""
             }
            },
            "type": "scattergeo"
           }
          ],
          "scattergl": [
           {
            "marker": {
             "colorbar": {
              "outlinewidth": 0,
              "ticks": ""
             }
            },
            "type": "scattergl"
           }
          ],
          "scattermap": [
           {
            "marker": {
             "colorbar": {
              "outlinewidth": 0,
              "ticks": ""
             }
            },
            "type": "scattermap"
           }
          ],
          "scattermapbox": [
           {
            "marker": {
             "colorbar": {
              "outlinewidth": 0,
              "ticks": ""
             }
            },
            "type": "scattermapbox"
           }
          ],
          "scatterpolar": [
           {
            "marker": {
             "colorbar": {
              "outlinewidth": 0,
              "ticks": ""
             }
            },
            "type": "scatterpolar"
           }
          ],
          "scatterpolargl": [
           {
            "marker": {
             "colorbar": {
              "outlinewidth": 0,
              "ticks": ""
             }
            },
            "type": "scatterpolargl"
           }
          ],
          "scatterternary": [
           {
            "marker": {
             "colorbar": {
              "outlinewidth": 0,
              "ticks": ""
             }
            },
            "type": "scatterternary"
           }
          ],
          "surface": [
           {
            "colorbar": {
             "outlinewidth": 0,
             "ticks": ""
            },
            "colorscale": [
             [
              0,
              "#0d0887"
             ],
             [
              0.1111111111111111,
              "#46039f"
             ],
             [
              0.2222222222222222,
              "#7201a8"
             ],
             [
              0.3333333333333333,
              "#9c179e"
             ],
             [
              0.4444444444444444,
              "#bd3786"
             ],
             [
              0.5555555555555556,
              "#d8576b"
             ],
             [
              0.6666666666666666,
              "#ed7953"
             ],
             [
              0.7777777777777778,
              "#fb9f3a"
             ],
             [
              0.8888888888888888,
              "#fdca26"
             ],
             [
              1,
              "#f0f921"
             ]
            ],
            "type": "surface"
           }
          ],
          "table": [
           {
            "cells": {
             "fill": {
              "color": "#EBF0F8"
             },
             "line": {
              "color": "white"
             }
            },
            "header": {
             "fill": {
              "color": "#C8D4E3"
             },
             "line": {
              "color": "white"
             }
            },
            "type": "table"
           }
          ]
         },
         "layout": {
          "annotationdefaults": {
           "arrowcolor": "#2a3f5f",
           "arrowhead": 0,
           "arrowwidth": 1
          },
          "autotypenumbers": "strict",
          "coloraxis": {
           "colorbar": {
            "outlinewidth": 0,
            "ticks": ""
           }
          },
          "colorscale": {
           "diverging": [
            [
             0,
             "#8e0152"
            ],
            [
             0.1,
             "#c51b7d"
            ],
            [
             0.2,
             "#de77ae"
            ],
            [
             0.3,
             "#f1b6da"
            ],
            [
             0.4,
             "#fde0ef"
            ],
            [
             0.5,
             "#f7f7f7"
            ],
            [
             0.6,
             "#e6f5d0"
            ],
            [
             0.7,
             "#b8e186"
            ],
            [
             0.8,
             "#7fbc41"
            ],
            [
             0.9,
             "#4d9221"
            ],
            [
             1,
             "#276419"
            ]
           ],
           "sequential": [
            [
             0,
             "#0d0887"
            ],
            [
             0.1111111111111111,
             "#46039f"
            ],
            [
             0.2222222222222222,
             "#7201a8"
            ],
            [
             0.3333333333333333,
             "#9c179e"
            ],
            [
             0.4444444444444444,
             "#bd3786"
            ],
            [
             0.5555555555555556,
             "#d8576b"
            ],
            [
             0.6666666666666666,
             "#ed7953"
            ],
            [
             0.7777777777777778,
             "#fb9f3a"
            ],
            [
             0.8888888888888888,
             "#fdca26"
            ],
            [
             1,
             "#f0f921"
            ]
           ],
           "sequentialminus": [
            [
             0,
             "#0d0887"
            ],
            [
             0.1111111111111111,
             "#46039f"
            ],
            [
             0.2222222222222222,
             "#7201a8"
            ],
            [
             0.3333333333333333,
             "#9c179e"
            ],
            [
             0.4444444444444444,
             "#bd3786"
            ],
            [
             0.5555555555555556,
             "#d8576b"
            ],
            [
             0.6666666666666666,
             "#ed7953"
            ],
            [
             0.7777777777777778,
             "#fb9f3a"
            ],
            [
             0.8888888888888888,
             "#fdca26"
            ],
            [
             1,
             "#f0f921"
            ]
           ]
          },
          "colorway": [
           "#636efa",
           "#EF553B",
           "#00cc96",
           "#ab63fa",
           "#FFA15A",
           "#19d3f3",
           "#FF6692",
           "#B6E880",
           "#FF97FF",
           "#FECB52"
          ],
          "font": {
           "color": "#2a3f5f"
          },
          "geo": {
           "bgcolor": "white",
           "lakecolor": "white",
           "landcolor": "#E5ECF6",
           "showlakes": true,
           "showland": true,
           "subunitcolor": "white"
          },
          "hoverlabel": {
           "align": "left"
          },
          "hovermode": "closest",
          "mapbox": {
           "style": "light"
          },
          "paper_bgcolor": "white",
          "plot_bgcolor": "#E5ECF6",
          "polar": {
           "angularaxis": {
            "gridcolor": "white",
            "linecolor": "white",
            "ticks": ""
           },
           "bgcolor": "#E5ECF6",
           "radialaxis": {
            "gridcolor": "white",
            "linecolor": "white",
            "ticks": ""
           }
          },
          "scene": {
           "xaxis": {
            "backgroundcolor": "#E5ECF6",
            "gridcolor": "white",
            "gridwidth": 2,
            "linecolor": "white",
            "showbackground": true,
            "ticks": "",
            "zerolinecolor": "white"
           },
           "yaxis": {
            "backgroundcolor": "#E5ECF6",
            "gridcolor": "white",
            "gridwidth": 2,
            "linecolor": "white",
            "showbackground": true,
            "ticks": "",
            "zerolinecolor": "white"
           },
           "zaxis": {
            "backgroundcolor": "#E5ECF6",
            "gridcolor": "white",
            "gridwidth": 2,
            "linecolor": "white",
            "showbackground": true,
            "ticks": "",
            "zerolinecolor": "white"
           }
          },
          "shapedefaults": {
           "line": {
            "color": "#2a3f5f"
           }
          },
          "ternary": {
           "aaxis": {
            "gridcolor": "white",
            "linecolor": "white",
            "ticks": ""
           },
           "baxis": {
            "gridcolor": "white",
            "linecolor": "white",
            "ticks": ""
           },
           "bgcolor": "#E5ECF6",
           "caxis": {
            "gridcolor": "white",
            "linecolor": "white",
            "ticks": ""
           }
          },
          "title": {
           "x": 0.05
          },
          "xaxis": {
           "automargin": true,
           "gridcolor": "white",
           "linecolor": "white",
           "ticks": "",
           "title": {
            "standoff": 15
           },
           "zerolinecolor": "white",
           "zerolinewidth": 2
          },
          "yaxis": {
           "automargin": true,
           "gridcolor": "white",
           "linecolor": "white",
           "ticks": "",
           "title": {
            "standoff": 15
           },
           "zerolinecolor": "white",
           "zerolinewidth": 2
          }
         }
        },
        "title": {
         "text": "Revenue by Country and Product Description"
        },
        "xaxis": {
         "anchor": "y",
         "domain": [
          0,
          1
         ],
         "title": {
          "text": "Country"
         }
        },
        "yaxis": {
         "anchor": "x",
         "domain": [
          0,
          1
         ],
         "title": {
          "text": "Total Revenue"
         }
        }
       }
      },
      "text/html": [
       "<div>            <script src=\"https://cdnjs.cloudflare.com/ajax/libs/mathjax/2.7.5/MathJax.js?config=TeX-AMS-MML_SVG\"></script><script type=\"text/javascript\">if (window.MathJax && window.MathJax.Hub && window.MathJax.Hub.Config) {window.MathJax.Hub.Config({SVG: {font: \"STIX-Web\"}});}</script>                <script type=\"text/javascript\">window.PlotlyConfig = {MathJaxConfig: 'local'};</script>\n",
       "        <script charset=\"utf-8\" src=\"https://cdn.plot.ly/plotly-3.0.1.min.js\"></script>                <div id=\"523c4290-d0f5-4fe1-a380-b6f084e7a2ab\" class=\"plotly-graph-div\" style=\"height:525px; width:100%;\"></div>            <script type=\"text/javascript\">                window.PLOTLYENV=window.PLOTLYENV || {};                                if (document.getElementById(\"523c4290-d0f5-4fe1-a380-b6f084e7a2ab\")) {                    Plotly.newPlot(                        \"523c4290-d0f5-4fe1-a380-b6f084e7a2ab\",                        [{\"alignmentgroup\":\"True\",\"hovertemplate\":\"Product=CREAM HANGING HEART T-LIGHT HOLDER\\u003cbr\\u003eCountry=%{x}\\u003cbr\\u003eTotal Revenue=%{y}\\u003cextra\\u003e\\u003c\\u002fextra\\u003e\",\"legendgroup\":\"CREAM HANGING HEART T-LIGHT HOLDER\",\"marker\":{\"color\":\"#636efa\",\"pattern\":{\"shape\":\"\"}},\"name\":\"CREAM HANGING HEART T-LIGHT HOLDER\",\"offsetgroup\":\"CREAM HANGING HEART T-LIGHT HOLDER\",\"orientation\":\"v\",\"showlegend\":true,\"textposition\":\"auto\",\"x\":[\"EIRE\",\"France\",\"Germany\",\"Netherlands\"],\"xaxis\":\"x\",\"y\":{\"dtype\":\"f8\",\"bdata\":\"mpmZmZlppUAAAAAAAHhgQDUzMzMzs0FAAAAAAAA8kkA=\"},\"yaxis\":\"y\",\"type\":\"bar\"},{\"alignmentgroup\":\"True\",\"hovertemplate\":\"Product=JUMBO BAG RED RETROSPOT\\u003cbr\\u003eCountry=%{x}\\u003cbr\\u003eTotal Revenue=%{y}\\u003cextra\\u003e\\u003c\\u002fextra\\u003e\",\"legendgroup\":\"JUMBO BAG RED RETROSPOT\",\"marker\":{\"color\":\"#EF553B\",\"pattern\":{\"shape\":\"\"}},\"name\":\"JUMBO BAG RED RETROSPOT\",\"offsetgroup\":\"JUMBO BAG RED RETROSPOT\",\"orientation\":\"v\",\"showlegend\":true,\"textposition\":\"auto\",\"x\":[\"EIRE\",\"France\",\"Germany\",\"Netherlands\"],\"xaxis\":\"x\",\"y\":{\"dtype\":\"f8\",\"bdata\":\"7FG4HoVrcUApXI\\u002fC9TqMQNejcD0Kw5BAAAAAAAAYq0A=\"},\"yaxis\":\"y\",\"type\":\"bar\"},{\"alignmentgroup\":\"True\",\"hovertemplate\":\"Product=REGENCY CAKESTAND 3 TIER\\u003cbr\\u003eCountry=%{x}\\u003cbr\\u003eTotal Revenue=%{y}\\u003cextra\\u003e\\u003c\\u002fextra\\u003e\",\"legendgroup\":\"REGENCY CAKESTAND 3 TIER\",\"marker\":{\"color\":\"#00cc96\",\"pattern\":{\"shape\":\"\"}},\"name\":\"REGENCY CAKESTAND 3 TIER\",\"offsetgroup\":\"REGENCY CAKESTAND 3 TIER\",\"orientation\":\"v\",\"showlegend\":true,\"textposition\":\"auto\",\"x\":[\"EIRE\",\"France\",\"Germany\",\"Netherlands\"],\"xaxis\":\"x\",\"y\":{\"dtype\":\"f8\",\"bdata\":\"zczMzIzcvEAzMzMzswGmQJmZmZn5ssFAMzMzM7O8qEA=\"},\"yaxis\":\"y\",\"type\":\"bar\"}],                        {\"template\":{\"data\":{\"histogram2dcontour\":[{\"type\":\"histogram2dcontour\",\"colorbar\":{\"outlinewidth\":0,\"ticks\":\"\"},\"colorscale\":[[0.0,\"#0d0887\"],[0.1111111111111111,\"#46039f\"],[0.2222222222222222,\"#7201a8\"],[0.3333333333333333,\"#9c179e\"],[0.4444444444444444,\"#bd3786\"],[0.5555555555555556,\"#d8576b\"],[0.6666666666666666,\"#ed7953\"],[0.7777777777777778,\"#fb9f3a\"],[0.8888888888888888,\"#fdca26\"],[1.0,\"#f0f921\"]]}],\"choropleth\":[{\"type\":\"choropleth\",\"colorbar\":{\"outlinewidth\":0,\"ticks\":\"\"}}],\"histogram2d\":[{\"type\":\"histogram2d\",\"colorbar\":{\"outlinewidth\":0,\"ticks\":\"\"},\"colorscale\":[[0.0,\"#0d0887\"],[0.1111111111111111,\"#46039f\"],[0.2222222222222222,\"#7201a8\"],[0.3333333333333333,\"#9c179e\"],[0.4444444444444444,\"#bd3786\"],[0.5555555555555556,\"#d8576b\"],[0.6666666666666666,\"#ed7953\"],[0.7777777777777778,\"#fb9f3a\"],[0.8888888888888888,\"#fdca26\"],[1.0,\"#f0f921\"]]}],\"heatmap\":[{\"type\":\"heatmap\",\"colorbar\":{\"outlinewidth\":0,\"ticks\":\"\"},\"colorscale\":[[0.0,\"#0d0887\"],[0.1111111111111111,\"#46039f\"],[0.2222222222222222,\"#7201a8\"],[0.3333333333333333,\"#9c179e\"],[0.4444444444444444,\"#bd3786\"],[0.5555555555555556,\"#d8576b\"],[0.6666666666666666,\"#ed7953\"],[0.7777777777777778,\"#fb9f3a\"],[0.8888888888888888,\"#fdca26\"],[1.0,\"#f0f921\"]]}],\"contourcarpet\":[{\"type\":\"contourcarpet\",\"colorbar\":{\"outlinewidth\":0,\"ticks\":\"\"}}],\"contour\":[{\"type\":\"contour\",\"colorbar\":{\"outlinewidth\":0,\"ticks\":\"\"},\"colorscale\":[[0.0,\"#0d0887\"],[0.1111111111111111,\"#46039f\"],[0.2222222222222222,\"#7201a8\"],[0.3333333333333333,\"#9c179e\"],[0.4444444444444444,\"#bd3786\"],[0.5555555555555556,\"#d8576b\"],[0.6666666666666666,\"#ed7953\"],[0.7777777777777778,\"#fb9f3a\"],[0.8888888888888888,\"#fdca26\"],[1.0,\"#f0f921\"]]}],\"surface\":[{\"type\":\"surface\",\"colorbar\":{\"outlinewidth\":0,\"ticks\":\"\"},\"colorscale\":[[0.0,\"#0d0887\"],[0.1111111111111111,\"#46039f\"],[0.2222222222222222,\"#7201a8\"],[0.3333333333333333,\"#9c179e\"],[0.4444444444444444,\"#bd3786\"],[0.5555555555555556,\"#d8576b\"],[0.6666666666666666,\"#ed7953\"],[0.7777777777777778,\"#fb9f3a\"],[0.8888888888888888,\"#fdca26\"],[1.0,\"#f0f921\"]]}],\"mesh3d\":[{\"type\":\"mesh3d\",\"colorbar\":{\"outlinewidth\":0,\"ticks\":\"\"}}],\"scatter\":[{\"fillpattern\":{\"fillmode\":\"overlay\",\"size\":10,\"solidity\":0.2},\"type\":\"scatter\"}],\"parcoords\":[{\"type\":\"parcoords\",\"line\":{\"colorbar\":{\"outlinewidth\":0,\"ticks\":\"\"}}}],\"scatterpolargl\":[{\"type\":\"scatterpolargl\",\"marker\":{\"colorbar\":{\"outlinewidth\":0,\"ticks\":\"\"}}}],\"bar\":[{\"error_x\":{\"color\":\"#2a3f5f\"},\"error_y\":{\"color\":\"#2a3f5f\"},\"marker\":{\"line\":{\"color\":\"#E5ECF6\",\"width\":0.5},\"pattern\":{\"fillmode\":\"overlay\",\"size\":10,\"solidity\":0.2}},\"type\":\"bar\"}],\"scattergeo\":[{\"type\":\"scattergeo\",\"marker\":{\"colorbar\":{\"outlinewidth\":0,\"ticks\":\"\"}}}],\"scatterpolar\":[{\"type\":\"scatterpolar\",\"marker\":{\"colorbar\":{\"outlinewidth\":0,\"ticks\":\"\"}}}],\"histogram\":[{\"marker\":{\"pattern\":{\"fillmode\":\"overlay\",\"size\":10,\"solidity\":0.2}},\"type\":\"histogram\"}],\"scattergl\":[{\"type\":\"scattergl\",\"marker\":{\"colorbar\":{\"outlinewidth\":0,\"ticks\":\"\"}}}],\"scatter3d\":[{\"type\":\"scatter3d\",\"line\":{\"colorbar\":{\"outlinewidth\":0,\"ticks\":\"\"}},\"marker\":{\"colorbar\":{\"outlinewidth\":0,\"ticks\":\"\"}}}],\"scattermap\":[{\"type\":\"scattermap\",\"marker\":{\"colorbar\":{\"outlinewidth\":0,\"ticks\":\"\"}}}],\"scattermapbox\":[{\"type\":\"scattermapbox\",\"marker\":{\"colorbar\":{\"outlinewidth\":0,\"ticks\":\"\"}}}],\"scatterternary\":[{\"type\":\"scatterternary\",\"marker\":{\"colorbar\":{\"outlinewidth\":0,\"ticks\":\"\"}}}],\"scattercarpet\":[{\"type\":\"scattercarpet\",\"marker\":{\"colorbar\":{\"outlinewidth\":0,\"ticks\":\"\"}}}],\"carpet\":[{\"aaxis\":{\"endlinecolor\":\"#2a3f5f\",\"gridcolor\":\"white\",\"linecolor\":\"white\",\"minorgridcolor\":\"white\",\"startlinecolor\":\"#2a3f5f\"},\"baxis\":{\"endlinecolor\":\"#2a3f5f\",\"gridcolor\":\"white\",\"linecolor\":\"white\",\"minorgridcolor\":\"white\",\"startlinecolor\":\"#2a3f5f\"},\"type\":\"carpet\"}],\"table\":[{\"cells\":{\"fill\":{\"color\":\"#EBF0F8\"},\"line\":{\"color\":\"white\"}},\"header\":{\"fill\":{\"color\":\"#C8D4E3\"},\"line\":{\"color\":\"white\"}},\"type\":\"table\"}],\"barpolar\":[{\"marker\":{\"line\":{\"color\":\"#E5ECF6\",\"width\":0.5},\"pattern\":{\"fillmode\":\"overlay\",\"size\":10,\"solidity\":0.2}},\"type\":\"barpolar\"}],\"pie\":[{\"automargin\":true,\"type\":\"pie\"}]},\"layout\":{\"autotypenumbers\":\"strict\",\"colorway\":[\"#636efa\",\"#EF553B\",\"#00cc96\",\"#ab63fa\",\"#FFA15A\",\"#19d3f3\",\"#FF6692\",\"#B6E880\",\"#FF97FF\",\"#FECB52\"],\"font\":{\"color\":\"#2a3f5f\"},\"hovermode\":\"closest\",\"hoverlabel\":{\"align\":\"left\"},\"paper_bgcolor\":\"white\",\"plot_bgcolor\":\"#E5ECF6\",\"polar\":{\"bgcolor\":\"#E5ECF6\",\"angularaxis\":{\"gridcolor\":\"white\",\"linecolor\":\"white\",\"ticks\":\"\"},\"radialaxis\":{\"gridcolor\":\"white\",\"linecolor\":\"white\",\"ticks\":\"\"}},\"ternary\":{\"bgcolor\":\"#E5ECF6\",\"aaxis\":{\"gridcolor\":\"white\",\"linecolor\":\"white\",\"ticks\":\"\"},\"baxis\":{\"gridcolor\":\"white\",\"linecolor\":\"white\",\"ticks\":\"\"},\"caxis\":{\"gridcolor\":\"white\",\"linecolor\":\"white\",\"ticks\":\"\"}},\"coloraxis\":{\"colorbar\":{\"outlinewidth\":0,\"ticks\":\"\"}},\"colorscale\":{\"sequential\":[[0.0,\"#0d0887\"],[0.1111111111111111,\"#46039f\"],[0.2222222222222222,\"#7201a8\"],[0.3333333333333333,\"#9c179e\"],[0.4444444444444444,\"#bd3786\"],[0.5555555555555556,\"#d8576b\"],[0.6666666666666666,\"#ed7953\"],[0.7777777777777778,\"#fb9f3a\"],[0.8888888888888888,\"#fdca26\"],[1.0,\"#f0f921\"]],\"sequentialminus\":[[0.0,\"#0d0887\"],[0.1111111111111111,\"#46039f\"],[0.2222222222222222,\"#7201a8\"],[0.3333333333333333,\"#9c179e\"],[0.4444444444444444,\"#bd3786\"],[0.5555555555555556,\"#d8576b\"],[0.6666666666666666,\"#ed7953\"],[0.7777777777777778,\"#fb9f3a\"],[0.8888888888888888,\"#fdca26\"],[1.0,\"#f0f921\"]],\"diverging\":[[0,\"#8e0152\"],[0.1,\"#c51b7d\"],[0.2,\"#de77ae\"],[0.3,\"#f1b6da\"],[0.4,\"#fde0ef\"],[0.5,\"#f7f7f7\"],[0.6,\"#e6f5d0\"],[0.7,\"#b8e186\"],[0.8,\"#7fbc41\"],[0.9,\"#4d9221\"],[1,\"#276419\"]]},\"xaxis\":{\"gridcolor\":\"white\",\"linecolor\":\"white\",\"ticks\":\"\",\"title\":{\"standoff\":15},\"zerolinecolor\":\"white\",\"automargin\":true,\"zerolinewidth\":2},\"yaxis\":{\"gridcolor\":\"white\",\"linecolor\":\"white\",\"ticks\":\"\",\"title\":{\"standoff\":15},\"zerolinecolor\":\"white\",\"automargin\":true,\"zerolinewidth\":2},\"scene\":{\"xaxis\":{\"backgroundcolor\":\"#E5ECF6\",\"gridcolor\":\"white\",\"linecolor\":\"white\",\"showbackground\":true,\"ticks\":\"\",\"zerolinecolor\":\"white\",\"gridwidth\":2},\"yaxis\":{\"backgroundcolor\":\"#E5ECF6\",\"gridcolor\":\"white\",\"linecolor\":\"white\",\"showbackground\":true,\"ticks\":\"\",\"zerolinecolor\":\"white\",\"gridwidth\":2},\"zaxis\":{\"backgroundcolor\":\"#E5ECF6\",\"gridcolor\":\"white\",\"linecolor\":\"white\",\"showbackground\":true,\"ticks\":\"\",\"zerolinecolor\":\"white\",\"gridwidth\":2}},\"shapedefaults\":{\"line\":{\"color\":\"#2a3f5f\"}},\"annotationdefaults\":{\"arrowcolor\":\"#2a3f5f\",\"arrowhead\":0,\"arrowwidth\":1},\"geo\":{\"bgcolor\":\"white\",\"landcolor\":\"#E5ECF6\",\"subunitcolor\":\"white\",\"showland\":true,\"showlakes\":true,\"lakecolor\":\"white\"},\"title\":{\"x\":0.05},\"mapbox\":{\"style\":\"light\"}}},\"xaxis\":{\"anchor\":\"y\",\"domain\":[0.0,1.0],\"title\":{\"text\":\"Country\"}},\"yaxis\":{\"anchor\":\"x\",\"domain\":[0.0,1.0],\"title\":{\"text\":\"Total Revenue\"}},\"legend\":{\"title\":{\"text\":\"Product\"},\"tracegroupgap\":0},\"title\":{\"text\":\"Revenue by Country and Product Description\"},\"barmode\":\"group\"},                        {\"responsive\": true}                    ).then(function(){\n",
       "                            \n",
       "var gd = document.getElementById('523c4290-d0f5-4fe1-a380-b6f084e7a2ab');\n",
       "var x = new MutationObserver(function (mutations, observer) {{\n",
       "        var display = window.getComputedStyle(gd).display;\n",
       "        if (!display || display === 'none') {{\n",
       "            console.log([gd, 'removed!']);\n",
       "            Plotly.purge(gd);\n",
       "            observer.disconnect();\n",
       "        }}\n",
       "}});\n",
       "\n",
       "// Listen for the removal of the full notebook cells\n",
       "var notebookContainer = gd.closest('#notebook-container');\n",
       "if (notebookContainer) {{\n",
       "    x.observe(notebookContainer, {childList: true});\n",
       "}}\n",
       "\n",
       "// Listen for the clearing of the current output cell\n",
       "var outputEl = gd.closest('.output');\n",
       "if (outputEl) {{\n",
       "    x.observe(outputEl, {childList: true});\n",
       "}}\n",
       "\n",
       "                        })                };            </script>        </div>"
      ]
     },
     "metadata": {},
     "output_type": "display_data"
    }
   ],
   "source": [
    "products_df = data[\n",
    "    (data['Country'].isin(country_list)) & \n",
    "    (data['Description'].isin(product_list)) \n",
    "]\n",
    "\n",
    "revenue_country = products_df.groupby(['Country', 'Description'])['Revenue'].sum().reset_index()\n",
    "\n",
    "fig = px.bar(\n",
    "    revenue_country,\n",
    "    x='Country',\n",
    "    y='Revenue',\n",
    "    color='Description',\n",
    "    barmode='group',  # Balken nebeneinander\n",
    "    title='Revenue by Country and Product Description',\n",
    "    labels={'Revenue': 'Total Revenue', 'Country': 'Country', 'Description': 'Product'},\n",
    ")\n",
    "\n",
    "fig.show()\n",
    "\n"
   ]
  },
  {
   "cell_type": "markdown",
   "metadata": {},
   "source": [
    "## 6. Create an interactive line chart showing quantity sold by day for the United Kingdom. Add drop-down boxes for Year and Month that allow you to filter the date range that appears in the chart."
   ]
  },
  {
   "cell_type": "code",
   "execution_count": null,
   "metadata": {},
   "outputs": [],
   "source": [
    "data['Year'] = pd.DatetimeIndex(data['InvoiceDate']).year\n",
    "data['Month'] = pd.DatetimeIndex(data['InvoiceDate']).month\n",
    "data['Day'] = pd.DatetimeIndex(data['InvoiceDate']).day\n",
    "uk = data[data['Country']=='United Kingdom']"
   ]
  },
  {
   "cell_type": "code",
   "execution_count": 48,
   "metadata": {},
   "outputs": [
    {
     "data": {
      "application/vnd.plotly.v1+json": {
       "config": {
        "plotlyServerURL": "https://plot.ly"
       },
       "data": [
        {
         "hovertemplate": "Date=%{x}<br>Total Quantity=%{y}<extra></extra>",
         "legendgroup": "",
         "line": {
          "color": "#636efa",
          "dash": "solid"
         },
         "marker": {
          "symbol": "circle"
         },
         "mode": "lines",
         "name": "",
         "orientation": "v",
         "showlegend": false,
         "type": "scatter",
         "x": [
          "2011-01-01T00:00:00.000000000",
          "2011-01-02T00:00:00.000000000",
          "2011-01-03T00:00:00.000000000",
          "2011-01-04T00:00:00.000000000",
          "2011-01-05T00:00:00.000000000",
          "2011-01-06T00:00:00.000000000",
          "2011-01-07T00:00:00.000000000",
          "2011-01-08T00:00:00.000000000",
          "2011-01-09T00:00:00.000000000",
          "2011-01-10T00:00:00.000000000",
          "2011-01-11T00:00:00.000000000",
          "2011-01-12T00:00:00.000000000",
          "2011-01-13T00:00:00.000000000",
          "2011-01-14T00:00:00.000000000",
          "2011-01-15T00:00:00.000000000",
          "2011-01-16T00:00:00.000000000",
          "2011-01-17T00:00:00.000000000",
          "2011-01-18T00:00:00.000000000",
          "2011-01-19T00:00:00.000000000",
          "2011-01-20T00:00:00.000000000",
          "2011-01-21T00:00:00.000000000",
          "2011-01-22T00:00:00.000000000",
          "2011-01-23T00:00:00.000000000",
          "2011-01-24T00:00:00.000000000",
          "2011-01-25T00:00:00.000000000",
          "2011-01-26T00:00:00.000000000",
          "2011-01-27T00:00:00.000000000",
          "2011-01-28T00:00:00.000000000",
          "2011-01-29T00:00:00.000000000",
          "2011-01-30T00:00:00.000000000",
          "2011-01-31T00:00:00.000000000",
          "2011-02-01T00:00:00.000000000",
          "2011-02-02T00:00:00.000000000",
          "2011-02-03T00:00:00.000000000",
          "2011-02-04T00:00:00.000000000",
          "2011-02-05T00:00:00.000000000",
          "2011-02-06T00:00:00.000000000",
          "2011-02-07T00:00:00.000000000",
          "2011-02-08T00:00:00.000000000",
          "2011-02-09T00:00:00.000000000",
          "2011-02-10T00:00:00.000000000",
          "2011-02-11T00:00:00.000000000",
          "2011-02-12T00:00:00.000000000",
          "2011-02-13T00:00:00.000000000",
          "2011-02-14T00:00:00.000000000",
          "2011-02-15T00:00:00.000000000",
          "2011-02-16T00:00:00.000000000",
          "2011-02-17T00:00:00.000000000",
          "2011-02-18T00:00:00.000000000",
          "2011-02-19T00:00:00.000000000",
          "2011-02-20T00:00:00.000000000",
          "2011-02-21T00:00:00.000000000",
          "2011-02-22T00:00:00.000000000",
          "2011-02-23T00:00:00.000000000",
          "2011-02-24T00:00:00.000000000",
          "2011-02-25T00:00:00.000000000",
          "2011-02-26T00:00:00.000000000",
          "2011-02-27T00:00:00.000000000",
          "2011-02-28T00:00:00.000000000",
          "2011-03-01T00:00:00.000000000",
          "2011-03-02T00:00:00.000000000",
          "2011-03-03T00:00:00.000000000",
          "2011-03-04T00:00:00.000000000",
          "2011-03-05T00:00:00.000000000",
          "2011-03-06T00:00:00.000000000",
          "2011-03-07T00:00:00.000000000",
          "2011-03-08T00:00:00.000000000",
          "2011-03-09T00:00:00.000000000",
          "2011-03-10T00:00:00.000000000",
          "2011-03-11T00:00:00.000000000",
          "2011-03-12T00:00:00.000000000",
          "2011-03-13T00:00:00.000000000",
          "2011-03-14T00:00:00.000000000",
          "2011-03-15T00:00:00.000000000",
          "2011-03-16T00:00:00.000000000",
          "2011-03-17T00:00:00.000000000",
          "2011-03-18T00:00:00.000000000",
          "2011-03-19T00:00:00.000000000",
          "2011-03-20T00:00:00.000000000",
          "2011-03-21T00:00:00.000000000",
          "2011-03-22T00:00:00.000000000",
          "2011-03-23T00:00:00.000000000",
          "2011-03-24T00:00:00.000000000",
          "2011-03-25T00:00:00.000000000",
          "2011-03-26T00:00:00.000000000",
          "2011-03-27T00:00:00.000000000",
          "2011-03-28T00:00:00.000000000",
          "2011-03-29T00:00:00.000000000",
          "2011-03-30T00:00:00.000000000",
          "2011-03-31T00:00:00.000000000",
          "2011-04-01T00:00:00.000000000",
          "2011-04-02T00:00:00.000000000",
          "2011-04-03T00:00:00.000000000",
          "2011-04-04T00:00:00.000000000",
          "2011-04-05T00:00:00.000000000",
          "2011-04-06T00:00:00.000000000",
          "2011-04-07T00:00:00.000000000",
          "2011-04-08T00:00:00.000000000",
          "2011-04-09T00:00:00.000000000",
          "2011-04-10T00:00:00.000000000"
         ],
         "xaxis": "x",
         "y": {
          "bdata": "AAECAwQFBgcICQoLDA0ODxAREhMUFRYXGBkaGxwdHh8gISIjJCUmJygpKissLS4vMDEyMzQ1Njc4OTo7PD0+P0BBQkNERUZHSElKS0xNTk9QUVJTVFVWV1hZWltcXV5fYGFiYw==",
          "dtype": "i1"
         },
         "yaxis": "y"
        }
       ],
       "layout": {
        "legend": {
         "tracegroupgap": 0
        },
        "template": {
         "data": {
          "bar": [
           {
            "error_x": {
             "color": "#2a3f5f"
            },
            "error_y": {
             "color": "#2a3f5f"
            },
            "marker": {
             "line": {
              "color": "#E5ECF6",
              "width": 0.5
             },
             "pattern": {
              "fillmode": "overlay",
              "size": 10,
              "solidity": 0.2
             }
            },
            "type": "bar"
           }
          ],
          "barpolar": [
           {
            "marker": {
             "line": {
              "color": "#E5ECF6",
              "width": 0.5
             },
             "pattern": {
              "fillmode": "overlay",
              "size": 10,
              "solidity": 0.2
             }
            },
            "type": "barpolar"
           }
          ],
          "carpet": [
           {
            "aaxis": {
             "endlinecolor": "#2a3f5f",
             "gridcolor": "white",
             "linecolor": "white",
             "minorgridcolor": "white",
             "startlinecolor": "#2a3f5f"
            },
            "baxis": {
             "endlinecolor": "#2a3f5f",
             "gridcolor": "white",
             "linecolor": "white",
             "minorgridcolor": "white",
             "startlinecolor": "#2a3f5f"
            },
            "type": "carpet"
           }
          ],
          "choropleth": [
           {
            "colorbar": {
             "outlinewidth": 0,
             "ticks": ""
            },
            "type": "choropleth"
           }
          ],
          "contour": [
           {
            "colorbar": {
             "outlinewidth": 0,
             "ticks": ""
            },
            "colorscale": [
             [
              0,
              "#0d0887"
             ],
             [
              0.1111111111111111,
              "#46039f"
             ],
             [
              0.2222222222222222,
              "#7201a8"
             ],
             [
              0.3333333333333333,
              "#9c179e"
             ],
             [
              0.4444444444444444,
              "#bd3786"
             ],
             [
              0.5555555555555556,
              "#d8576b"
             ],
             [
              0.6666666666666666,
              "#ed7953"
             ],
             [
              0.7777777777777778,
              "#fb9f3a"
             ],
             [
              0.8888888888888888,
              "#fdca26"
             ],
             [
              1,
              "#f0f921"
             ]
            ],
            "type": "contour"
           }
          ],
          "contourcarpet": [
           {
            "colorbar": {
             "outlinewidth": 0,
             "ticks": ""
            },
            "type": "contourcarpet"
           }
          ],
          "heatmap": [
           {
            "colorbar": {
             "outlinewidth": 0,
             "ticks": ""
            },
            "colorscale": [
             [
              0,
              "#0d0887"
             ],
             [
              0.1111111111111111,
              "#46039f"
             ],
             [
              0.2222222222222222,
              "#7201a8"
             ],
             [
              0.3333333333333333,
              "#9c179e"
             ],
             [
              0.4444444444444444,
              "#bd3786"
             ],
             [
              0.5555555555555556,
              "#d8576b"
             ],
             [
              0.6666666666666666,
              "#ed7953"
             ],
             [
              0.7777777777777778,
              "#fb9f3a"
             ],
             [
              0.8888888888888888,
              "#fdca26"
             ],
             [
              1,
              "#f0f921"
             ]
            ],
            "type": "heatmap"
           }
          ],
          "histogram": [
           {
            "marker": {
             "pattern": {
              "fillmode": "overlay",
              "size": 10,
              "solidity": 0.2
             }
            },
            "type": "histogram"
           }
          ],
          "histogram2d": [
           {
            "colorbar": {
             "outlinewidth": 0,
             "ticks": ""
            },
            "colorscale": [
             [
              0,
              "#0d0887"
             ],
             [
              0.1111111111111111,
              "#46039f"
             ],
             [
              0.2222222222222222,
              "#7201a8"
             ],
             [
              0.3333333333333333,
              "#9c179e"
             ],
             [
              0.4444444444444444,
              "#bd3786"
             ],
             [
              0.5555555555555556,
              "#d8576b"
             ],
             [
              0.6666666666666666,
              "#ed7953"
             ],
             [
              0.7777777777777778,
              "#fb9f3a"
             ],
             [
              0.8888888888888888,
              "#fdca26"
             ],
             [
              1,
              "#f0f921"
             ]
            ],
            "type": "histogram2d"
           }
          ],
          "histogram2dcontour": [
           {
            "colorbar": {
             "outlinewidth": 0,
             "ticks": ""
            },
            "colorscale": [
             [
              0,
              "#0d0887"
             ],
             [
              0.1111111111111111,
              "#46039f"
             ],
             [
              0.2222222222222222,
              "#7201a8"
             ],
             [
              0.3333333333333333,
              "#9c179e"
             ],
             [
              0.4444444444444444,
              "#bd3786"
             ],
             [
              0.5555555555555556,
              "#d8576b"
             ],
             [
              0.6666666666666666,
              "#ed7953"
             ],
             [
              0.7777777777777778,
              "#fb9f3a"
             ],
             [
              0.8888888888888888,
              "#fdca26"
             ],
             [
              1,
              "#f0f921"
             ]
            ],
            "type": "histogram2dcontour"
           }
          ],
          "mesh3d": [
           {
            "colorbar": {
             "outlinewidth": 0,
             "ticks": ""
            },
            "type": "mesh3d"
           }
          ],
          "parcoords": [
           {
            "line": {
             "colorbar": {
              "outlinewidth": 0,
              "ticks": ""
             }
            },
            "type": "parcoords"
           }
          ],
          "pie": [
           {
            "automargin": true,
            "type": "pie"
           }
          ],
          "scatter": [
           {
            "fillpattern": {
             "fillmode": "overlay",
             "size": 10,
             "solidity": 0.2
            },
            "type": "scatter"
           }
          ],
          "scatter3d": [
           {
            "line": {
             "colorbar": {
              "outlinewidth": 0,
              "ticks": ""
             }
            },
            "marker": {
             "colorbar": {
              "outlinewidth": 0,
              "ticks": ""
             }
            },
            "type": "scatter3d"
           }
          ],
          "scattercarpet": [
           {
            "marker": {
             "colorbar": {
              "outlinewidth": 0,
              "ticks": ""
             }
            },
            "type": "scattercarpet"
           }
          ],
          "scattergeo": [
           {
            "marker": {
             "colorbar": {
              "outlinewidth": 0,
              "ticks": ""
             }
            },
            "type": "scattergeo"
           }
          ],
          "scattergl": [
           {
            "marker": {
             "colorbar": {
              "outlinewidth": 0,
              "ticks": ""
             }
            },
            "type": "scattergl"
           }
          ],
          "scattermap": [
           {
            "marker": {
             "colorbar": {
              "outlinewidth": 0,
              "ticks": ""
             }
            },
            "type": "scattermap"
           }
          ],
          "scattermapbox": [
           {
            "marker": {
             "colorbar": {
              "outlinewidth": 0,
              "ticks": ""
             }
            },
            "type": "scattermapbox"
           }
          ],
          "scatterpolar": [
           {
            "marker": {
             "colorbar": {
              "outlinewidth": 0,
              "ticks": ""
             }
            },
            "type": "scatterpolar"
           }
          ],
          "scatterpolargl": [
           {
            "marker": {
             "colorbar": {
              "outlinewidth": 0,
              "ticks": ""
             }
            },
            "type": "scatterpolargl"
           }
          ],
          "scatterternary": [
           {
            "marker": {
             "colorbar": {
              "outlinewidth": 0,
              "ticks": ""
             }
            },
            "type": "scatterternary"
           }
          ],
          "surface": [
           {
            "colorbar": {
             "outlinewidth": 0,
             "ticks": ""
            },
            "colorscale": [
             [
              0,
              "#0d0887"
             ],
             [
              0.1111111111111111,
              "#46039f"
             ],
             [
              0.2222222222222222,
              "#7201a8"
             ],
             [
              0.3333333333333333,
              "#9c179e"
             ],
             [
              0.4444444444444444,
              "#bd3786"
             ],
             [
              0.5555555555555556,
              "#d8576b"
             ],
             [
              0.6666666666666666,
              "#ed7953"
             ],
             [
              0.7777777777777778,
              "#fb9f3a"
             ],
             [
              0.8888888888888888,
              "#fdca26"
             ],
             [
              1,
              "#f0f921"
             ]
            ],
            "type": "surface"
           }
          ],
          "table": [
           {
            "cells": {
             "fill": {
              "color": "#EBF0F8"
             },
             "line": {
              "color": "white"
             }
            },
            "header": {
             "fill": {
              "color": "#C8D4E3"
             },
             "line": {
              "color": "white"
             }
            },
            "type": "table"
           }
          ]
         },
         "layout": {
          "annotationdefaults": {
           "arrowcolor": "#2a3f5f",
           "arrowhead": 0,
           "arrowwidth": 1
          },
          "autotypenumbers": "strict",
          "coloraxis": {
           "colorbar": {
            "outlinewidth": 0,
            "ticks": ""
           }
          },
          "colorscale": {
           "diverging": [
            [
             0,
             "#8e0152"
            ],
            [
             0.1,
             "#c51b7d"
            ],
            [
             0.2,
             "#de77ae"
            ],
            [
             0.3,
             "#f1b6da"
            ],
            [
             0.4,
             "#fde0ef"
            ],
            [
             0.5,
             "#f7f7f7"
            ],
            [
             0.6,
             "#e6f5d0"
            ],
            [
             0.7,
             "#b8e186"
            ],
            [
             0.8,
             "#7fbc41"
            ],
            [
             0.9,
             "#4d9221"
            ],
            [
             1,
             "#276419"
            ]
           ],
           "sequential": [
            [
             0,
             "#0d0887"
            ],
            [
             0.1111111111111111,
             "#46039f"
            ],
            [
             0.2222222222222222,
             "#7201a8"
            ],
            [
             0.3333333333333333,
             "#9c179e"
            ],
            [
             0.4444444444444444,
             "#bd3786"
            ],
            [
             0.5555555555555556,
             "#d8576b"
            ],
            [
             0.6666666666666666,
             "#ed7953"
            ],
            [
             0.7777777777777778,
             "#fb9f3a"
            ],
            [
             0.8888888888888888,
             "#fdca26"
            ],
            [
             1,
             "#f0f921"
            ]
           ],
           "sequentialminus": [
            [
             0,
             "#0d0887"
            ],
            [
             0.1111111111111111,
             "#46039f"
            ],
            [
             0.2222222222222222,
             "#7201a8"
            ],
            [
             0.3333333333333333,
             "#9c179e"
            ],
            [
             0.4444444444444444,
             "#bd3786"
            ],
            [
             0.5555555555555556,
             "#d8576b"
            ],
            [
             0.6666666666666666,
             "#ed7953"
            ],
            [
             0.7777777777777778,
             "#fb9f3a"
            ],
            [
             0.8888888888888888,
             "#fdca26"
            ],
            [
             1,
             "#f0f921"
            ]
           ]
          },
          "colorway": [
           "#636efa",
           "#EF553B",
           "#00cc96",
           "#ab63fa",
           "#FFA15A",
           "#19d3f3",
           "#FF6692",
           "#B6E880",
           "#FF97FF",
           "#FECB52"
          ],
          "font": {
           "color": "#2a3f5f"
          },
          "geo": {
           "bgcolor": "white",
           "lakecolor": "white",
           "landcolor": "#E5ECF6",
           "showlakes": true,
           "showland": true,
           "subunitcolor": "white"
          },
          "hoverlabel": {
           "align": "left"
          },
          "hovermode": "closest",
          "mapbox": {
           "style": "light"
          },
          "paper_bgcolor": "white",
          "plot_bgcolor": "#E5ECF6",
          "polar": {
           "angularaxis": {
            "gridcolor": "white",
            "linecolor": "white",
            "ticks": ""
           },
           "bgcolor": "#E5ECF6",
           "radialaxis": {
            "gridcolor": "white",
            "linecolor": "white",
            "ticks": ""
           }
          },
          "scene": {
           "xaxis": {
            "backgroundcolor": "#E5ECF6",
            "gridcolor": "white",
            "gridwidth": 2,
            "linecolor": "white",
            "showbackground": true,
            "ticks": "",
            "zerolinecolor": "white"
           },
           "yaxis": {
            "backgroundcolor": "#E5ECF6",
            "gridcolor": "white",
            "gridwidth": 2,
            "linecolor": "white",
            "showbackground": true,
            "ticks": "",
            "zerolinecolor": "white"
           },
           "zaxis": {
            "backgroundcolor": "#E5ECF6",
            "gridcolor": "white",
            "gridwidth": 2,
            "linecolor": "white",
            "showbackground": true,
            "ticks": "",
            "zerolinecolor": "white"
           }
          },
          "shapedefaults": {
           "line": {
            "color": "#2a3f5f"
           }
          },
          "ternary": {
           "aaxis": {
            "gridcolor": "white",
            "linecolor": "white",
            "ticks": ""
           },
           "baxis": {
            "gridcolor": "white",
            "linecolor": "white",
            "ticks": ""
           },
           "bgcolor": "#E5ECF6",
           "caxis": {
            "gridcolor": "white",
            "linecolor": "white",
            "ticks": ""
           }
          },
          "title": {
           "x": 0.05
          },
          "xaxis": {
           "automargin": true,
           "gridcolor": "white",
           "linecolor": "white",
           "ticks": "",
           "title": {
            "standoff": 15
           },
           "zerolinecolor": "white",
           "zerolinewidth": 2
          },
          "yaxis": {
           "automargin": true,
           "gridcolor": "white",
           "linecolor": "white",
           "ticks": "",
           "title": {
            "standoff": 15
           },
           "zerolinecolor": "white",
           "zerolinewidth": 2
          }
         }
        },
        "title": {
         "text": "Total Quantity per Day"
        },
        "xaxis": {
         "anchor": "y",
         "domain": [
          0,
          1
         ],
         "title": {
          "text": "Date"
         }
        },
        "yaxis": {
         "anchor": "x",
         "domain": [
          0,
          1
         ],
         "title": {
          "text": "Total Quantity"
         }
        }
       }
      },
      "text/html": [
       "<div>            <script src=\"https://cdnjs.cloudflare.com/ajax/libs/mathjax/2.7.5/MathJax.js?config=TeX-AMS-MML_SVG\"></script><script type=\"text/javascript\">if (window.MathJax && window.MathJax.Hub && window.MathJax.Hub.Config) {window.MathJax.Hub.Config({SVG: {font: \"STIX-Web\"}});}</script>                <script type=\"text/javascript\">window.PlotlyConfig = {MathJaxConfig: 'local'};</script>\n",
       "        <script charset=\"utf-8\" src=\"https://cdn.plot.ly/plotly-3.0.1.min.js\"></script>                <div id=\"d4eb96fa-978a-4884-b966-1b2949ae4b3f\" class=\"plotly-graph-div\" style=\"height:525px; width:100%;\"></div>            <script type=\"text/javascript\">                window.PLOTLYENV=window.PLOTLYENV || {};                                if (document.getElementById(\"d4eb96fa-978a-4884-b966-1b2949ae4b3f\")) {                    Plotly.newPlot(                        \"d4eb96fa-978a-4884-b966-1b2949ae4b3f\",                        [{\"hovertemplate\":\"Date=%{x}\\u003cbr\\u003eTotal Quantity=%{y}\\u003cextra\\u003e\\u003c\\u002fextra\\u003e\",\"legendgroup\":\"\",\"line\":{\"color\":\"#636efa\",\"dash\":\"solid\"},\"marker\":{\"symbol\":\"circle\"},\"mode\":\"lines\",\"name\":\"\",\"orientation\":\"v\",\"showlegend\":false,\"x\":[\"2011-01-01T00:00:00.000000000\",\"2011-01-02T00:00:00.000000000\",\"2011-01-03T00:00:00.000000000\",\"2011-01-04T00:00:00.000000000\",\"2011-01-05T00:00:00.000000000\",\"2011-01-06T00:00:00.000000000\",\"2011-01-07T00:00:00.000000000\",\"2011-01-08T00:00:00.000000000\",\"2011-01-09T00:00:00.000000000\",\"2011-01-10T00:00:00.000000000\",\"2011-01-11T00:00:00.000000000\",\"2011-01-12T00:00:00.000000000\",\"2011-01-13T00:00:00.000000000\",\"2011-01-14T00:00:00.000000000\",\"2011-01-15T00:00:00.000000000\",\"2011-01-16T00:00:00.000000000\",\"2011-01-17T00:00:00.000000000\",\"2011-01-18T00:00:00.000000000\",\"2011-01-19T00:00:00.000000000\",\"2011-01-20T00:00:00.000000000\",\"2011-01-21T00:00:00.000000000\",\"2011-01-22T00:00:00.000000000\",\"2011-01-23T00:00:00.000000000\",\"2011-01-24T00:00:00.000000000\",\"2011-01-25T00:00:00.000000000\",\"2011-01-26T00:00:00.000000000\",\"2011-01-27T00:00:00.000000000\",\"2011-01-28T00:00:00.000000000\",\"2011-01-29T00:00:00.000000000\",\"2011-01-30T00:00:00.000000000\",\"2011-01-31T00:00:00.000000000\",\"2011-02-01T00:00:00.000000000\",\"2011-02-02T00:00:00.000000000\",\"2011-02-03T00:00:00.000000000\",\"2011-02-04T00:00:00.000000000\",\"2011-02-05T00:00:00.000000000\",\"2011-02-06T00:00:00.000000000\",\"2011-02-07T00:00:00.000000000\",\"2011-02-08T00:00:00.000000000\",\"2011-02-09T00:00:00.000000000\",\"2011-02-10T00:00:00.000000000\",\"2011-02-11T00:00:00.000000000\",\"2011-02-12T00:00:00.000000000\",\"2011-02-13T00:00:00.000000000\",\"2011-02-14T00:00:00.000000000\",\"2011-02-15T00:00:00.000000000\",\"2011-02-16T00:00:00.000000000\",\"2011-02-17T00:00:00.000000000\",\"2011-02-18T00:00:00.000000000\",\"2011-02-19T00:00:00.000000000\",\"2011-02-20T00:00:00.000000000\",\"2011-02-21T00:00:00.000000000\",\"2011-02-22T00:00:00.000000000\",\"2011-02-23T00:00:00.000000000\",\"2011-02-24T00:00:00.000000000\",\"2011-02-25T00:00:00.000000000\",\"2011-02-26T00:00:00.000000000\",\"2011-02-27T00:00:00.000000000\",\"2011-02-28T00:00:00.000000000\",\"2011-03-01T00:00:00.000000000\",\"2011-03-02T00:00:00.000000000\",\"2011-03-03T00:00:00.000000000\",\"2011-03-04T00:00:00.000000000\",\"2011-03-05T00:00:00.000000000\",\"2011-03-06T00:00:00.000000000\",\"2011-03-07T00:00:00.000000000\",\"2011-03-08T00:00:00.000000000\",\"2011-03-09T00:00:00.000000000\",\"2011-03-10T00:00:00.000000000\",\"2011-03-11T00:00:00.000000000\",\"2011-03-12T00:00:00.000000000\",\"2011-03-13T00:00:00.000000000\",\"2011-03-14T00:00:00.000000000\",\"2011-03-15T00:00:00.000000000\",\"2011-03-16T00:00:00.000000000\",\"2011-03-17T00:00:00.000000000\",\"2011-03-18T00:00:00.000000000\",\"2011-03-19T00:00:00.000000000\",\"2011-03-20T00:00:00.000000000\",\"2011-03-21T00:00:00.000000000\",\"2011-03-22T00:00:00.000000000\",\"2011-03-23T00:00:00.000000000\",\"2011-03-24T00:00:00.000000000\",\"2011-03-25T00:00:00.000000000\",\"2011-03-26T00:00:00.000000000\",\"2011-03-27T00:00:00.000000000\",\"2011-03-28T00:00:00.000000000\",\"2011-03-29T00:00:00.000000000\",\"2011-03-30T00:00:00.000000000\",\"2011-03-31T00:00:00.000000000\",\"2011-04-01T00:00:00.000000000\",\"2011-04-02T00:00:00.000000000\",\"2011-04-03T00:00:00.000000000\",\"2011-04-04T00:00:00.000000000\",\"2011-04-05T00:00:00.000000000\",\"2011-04-06T00:00:00.000000000\",\"2011-04-07T00:00:00.000000000\",\"2011-04-08T00:00:00.000000000\",\"2011-04-09T00:00:00.000000000\",\"2011-04-10T00:00:00.000000000\"],\"xaxis\":\"x\",\"y\":{\"dtype\":\"i1\",\"bdata\":\"AAECAwQFBgcICQoLDA0ODxAREhMUFRYXGBkaGxwdHh8gISIjJCUmJygpKissLS4vMDEyMzQ1Njc4OTo7PD0+P0BBQkNERUZHSElKS0xNTk9QUVJTVFVWV1hZWltcXV5fYGFiYw==\"},\"yaxis\":\"y\",\"type\":\"scatter\"}],                        {\"template\":{\"data\":{\"histogram2dcontour\":[{\"type\":\"histogram2dcontour\",\"colorbar\":{\"outlinewidth\":0,\"ticks\":\"\"},\"colorscale\":[[0.0,\"#0d0887\"],[0.1111111111111111,\"#46039f\"],[0.2222222222222222,\"#7201a8\"],[0.3333333333333333,\"#9c179e\"],[0.4444444444444444,\"#bd3786\"],[0.5555555555555556,\"#d8576b\"],[0.6666666666666666,\"#ed7953\"],[0.7777777777777778,\"#fb9f3a\"],[0.8888888888888888,\"#fdca26\"],[1.0,\"#f0f921\"]]}],\"choropleth\":[{\"type\":\"choropleth\",\"colorbar\":{\"outlinewidth\":0,\"ticks\":\"\"}}],\"histogram2d\":[{\"type\":\"histogram2d\",\"colorbar\":{\"outlinewidth\":0,\"ticks\":\"\"},\"colorscale\":[[0.0,\"#0d0887\"],[0.1111111111111111,\"#46039f\"],[0.2222222222222222,\"#7201a8\"],[0.3333333333333333,\"#9c179e\"],[0.4444444444444444,\"#bd3786\"],[0.5555555555555556,\"#d8576b\"],[0.6666666666666666,\"#ed7953\"],[0.7777777777777778,\"#fb9f3a\"],[0.8888888888888888,\"#fdca26\"],[1.0,\"#f0f921\"]]}],\"heatmap\":[{\"type\":\"heatmap\",\"colorbar\":{\"outlinewidth\":0,\"ticks\":\"\"},\"colorscale\":[[0.0,\"#0d0887\"],[0.1111111111111111,\"#46039f\"],[0.2222222222222222,\"#7201a8\"],[0.3333333333333333,\"#9c179e\"],[0.4444444444444444,\"#bd3786\"],[0.5555555555555556,\"#d8576b\"],[0.6666666666666666,\"#ed7953\"],[0.7777777777777778,\"#fb9f3a\"],[0.8888888888888888,\"#fdca26\"],[1.0,\"#f0f921\"]]}],\"contourcarpet\":[{\"type\":\"contourcarpet\",\"colorbar\":{\"outlinewidth\":0,\"ticks\":\"\"}}],\"contour\":[{\"type\":\"contour\",\"colorbar\":{\"outlinewidth\":0,\"ticks\":\"\"},\"colorscale\":[[0.0,\"#0d0887\"],[0.1111111111111111,\"#46039f\"],[0.2222222222222222,\"#7201a8\"],[0.3333333333333333,\"#9c179e\"],[0.4444444444444444,\"#bd3786\"],[0.5555555555555556,\"#d8576b\"],[0.6666666666666666,\"#ed7953\"],[0.7777777777777778,\"#fb9f3a\"],[0.8888888888888888,\"#fdca26\"],[1.0,\"#f0f921\"]]}],\"surface\":[{\"type\":\"surface\",\"colorbar\":{\"outlinewidth\":0,\"ticks\":\"\"},\"colorscale\":[[0.0,\"#0d0887\"],[0.1111111111111111,\"#46039f\"],[0.2222222222222222,\"#7201a8\"],[0.3333333333333333,\"#9c179e\"],[0.4444444444444444,\"#bd3786\"],[0.5555555555555556,\"#d8576b\"],[0.6666666666666666,\"#ed7953\"],[0.7777777777777778,\"#fb9f3a\"],[0.8888888888888888,\"#fdca26\"],[1.0,\"#f0f921\"]]}],\"mesh3d\":[{\"type\":\"mesh3d\",\"colorbar\":{\"outlinewidth\":0,\"ticks\":\"\"}}],\"scatter\":[{\"fillpattern\":{\"fillmode\":\"overlay\",\"size\":10,\"solidity\":0.2},\"type\":\"scatter\"}],\"parcoords\":[{\"type\":\"parcoords\",\"line\":{\"colorbar\":{\"outlinewidth\":0,\"ticks\":\"\"}}}],\"scatterpolargl\":[{\"type\":\"scatterpolargl\",\"marker\":{\"colorbar\":{\"outlinewidth\":0,\"ticks\":\"\"}}}],\"bar\":[{\"error_x\":{\"color\":\"#2a3f5f\"},\"error_y\":{\"color\":\"#2a3f5f\"},\"marker\":{\"line\":{\"color\":\"#E5ECF6\",\"width\":0.5},\"pattern\":{\"fillmode\":\"overlay\",\"size\":10,\"solidity\":0.2}},\"type\":\"bar\"}],\"scattergeo\":[{\"type\":\"scattergeo\",\"marker\":{\"colorbar\":{\"outlinewidth\":0,\"ticks\":\"\"}}}],\"scatterpolar\":[{\"type\":\"scatterpolar\",\"marker\":{\"colorbar\":{\"outlinewidth\":0,\"ticks\":\"\"}}}],\"histogram\":[{\"marker\":{\"pattern\":{\"fillmode\":\"overlay\",\"size\":10,\"solidity\":0.2}},\"type\":\"histogram\"}],\"scattergl\":[{\"type\":\"scattergl\",\"marker\":{\"colorbar\":{\"outlinewidth\":0,\"ticks\":\"\"}}}],\"scatter3d\":[{\"type\":\"scatter3d\",\"line\":{\"colorbar\":{\"outlinewidth\":0,\"ticks\":\"\"}},\"marker\":{\"colorbar\":{\"outlinewidth\":0,\"ticks\":\"\"}}}],\"scattermap\":[{\"type\":\"scattermap\",\"marker\":{\"colorbar\":{\"outlinewidth\":0,\"ticks\":\"\"}}}],\"scattermapbox\":[{\"type\":\"scattermapbox\",\"marker\":{\"colorbar\":{\"outlinewidth\":0,\"ticks\":\"\"}}}],\"scatterternary\":[{\"type\":\"scatterternary\",\"marker\":{\"colorbar\":{\"outlinewidth\":0,\"ticks\":\"\"}}}],\"scattercarpet\":[{\"type\":\"scattercarpet\",\"marker\":{\"colorbar\":{\"outlinewidth\":0,\"ticks\":\"\"}}}],\"carpet\":[{\"aaxis\":{\"endlinecolor\":\"#2a3f5f\",\"gridcolor\":\"white\",\"linecolor\":\"white\",\"minorgridcolor\":\"white\",\"startlinecolor\":\"#2a3f5f\"},\"baxis\":{\"endlinecolor\":\"#2a3f5f\",\"gridcolor\":\"white\",\"linecolor\":\"white\",\"minorgridcolor\":\"white\",\"startlinecolor\":\"#2a3f5f\"},\"type\":\"carpet\"}],\"table\":[{\"cells\":{\"fill\":{\"color\":\"#EBF0F8\"},\"line\":{\"color\":\"white\"}},\"header\":{\"fill\":{\"color\":\"#C8D4E3\"},\"line\":{\"color\":\"white\"}},\"type\":\"table\"}],\"barpolar\":[{\"marker\":{\"line\":{\"color\":\"#E5ECF6\",\"width\":0.5},\"pattern\":{\"fillmode\":\"overlay\",\"size\":10,\"solidity\":0.2}},\"type\":\"barpolar\"}],\"pie\":[{\"automargin\":true,\"type\":\"pie\"}]},\"layout\":{\"autotypenumbers\":\"strict\",\"colorway\":[\"#636efa\",\"#EF553B\",\"#00cc96\",\"#ab63fa\",\"#FFA15A\",\"#19d3f3\",\"#FF6692\",\"#B6E880\",\"#FF97FF\",\"#FECB52\"],\"font\":{\"color\":\"#2a3f5f\"},\"hovermode\":\"closest\",\"hoverlabel\":{\"align\":\"left\"},\"paper_bgcolor\":\"white\",\"plot_bgcolor\":\"#E5ECF6\",\"polar\":{\"bgcolor\":\"#E5ECF6\",\"angularaxis\":{\"gridcolor\":\"white\",\"linecolor\":\"white\",\"ticks\":\"\"},\"radialaxis\":{\"gridcolor\":\"white\",\"linecolor\":\"white\",\"ticks\":\"\"}},\"ternary\":{\"bgcolor\":\"#E5ECF6\",\"aaxis\":{\"gridcolor\":\"white\",\"linecolor\":\"white\",\"ticks\":\"\"},\"baxis\":{\"gridcolor\":\"white\",\"linecolor\":\"white\",\"ticks\":\"\"},\"caxis\":{\"gridcolor\":\"white\",\"linecolor\":\"white\",\"ticks\":\"\"}},\"coloraxis\":{\"colorbar\":{\"outlinewidth\":0,\"ticks\":\"\"}},\"colorscale\":{\"sequential\":[[0.0,\"#0d0887\"],[0.1111111111111111,\"#46039f\"],[0.2222222222222222,\"#7201a8\"],[0.3333333333333333,\"#9c179e\"],[0.4444444444444444,\"#bd3786\"],[0.5555555555555556,\"#d8576b\"],[0.6666666666666666,\"#ed7953\"],[0.7777777777777778,\"#fb9f3a\"],[0.8888888888888888,\"#fdca26\"],[1.0,\"#f0f921\"]],\"sequentialminus\":[[0.0,\"#0d0887\"],[0.1111111111111111,\"#46039f\"],[0.2222222222222222,\"#7201a8\"],[0.3333333333333333,\"#9c179e\"],[0.4444444444444444,\"#bd3786\"],[0.5555555555555556,\"#d8576b\"],[0.6666666666666666,\"#ed7953\"],[0.7777777777777778,\"#fb9f3a\"],[0.8888888888888888,\"#fdca26\"],[1.0,\"#f0f921\"]],\"diverging\":[[0,\"#8e0152\"],[0.1,\"#c51b7d\"],[0.2,\"#de77ae\"],[0.3,\"#f1b6da\"],[0.4,\"#fde0ef\"],[0.5,\"#f7f7f7\"],[0.6,\"#e6f5d0\"],[0.7,\"#b8e186\"],[0.8,\"#7fbc41\"],[0.9,\"#4d9221\"],[1,\"#276419\"]]},\"xaxis\":{\"gridcolor\":\"white\",\"linecolor\":\"white\",\"ticks\":\"\",\"title\":{\"standoff\":15},\"zerolinecolor\":\"white\",\"automargin\":true,\"zerolinewidth\":2},\"yaxis\":{\"gridcolor\":\"white\",\"linecolor\":\"white\",\"ticks\":\"\",\"title\":{\"standoff\":15},\"zerolinecolor\":\"white\",\"automargin\":true,\"zerolinewidth\":2},\"scene\":{\"xaxis\":{\"backgroundcolor\":\"#E5ECF6\",\"gridcolor\":\"white\",\"linecolor\":\"white\",\"showbackground\":true,\"ticks\":\"\",\"zerolinecolor\":\"white\",\"gridwidth\":2},\"yaxis\":{\"backgroundcolor\":\"#E5ECF6\",\"gridcolor\":\"white\",\"linecolor\":\"white\",\"showbackground\":true,\"ticks\":\"\",\"zerolinecolor\":\"white\",\"gridwidth\":2},\"zaxis\":{\"backgroundcolor\":\"#E5ECF6\",\"gridcolor\":\"white\",\"linecolor\":\"white\",\"showbackground\":true,\"ticks\":\"\",\"zerolinecolor\":\"white\",\"gridwidth\":2}},\"shapedefaults\":{\"line\":{\"color\":\"#2a3f5f\"}},\"annotationdefaults\":{\"arrowcolor\":\"#2a3f5f\",\"arrowhead\":0,\"arrowwidth\":1},\"geo\":{\"bgcolor\":\"white\",\"landcolor\":\"#E5ECF6\",\"subunitcolor\":\"white\",\"showland\":true,\"showlakes\":true,\"lakecolor\":\"white\"},\"title\":{\"x\":0.05},\"mapbox\":{\"style\":\"light\"}}},\"xaxis\":{\"anchor\":\"y\",\"domain\":[0.0,1.0],\"title\":{\"text\":\"Date\"}},\"yaxis\":{\"anchor\":\"x\",\"domain\":[0.0,1.0],\"title\":{\"text\":\"Total Quantity\"}},\"legend\":{\"tracegroupgap\":0},\"title\":{\"text\":\"Total Quantity per Day\"}},                        {\"responsive\": true}                    ).then(function(){\n",
       "                            \n",
       "var gd = document.getElementById('d4eb96fa-978a-4884-b966-1b2949ae4b3f');\n",
       "var x = new MutationObserver(function (mutations, observer) {{\n",
       "        var display = window.getComputedStyle(gd).display;\n",
       "        if (!display || display === 'none') {{\n",
       "            console.log([gd, 'removed!']);\n",
       "            Plotly.purge(gd);\n",
       "            observer.disconnect();\n",
       "        }}\n",
       "}});\n",
       "\n",
       "// Listen for the removal of the full notebook cells\n",
       "var notebookContainer = gd.closest('#notebook-container');\n",
       "if (notebookContainer) {{\n",
       "    x.observe(notebookContainer, {childList: true});\n",
       "}}\n",
       "\n",
       "// Listen for the clearing of the current output cell\n",
       "var outputEl = gd.closest('.output');\n",
       "if (outputEl) {{\n",
       "    x.observe(outputEl, {childList: true});\n",
       "}}\n",
       "\n",
       "                        })                };            </script>        </div>"
      ]
     },
     "metadata": {},
     "output_type": "display_data"
    }
   ],
   "source": [
    "uk = uk.groupby('Day')['Quantity'].sum().reset_index()\n",
    "\n",
    "fig = px.line(\n",
    "    uk, \n",
    "    x='Day', \n",
    "    y='Quantity', \n",
    "    title='Total Quantity per Day', \n",
    "    labels={'Quantity': 'Total Quantity', 'Day': 'Date'},\n",
    ")\n",
    "\n",
    "fig.show()"
   ]
  },
  {
   "cell_type": "markdown",
   "metadata": {},
   "source": [
    "## 7. Create an interactive scatter plot that plots number of invoices (x-axis) vs. number of customers (y-axis) and the plot points represent individual products. Add two sliders that control the x and y axis ranges."
   ]
  },
  {
   "cell_type": "code",
   "execution_count": 55,
   "metadata": {},
   "outputs": [],
   "source": [
    "uk = data[data['Country']=='United Kingdom']\n",
    "agg_func = {'InvoiceNo':'nunique',\n",
    "            'Quantity':'sum',\n",
    "            'UnitPrice':'mean',\n",
    "            'Revenue':'sum',\n",
    "            'CustomerID':'nunique'}\n",
    "\n",
    "products = uk.groupby('Description').agg(agg_func)"
   ]
  },
  {
   "cell_type": "markdown",
   "metadata": {},
   "source": [
    "## 8. Creat an interactive bar chart that shows revenue by product description. Add a text field widget that filters the results to show the product that contain the text entered in their description."
   ]
  },
  {
   "cell_type": "code",
   "execution_count": 54,
   "metadata": {},
   "outputs": [
    {
     "data": {
      "text/html": [
       "\n",
       "        <iframe\n",
       "            width=\"100%\"\n",
       "            height=\"650\"\n",
       "            src=\"http://127.0.0.1:8050/\"\n",
       "            frameborder=\"0\"\n",
       "            allowfullscreen\n",
       "            \n",
       "        ></iframe>\n",
       "        "
      ],
      "text/plain": [
       "<IPython.lib.display.IFrame at 0x19aa72f1220>"
      ]
     },
     "metadata": {},
     "output_type": "display_data"
    }
   ],
   "source": [
    "revenue_product = data.groupby( 'Description')['Revenue'].sum().reset_index()\n",
    "\n",
    "# Dash App erstellen\n",
    "app = dash.Dash(__name__)\n",
    "\n",
    "# Layout der App\n",
    "app.layout = html.Div([\n",
    "    html.H1('Revenue by Product Description'),\n",
    "\n",
    "    # Textfeld-Widgget zur Eingabe des Textes\n",
    "    dcc.Input(id='text-input', type='text', placeholder='Enter product description to filter'),\n",
    "\n",
    "    # Balkendiagramm (Bar Chart)\n",
    "    dcc.Graph(id='bar-chart'),\n",
    "\n",
    "])\n",
    "\n",
    "# Callback, um das Balkendiagramm basierend auf der Texteingabe zu aktualisieren\n",
    "@app.callback(\n",
    "    dash.dependencies.Output('bar-chart', 'figure'),\n",
    "    [dash.dependencies.Input('text-input', 'value')]\n",
    ")\n",
    "def update_bar_chart(filter_text):\n",
    "    # Wenn der Text im Textfeld leer ist, filtere nicht\n",
    "    if filter_text:\n",
    "        filtered_data = revenue_product[revenue_product['Description'].str.contains(filter_text, case=False, na=False)]\n",
    "    else:\n",
    "        filtered_data = revenue_product\n",
    "\n",
    "    # Erstelle das Balkendiagramm\n",
    "    fig = px.bar(\n",
    "        filtered_data,\n",
    "        x='Description',\n",
    "        y='Revenue',\n",
    "        title='Revenue by Product Description',\n",
    "        labels={'Description': 'Product Description', 'Revenue': 'Revenue'},\n",
    "    )\n",
    "    \n",
    "    # Zeige das Diagramm\n",
    "    return fig\n",
    "\n",
    "# Starte die Dash-App\n",
    "if __name__ == '__main__':\n",
    "    app.run(debug=True)"
   ]
  }
 ],
 "metadata": {
  "kernelspec": {
   "display_name": "Python 3",
   "language": "python",
   "name": "python3"
  },
  "language_info": {
   "codemirror_mode": {
    "name": "ipython",
    "version": 3
   },
   "file_extension": ".py",
   "mimetype": "text/x-python",
   "name": "python",
   "nbconvert_exporter": "python",
   "pygments_lexer": "ipython3",
   "version": "3.13.1"
  }
 },
 "nbformat": 4,
 "nbformat_minor": 2
}
